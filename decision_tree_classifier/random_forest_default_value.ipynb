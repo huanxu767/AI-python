{
 "cells": [
  {
   "cell_type": "code",
   "execution_count": 1,
   "outputs": [],
   "source": [
    "import numpy as np\n",
    "import pandas as pd\n",
    "import matplotlib.pyplot as plt\n",
    "from sklearn.datasets import load_boston\n",
    "from sklearn.impute import SimpleImputer\n",
    "from sklearn.ensemble import RandomForestRegressor\n",
    "from sklearn.model_selection import cross_val_score"
   ],
   "metadata": {
    "collapsed": false,
    "pycharm": {
     "name": "#%%\n"
    }
   }
  },
  {
   "cell_type": "code",
   "execution_count": 3,
   "outputs": [
    {
     "data": {
      "text/plain": "(506, 13)"
     },
     "execution_count": 3,
     "metadata": {},
     "output_type": "execute_result"
    }
   ],
   "source": [
    "dataset = load_boston()\n",
    "dataset.data.shape"
   ],
   "metadata": {
    "collapsed": false,
    "pycharm": {
     "name": "#%%\n"
    }
   }
  },
  {
   "cell_type": "code",
   "execution_count": 5,
   "outputs": [
    {
     "data": {
      "text/plain": "(506, 13)"
     },
     "execution_count": 5,
     "metadata": {},
     "output_type": "execute_result"
    }
   ],
   "source": [
    "x_full,y_full = dataset.data,dataset.target\n",
    "n_sample = x_full.shape[0]\n",
    "n_feature = x_full.shape[1]\n",
    "x_full.shape"
   ],
   "metadata": {
    "collapsed": false,
    "pycharm": {
     "name": "#%%\n"
    }
   }
  },
  {
   "cell_type": "markdown",
   "source": [
    "## 为完整数据放入缺失值\n",
    "确认我们希望放入缺失值等比例，在这里我们假设是50%，那总共就要有3289个数据缺失"
   ],
   "metadata": {
    "collapsed": false,
    "pycharm": {
     "name": "#%% md\n"
    }
   }
  },
  {
   "cell_type": "code",
   "execution_count": 7,
   "outputs": [
    {
     "data": {
      "text/plain": "3289"
     },
     "execution_count": 7,
     "metadata": {},
     "output_type": "execute_result"
    }
   ],
   "source": [
    "rng = np.random.RandomState(0)\n",
    "missing_rate = 0.5\n",
    "n_missing_samples = int(np.floor(n_sample*n_feature*missing_rate))\n",
    "n_missing_samples"
   ],
   "metadata": {
    "collapsed": false,
    "pycharm": {
     "name": "#%%\n"
    }
   }
  },
  {
   "cell_type": "code",
   "execution_count": 30,
   "outputs": [],
   "source": [
    "# n_feature = 13 , n_sample = 506\n",
    "missing_feature = rng.randint(0,n_feature,n_missing_samples)\n",
    "missing_sample = rng.randint(0,n_sample,n_missing_samples)\n",
    "# choice\n",
    "# missing_sample = rng.choice(n_sample,n_missing_samples,replace=false)\n"
   ],
   "metadata": {
    "collapsed": false,
    "pycharm": {
     "name": "#%%\n"
    }
   }
  },
  {
   "cell_type": "code",
   "execution_count": 36,
   "outputs": [],
   "source": [
    "x_missing = x_full.copy()\n",
    "y_missing = y_full.copy()\n",
    "# 测试语法\n",
    "# x_missing[[0,1],[1,2]] = 22\n",
    "# x_missing[[[0,1,2]],[[1,2,3]]] = 22\n",
    "# x_missing"
   ],
   "metadata": {
    "collapsed": false,
    "pycharm": {
     "name": "#%%\n"
    }
   }
  },
  {
   "cell_type": "code",
   "execution_count": 37,
   "outputs": [],
   "source": [
    "x_missing[missing_sample,missing_feature] = np.nan\n",
    "# x_missing"
   ],
   "metadata": {
    "collapsed": false,
    "pycharm": {
     "name": "#%%\n"
    }
   }
  },
  {
   "cell_type": "code",
   "execution_count": 38,
   "outputs": [
    {
     "data": {
      "text/plain": "          0     1      2    3      4      5     6       7    8      9     10  \\\n0    0.00632  18.0    NaN  NaN  0.538    NaN  65.2  4.0900  1.0  296.0  15.3   \n1        NaN   NaN   7.07  0.0  0.469  6.421   NaN  4.9671  NaN  242.0  17.8   \n2    0.02729   0.0   7.07  0.0    NaN    NaN  61.1  4.9671  2.0    NaN   NaN   \n3        NaN   0.0    NaN  NaN  0.458    NaN   NaN     NaN  NaN  222.0   NaN   \n4    0.06905   NaN   2.18  0.0  0.458    NaN  54.2  6.0622  3.0    NaN  18.7   \n..       ...   ...    ...  ...    ...    ...   ...     ...  ...    ...   ...   \n501  0.06263   0.0  11.93  0.0  0.573    NaN  69.1  2.4786  1.0  273.0  21.0   \n502      NaN   0.0  11.93  NaN  0.573  6.120   NaN  2.2875  NaN  273.0  21.0   \n503  0.06076   0.0  11.93  0.0  0.573  6.976  91.0     NaN  NaN    NaN  21.0   \n504  0.10959   NaN  11.93  0.0  0.573  6.794  89.3     NaN  1.0    NaN   NaN   \n505  0.04741   0.0    NaN  0.0    NaN    NaN   NaN  2.5050  NaN  273.0   NaN   \n\n         11    12  \n0       NaN  4.98  \n1    396.90   NaN  \n2    392.83   NaN  \n3       NaN   NaN  \n4    396.90  5.33  \n..      ...   ...  \n501  391.99  9.67  \n502  396.90   NaN  \n503     NaN   NaN  \n504  393.45   NaN  \n505  396.90  7.88  \n\n[506 rows x 13 columns]",
      "text/html": "<div>\n<style scoped>\n    .dataframe tbody tr th:only-of-type {\n        vertical-align: middle;\n    }\n\n    .dataframe tbody tr th {\n        vertical-align: top;\n    }\n\n    .dataframe thead th {\n        text-align: right;\n    }\n</style>\n<table border=\"1\" class=\"dataframe\">\n  <thead>\n    <tr style=\"text-align: right;\">\n      <th></th>\n      <th>0</th>\n      <th>1</th>\n      <th>2</th>\n      <th>3</th>\n      <th>4</th>\n      <th>5</th>\n      <th>6</th>\n      <th>7</th>\n      <th>8</th>\n      <th>9</th>\n      <th>10</th>\n      <th>11</th>\n      <th>12</th>\n    </tr>\n  </thead>\n  <tbody>\n    <tr>\n      <th>0</th>\n      <td>0.00632</td>\n      <td>18.0</td>\n      <td>NaN</td>\n      <td>NaN</td>\n      <td>0.538</td>\n      <td>NaN</td>\n      <td>65.2</td>\n      <td>4.0900</td>\n      <td>1.0</td>\n      <td>296.0</td>\n      <td>15.3</td>\n      <td>NaN</td>\n      <td>4.98</td>\n    </tr>\n    <tr>\n      <th>1</th>\n      <td>NaN</td>\n      <td>NaN</td>\n      <td>7.07</td>\n      <td>0.0</td>\n      <td>0.469</td>\n      <td>6.421</td>\n      <td>NaN</td>\n      <td>4.9671</td>\n      <td>NaN</td>\n      <td>242.0</td>\n      <td>17.8</td>\n      <td>396.90</td>\n      <td>NaN</td>\n    </tr>\n    <tr>\n      <th>2</th>\n      <td>0.02729</td>\n      <td>0.0</td>\n      <td>7.07</td>\n      <td>0.0</td>\n      <td>NaN</td>\n      <td>NaN</td>\n      <td>61.1</td>\n      <td>4.9671</td>\n      <td>2.0</td>\n      <td>NaN</td>\n      <td>NaN</td>\n      <td>392.83</td>\n      <td>NaN</td>\n    </tr>\n    <tr>\n      <th>3</th>\n      <td>NaN</td>\n      <td>0.0</td>\n      <td>NaN</td>\n      <td>NaN</td>\n      <td>0.458</td>\n      <td>NaN</td>\n      <td>NaN</td>\n      <td>NaN</td>\n      <td>NaN</td>\n      <td>222.0</td>\n      <td>NaN</td>\n      <td>NaN</td>\n      <td>NaN</td>\n    </tr>\n    <tr>\n      <th>4</th>\n      <td>0.06905</td>\n      <td>NaN</td>\n      <td>2.18</td>\n      <td>0.0</td>\n      <td>0.458</td>\n      <td>NaN</td>\n      <td>54.2</td>\n      <td>6.0622</td>\n      <td>3.0</td>\n      <td>NaN</td>\n      <td>18.7</td>\n      <td>396.90</td>\n      <td>5.33</td>\n    </tr>\n    <tr>\n      <th>...</th>\n      <td>...</td>\n      <td>...</td>\n      <td>...</td>\n      <td>...</td>\n      <td>...</td>\n      <td>...</td>\n      <td>...</td>\n      <td>...</td>\n      <td>...</td>\n      <td>...</td>\n      <td>...</td>\n      <td>...</td>\n      <td>...</td>\n    </tr>\n    <tr>\n      <th>501</th>\n      <td>0.06263</td>\n      <td>0.0</td>\n      <td>11.93</td>\n      <td>0.0</td>\n      <td>0.573</td>\n      <td>NaN</td>\n      <td>69.1</td>\n      <td>2.4786</td>\n      <td>1.0</td>\n      <td>273.0</td>\n      <td>21.0</td>\n      <td>391.99</td>\n      <td>9.67</td>\n    </tr>\n    <tr>\n      <th>502</th>\n      <td>NaN</td>\n      <td>0.0</td>\n      <td>11.93</td>\n      <td>NaN</td>\n      <td>0.573</td>\n      <td>6.120</td>\n      <td>NaN</td>\n      <td>2.2875</td>\n      <td>NaN</td>\n      <td>273.0</td>\n      <td>21.0</td>\n      <td>396.90</td>\n      <td>NaN</td>\n    </tr>\n    <tr>\n      <th>503</th>\n      <td>0.06076</td>\n      <td>0.0</td>\n      <td>11.93</td>\n      <td>0.0</td>\n      <td>0.573</td>\n      <td>6.976</td>\n      <td>91.0</td>\n      <td>NaN</td>\n      <td>NaN</td>\n      <td>NaN</td>\n      <td>21.0</td>\n      <td>NaN</td>\n      <td>NaN</td>\n    </tr>\n    <tr>\n      <th>504</th>\n      <td>0.10959</td>\n      <td>NaN</td>\n      <td>11.93</td>\n      <td>0.0</td>\n      <td>0.573</td>\n      <td>6.794</td>\n      <td>89.3</td>\n      <td>NaN</td>\n      <td>1.0</td>\n      <td>NaN</td>\n      <td>NaN</td>\n      <td>393.45</td>\n      <td>NaN</td>\n    </tr>\n    <tr>\n      <th>505</th>\n      <td>0.04741</td>\n      <td>0.0</td>\n      <td>NaN</td>\n      <td>0.0</td>\n      <td>NaN</td>\n      <td>NaN</td>\n      <td>NaN</td>\n      <td>2.5050</td>\n      <td>NaN</td>\n      <td>273.0</td>\n      <td>NaN</td>\n      <td>396.90</td>\n      <td>7.88</td>\n    </tr>\n  </tbody>\n</table>\n<p>506 rows × 13 columns</p>\n</div>"
     },
     "execution_count": 38,
     "metadata": {},
     "output_type": "execute_result"
    }
   ],
   "source": [
    "x_missing = pd.DataFrame(x_missing)\n",
    "x_missing"
   ],
   "metadata": {
    "collapsed": false,
    "pycharm": {
     "name": "#%%\n"
    }
   }
  },
  {
   "cell_type": "code",
   "execution_count": 43,
   "outputs": [
    {
     "data": {
      "text/plain": "array([[6.3200e-03, 1.8000e+01, 0.0000e+00, ..., 1.5300e+01, 0.0000e+00,\n        4.9800e+00],\n       [0.0000e+00, 0.0000e+00, 7.0700e+00, ..., 1.7800e+01, 3.9690e+02,\n        0.0000e+00],\n       [2.7290e-02, 0.0000e+00, 7.0700e+00, ..., 0.0000e+00, 3.9283e+02,\n        0.0000e+00],\n       ...,\n       [6.0760e-02, 0.0000e+00, 1.1930e+01, ..., 2.1000e+01, 0.0000e+00,\n        0.0000e+00],\n       [1.0959e-01, 0.0000e+00, 1.1930e+01, ..., 0.0000e+00, 3.9345e+02,\n        0.0000e+00],\n       [4.7410e-02, 0.0000e+00, 0.0000e+00, ..., 0.0000e+00, 3.9690e+02,\n        7.8800e+00]])"
     },
     "execution_count": 43,
     "metadata": {},
     "output_type": "execute_result"
    }
   ],
   "source": [
    "# 使用 平均数 或者中位数 填充Age\n",
    "simple_inputer = SimpleImputer();#默认均值\n",
    "median_inputer = SimpleImputer(strategy=\"median\");#中位数\n",
    "zero_inputer = SimpleImputer(strategy=\"constant\",fill_value=0);#用0填补\n",
    "\n",
    "\n",
    "# x_missing_mean = simple_inputer.fit_transform(x_missing)\n",
    "# x_missing_mean\n",
    "\n",
    "x_missing_zero = zero_inputer.fit_transform(x_missing)\n",
    "x_missing_zero"
   ],
   "metadata": {
    "collapsed": false,
    "pycharm": {
     "name": "#%%\n"
    }
   }
  },
  {
   "cell_type": "code",
   "execution_count": 46,
   "outputs": [
    {
     "data": {
      "text/plain": "0     0\n1     0\n2     0\n3     0\n4     0\n5     0\n6     0\n7     0\n8     0\n9     0\n10    0\n11    0\n12    0\ndtype: int64"
     },
     "execution_count": 46,
     "metadata": {},
     "output_type": "execute_result"
    }
   ],
   "source": [
    "# 检查缺失值\n",
    "x_missing_zero = pd.DataFrame(x_missing_zero)\n",
    "x_missing_zero.isnull().sum()"
   ],
   "metadata": {
    "collapsed": false,
    "pycharm": {
     "name": "#%%\n"
    }
   }
  },
  {
   "cell_type": "code",
   "execution_count": null,
   "outputs": [],
   "source": [],
   "metadata": {
    "collapsed": false,
    "pycharm": {
     "name": "#%%\n"
    }
   }
  }
 ],
 "metadata": {
  "kernelspec": {
   "display_name": "Python 3",
   "language": "python",
   "name": "python3"
  },
  "language_info": {
   "codemirror_mode": {
    "name": "ipython",
    "version": 2
   },
   "file_extension": ".py",
   "mimetype": "text/x-python",
   "name": "python",
   "nbconvert_exporter": "python",
   "pygments_lexer": "ipython2",
   "version": "2.7.6"
  }
 },
 "nbformat": 4,
 "nbformat_minor": 0
}