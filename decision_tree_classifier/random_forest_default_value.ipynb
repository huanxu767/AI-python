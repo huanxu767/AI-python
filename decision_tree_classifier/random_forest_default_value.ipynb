{
 "cells": [
  {
   "cell_type": "code",
   "execution_count": 1,
   "outputs": [],
   "source": [
    "import numpy as np\n",
    "import pandas as pd\n",
    "import matplotlib.pyplot as plt\n",
    "from sklearn.datasets import load_boston\n",
    "from sklearn.impute import SimpleImputer\n",
    "from sklearn.ensemble import RandomForestRegressor\n",
    "from sklearn.model_selection import cross_val_score"
   ],
   "metadata": {
    "collapsed": false,
    "pycharm": {
     "name": "#%%\n"
    }
   }
  },
  {
   "cell_type": "code",
   "execution_count": 2,
   "outputs": [
    {
     "data": {
      "text/plain": "(506, 13)"
     },
     "execution_count": 2,
     "metadata": {},
     "output_type": "execute_result"
    }
   ],
   "source": [
    "dataset = load_boston()\n",
    "dataset.data.shape"
   ],
   "metadata": {
    "collapsed": false,
    "pycharm": {
     "name": "#%%\n"
    }
   }
  },
  {
   "cell_type": "code",
   "execution_count": 3,
   "outputs": [
    {
     "data": {
      "text/plain": "(506, 13)"
     },
     "execution_count": 3,
     "metadata": {},
     "output_type": "execute_result"
    }
   ],
   "source": [
    "x_full,y_full = dataset.data,dataset.target\n",
    "n_sample = x_full.shape[0]\n",
    "n_feature = x_full.shape[1]\n",
    "x_full.shape"
   ],
   "metadata": {
    "collapsed": false,
    "pycharm": {
     "name": "#%%\n"
    }
   }
  },
  {
   "cell_type": "markdown",
   "source": [
    "## 为完整数据放入缺失值\n",
    "确认我们希望放入缺失值等比例，在这里我们假设是50%，那总共就要有3289个数据缺失"
   ],
   "metadata": {
    "collapsed": false,
    "pycharm": {
     "name": "#%% md\n"
    }
   }
  },
  {
   "cell_type": "code",
   "execution_count": 4,
   "outputs": [
    {
     "data": {
      "text/plain": "3289"
     },
     "execution_count": 4,
     "metadata": {},
     "output_type": "execute_result"
    }
   ],
   "source": [
    "rng = np.random.RandomState(0)\n",
    "missing_rate = 0.5\n",
    "n_missing_samples = int(np.floor(n_sample*n_feature*missing_rate))\n",
    "n_missing_samples"
   ],
   "metadata": {
    "collapsed": false,
    "pycharm": {
     "name": "#%%\n"
    }
   }
  },
  {
   "cell_type": "code",
   "execution_count": 5,
   "outputs": [],
   "source": [
    "# n_feature = 13 , n_sample = 506\n",
    "missing_feature = rng.randint(0,n_feature,n_missing_samples)\n",
    "missing_sample = rng.randint(0,n_sample,n_missing_samples)\n",
    "# choice\n",
    "# missing_sample = rng.choice(n_sample,n_missing_samples,replace=false)\n"
   ],
   "metadata": {
    "collapsed": false,
    "pycharm": {
     "name": "#%%\n"
    }
   }
  },
  {
   "cell_type": "code",
   "execution_count": 6,
   "outputs": [],
   "source": [
    "x_missing = x_full.copy()\n",
    "y_missing = y_full.copy()\n",
    "# 测试语法\n",
    "# x_missing[[0,1],[1,2]] = 22\n",
    "# x_missing[[[0,1,2]],[[1,2,3]]] = 22\n",
    "# x_missing"
   ],
   "metadata": {
    "collapsed": false,
    "pycharm": {
     "name": "#%%\n"
    }
   }
  },
  {
   "cell_type": "code",
   "execution_count": 7,
   "outputs": [],
   "source": [
    "x_missing[missing_sample,missing_feature] = np.nan\n",
    "# x_missing"
   ],
   "metadata": {
    "collapsed": false,
    "pycharm": {
     "name": "#%%\n"
    }
   }
  },
  {
   "cell_type": "code",
   "execution_count": 8,
   "outputs": [
    {
     "data": {
      "text/plain": "          0     1      2    3      4      5     6       7    8      9     10  \\\n0        NaN  18.0    NaN  NaN  0.538    NaN  65.2  4.0900  1.0  296.0   NaN   \n1    0.02731   0.0    NaN  0.0  0.469    NaN  78.9  4.9671  2.0    NaN   NaN   \n2    0.02729   NaN   7.07  0.0    NaN  7.185  61.1     NaN  2.0  242.0   NaN   \n3        NaN   NaN    NaN  0.0  0.458    NaN  45.8     NaN  NaN  222.0  18.7   \n4        NaN   0.0   2.18  0.0    NaN  7.147   NaN     NaN  NaN    NaN  18.7   \n..       ...   ...    ...  ...    ...    ...   ...     ...  ...    ...   ...   \n501      NaN   NaN    NaN  0.0  0.573    NaN  69.1     NaN  1.0    NaN  21.0   \n502  0.04527   0.0  11.93  0.0  0.573  6.120  76.7  2.2875  1.0  273.0   NaN   \n503      NaN   NaN  11.93  NaN  0.573  6.976  91.0     NaN  NaN    NaN  21.0   \n504  0.10959   0.0  11.93  NaN  0.573    NaN  89.3     NaN  1.0    NaN  21.0   \n505  0.04741   0.0  11.93  0.0  0.573  6.030   NaN     NaN  1.0    NaN   NaN   \n\n         11    12  \n0       NaN  4.98  \n1    396.90  9.14  \n2       NaN   NaN  \n3       NaN   NaN  \n4       NaN  5.33  \n..      ...   ...  \n501     NaN  9.67  \n502  396.90  9.08  \n503     NaN  5.64  \n504  393.45  6.48  \n505  396.90  7.88  \n\n[506 rows x 13 columns]",
      "text/html": "<div>\n<style scoped>\n    .dataframe tbody tr th:only-of-type {\n        vertical-align: middle;\n    }\n\n    .dataframe tbody tr th {\n        vertical-align: top;\n    }\n\n    .dataframe thead th {\n        text-align: right;\n    }\n</style>\n<table border=\"1\" class=\"dataframe\">\n  <thead>\n    <tr style=\"text-align: right;\">\n      <th></th>\n      <th>0</th>\n      <th>1</th>\n      <th>2</th>\n      <th>3</th>\n      <th>4</th>\n      <th>5</th>\n      <th>6</th>\n      <th>7</th>\n      <th>8</th>\n      <th>9</th>\n      <th>10</th>\n      <th>11</th>\n      <th>12</th>\n    </tr>\n  </thead>\n  <tbody>\n    <tr>\n      <th>0</th>\n      <td>NaN</td>\n      <td>18.0</td>\n      <td>NaN</td>\n      <td>NaN</td>\n      <td>0.538</td>\n      <td>NaN</td>\n      <td>65.2</td>\n      <td>4.0900</td>\n      <td>1.0</td>\n      <td>296.0</td>\n      <td>NaN</td>\n      <td>NaN</td>\n      <td>4.98</td>\n    </tr>\n    <tr>\n      <th>1</th>\n      <td>0.02731</td>\n      <td>0.0</td>\n      <td>NaN</td>\n      <td>0.0</td>\n      <td>0.469</td>\n      <td>NaN</td>\n      <td>78.9</td>\n      <td>4.9671</td>\n      <td>2.0</td>\n      <td>NaN</td>\n      <td>NaN</td>\n      <td>396.90</td>\n      <td>9.14</td>\n    </tr>\n    <tr>\n      <th>2</th>\n      <td>0.02729</td>\n      <td>NaN</td>\n      <td>7.07</td>\n      <td>0.0</td>\n      <td>NaN</td>\n      <td>7.185</td>\n      <td>61.1</td>\n      <td>NaN</td>\n      <td>2.0</td>\n      <td>242.0</td>\n      <td>NaN</td>\n      <td>NaN</td>\n      <td>NaN</td>\n    </tr>\n    <tr>\n      <th>3</th>\n      <td>NaN</td>\n      <td>NaN</td>\n      <td>NaN</td>\n      <td>0.0</td>\n      <td>0.458</td>\n      <td>NaN</td>\n      <td>45.8</td>\n      <td>NaN</td>\n      <td>NaN</td>\n      <td>222.0</td>\n      <td>18.7</td>\n      <td>NaN</td>\n      <td>NaN</td>\n    </tr>\n    <tr>\n      <th>4</th>\n      <td>NaN</td>\n      <td>0.0</td>\n      <td>2.18</td>\n      <td>0.0</td>\n      <td>NaN</td>\n      <td>7.147</td>\n      <td>NaN</td>\n      <td>NaN</td>\n      <td>NaN</td>\n      <td>NaN</td>\n      <td>18.7</td>\n      <td>NaN</td>\n      <td>5.33</td>\n    </tr>\n    <tr>\n      <th>...</th>\n      <td>...</td>\n      <td>...</td>\n      <td>...</td>\n      <td>...</td>\n      <td>...</td>\n      <td>...</td>\n      <td>...</td>\n      <td>...</td>\n      <td>...</td>\n      <td>...</td>\n      <td>...</td>\n      <td>...</td>\n      <td>...</td>\n    </tr>\n    <tr>\n      <th>501</th>\n      <td>NaN</td>\n      <td>NaN</td>\n      <td>NaN</td>\n      <td>0.0</td>\n      <td>0.573</td>\n      <td>NaN</td>\n      <td>69.1</td>\n      <td>NaN</td>\n      <td>1.0</td>\n      <td>NaN</td>\n      <td>21.0</td>\n      <td>NaN</td>\n      <td>9.67</td>\n    </tr>\n    <tr>\n      <th>502</th>\n      <td>0.04527</td>\n      <td>0.0</td>\n      <td>11.93</td>\n      <td>0.0</td>\n      <td>0.573</td>\n      <td>6.120</td>\n      <td>76.7</td>\n      <td>2.2875</td>\n      <td>1.0</td>\n      <td>273.0</td>\n      <td>NaN</td>\n      <td>396.90</td>\n      <td>9.08</td>\n    </tr>\n    <tr>\n      <th>503</th>\n      <td>NaN</td>\n      <td>NaN</td>\n      <td>11.93</td>\n      <td>NaN</td>\n      <td>0.573</td>\n      <td>6.976</td>\n      <td>91.0</td>\n      <td>NaN</td>\n      <td>NaN</td>\n      <td>NaN</td>\n      <td>21.0</td>\n      <td>NaN</td>\n      <td>5.64</td>\n    </tr>\n    <tr>\n      <th>504</th>\n      <td>0.10959</td>\n      <td>0.0</td>\n      <td>11.93</td>\n      <td>NaN</td>\n      <td>0.573</td>\n      <td>NaN</td>\n      <td>89.3</td>\n      <td>NaN</td>\n      <td>1.0</td>\n      <td>NaN</td>\n      <td>21.0</td>\n      <td>393.45</td>\n      <td>6.48</td>\n    </tr>\n    <tr>\n      <th>505</th>\n      <td>0.04741</td>\n      <td>0.0</td>\n      <td>11.93</td>\n      <td>0.0</td>\n      <td>0.573</td>\n      <td>6.030</td>\n      <td>NaN</td>\n      <td>NaN</td>\n      <td>1.0</td>\n      <td>NaN</td>\n      <td>NaN</td>\n      <td>396.90</td>\n      <td>7.88</td>\n    </tr>\n  </tbody>\n</table>\n<p>506 rows × 13 columns</p>\n</div>"
     },
     "execution_count": 8,
     "metadata": {},
     "output_type": "execute_result"
    }
   ],
   "source": [
    "x_missing = pd.DataFrame(x_missing)\n",
    "x_missing"
   ],
   "metadata": {
    "collapsed": false,
    "pycharm": {
     "name": "#%%\n"
    }
   }
  },
  {
   "cell_type": "code",
   "execution_count": 9,
   "outputs": [
    {
     "data": {
      "text/plain": "array([[0.0000e+00, 1.8000e+01, 0.0000e+00, ..., 0.0000e+00, 0.0000e+00,\n        4.9800e+00],\n       [2.7310e-02, 0.0000e+00, 0.0000e+00, ..., 0.0000e+00, 3.9690e+02,\n        9.1400e+00],\n       [2.7290e-02, 0.0000e+00, 7.0700e+00, ..., 0.0000e+00, 0.0000e+00,\n        0.0000e+00],\n       ...,\n       [0.0000e+00, 0.0000e+00, 1.1930e+01, ..., 2.1000e+01, 0.0000e+00,\n        5.6400e+00],\n       [1.0959e-01, 0.0000e+00, 1.1930e+01, ..., 2.1000e+01, 3.9345e+02,\n        6.4800e+00],\n       [4.7410e-02, 0.0000e+00, 1.1930e+01, ..., 0.0000e+00, 3.9690e+02,\n        7.8800e+00]])"
     },
     "execution_count": 9,
     "metadata": {},
     "output_type": "execute_result"
    }
   ],
   "source": [
    "# 使用 平均数 或者中位数 填充Age\n",
    "simple_inputer = SimpleImputer();#默认均值\n",
    "median_inputer = SimpleImputer(strategy=\"median\");#中位数\n",
    "zero_inputer = SimpleImputer(strategy=\"constant\",fill_value=0);#用0填补\n",
    "\n",
    "\n",
    "x_missing_mean = simple_inputer.fit_transform(x_missing)\n",
    "x_missing_mean\n",
    "\n",
    "x_missing_zero = zero_inputer.fit_transform(x_missing)\n",
    "x_missing_zero"
   ],
   "metadata": {
    "collapsed": false,
    "pycharm": {
     "name": "#%%\n"
    }
   }
  },
  {
   "cell_type": "code",
   "execution_count": 10,
   "outputs": [
    {
     "data": {
      "text/plain": "0     0\n1     0\n2     0\n3     0\n4     0\n5     0\n6     0\n7     0\n8     0\n9     0\n10    0\n11    0\n12    0\ndtype: int64"
     },
     "execution_count": 10,
     "metadata": {},
     "output_type": "execute_result"
    }
   ],
   "source": [
    "# 检查缺失值\n",
    "x_missing_zero = pd.DataFrame(x_missing_zero)\n",
    "x_missing_zero.isnull().sum()"
   ],
   "metadata": {
    "collapsed": false,
    "pycharm": {
     "name": "#%%\n"
    }
   }
  },
  {
   "cell_type": "code",
   "execution_count": 11,
   "outputs": [],
   "source": [
    "# 从缺失值最小的纬度开始 填补缺失值\n",
    "x_missing_reg = x_missing.copy()\n",
    "sort_index = np.argsort(x_missing.isnull().sum(axis=0)).values"
   ],
   "metadata": {
    "collapsed": false,
    "pycharm": {
     "name": "#%%\n"
    }
   }
  },
  {
   "cell_type": "code",
   "execution_count": 12,
   "outputs": [],
   "source": [
    "# 构建我们新特征矩阵 和新标签\n",
    "for i in sort_index:\n",
    "    df = x_missing_reg\n",
    "    fill_c = df.iloc[:,i]\n",
    "    df_change = pd.concat([df.iloc[:,df.columns != i],pd.DataFrame(y_full)],axis=1)\n",
    "    df_0 = SimpleImputer(missing_values=np.nan,strategy=\"constant\",fill_value=0).fit_transform(df_change)\n",
    "    # 找出 训练集 和测试集\n",
    "    Y_train = fill_c[fill_c.notnull()]\n",
    "    Y_test = fill_c[fill_c.isnull()]\n",
    "    X_train = df_0[Y_train.index,:]\n",
    "    X_test = df_0[Y_test.index,:]\n",
    "\n",
    "    rfc = RandomForestRegressor(n_estimators=100)\n",
    "    rfc = rfc.fit(X_train,Y_train)\n",
    "    Y_predict = rfc.predict(X_test)\n",
    "    # 回填数据\n",
    "    x_missing_reg.loc[x_missing_reg.iloc[:,i].isnull(),i] = Y_predict"
   ],
   "metadata": {
    "collapsed": false,
    "pycharm": {
     "name": "#%%\n"
    }
   }
  },
  {
   "cell_type": "code",
   "execution_count": 13,
   "outputs": [
    {
     "data": {
      "text/plain": "           0      1        2     3         4        5       6         7   \\\n0    0.204215  18.00   7.8378  0.15  0.538000  6.65918  65.200  4.090000   \n1    0.027310   0.00   6.0169  0.00  0.469000  6.13931  78.900  4.967100   \n2    0.027290  12.37   7.0700  0.00  0.464818  7.18500  61.100  4.170471   \n3    0.090136  13.54   3.2866  0.00  0.458000  6.92786  45.800  4.649936   \n4    0.066326   0.00   2.1800  0.00  0.463355  7.14700  55.128  4.804245   \n..        ...    ...      ...   ...       ...      ...     ...       ...   \n501  0.451253   3.01  10.4209  0.00  0.573000  6.23882  69.100  2.807129   \n502  0.045270   0.00  11.9300  0.00  0.573000  6.12000  76.700  2.287500   \n503  0.478751   2.11  11.9300  0.39  0.573000  6.97600  91.000  2.585735   \n504  0.109590   0.00  11.9300  0.10  0.573000  6.37188  89.300  2.699641   \n505  0.047410   0.00  11.9300  0.00  0.573000  6.03000  88.157  2.967465   \n\n       8       9       10        11      12  \n0    1.00  296.00  17.926  387.6995  4.9800  \n1    2.00  289.07  18.384  396.9000  9.1400  \n2    2.00  242.00  17.994  386.8455  5.1511  \n3    3.54  222.00  18.700  393.0248  5.7014  \n4    3.79  255.27  18.700  394.2006  5.3300  \n..    ...     ...     ...       ...     ...  \n501  1.00  275.92  21.000  390.5999  9.6700  \n502  1.00  273.00  19.040  396.9000  9.0800  \n503  3.48  276.39  21.000  389.7968  5.6400  \n504  1.00  253.47  21.000  393.4500  6.4800  \n505  1.00  356.66  18.645  396.9000  7.8800  \n\n[506 rows x 13 columns]",
      "text/html": "<div>\n<style scoped>\n    .dataframe tbody tr th:only-of-type {\n        vertical-align: middle;\n    }\n\n    .dataframe tbody tr th {\n        vertical-align: top;\n    }\n\n    .dataframe thead th {\n        text-align: right;\n    }\n</style>\n<table border=\"1\" class=\"dataframe\">\n  <thead>\n    <tr style=\"text-align: right;\">\n      <th></th>\n      <th>0</th>\n      <th>1</th>\n      <th>2</th>\n      <th>3</th>\n      <th>4</th>\n      <th>5</th>\n      <th>6</th>\n      <th>7</th>\n      <th>8</th>\n      <th>9</th>\n      <th>10</th>\n      <th>11</th>\n      <th>12</th>\n    </tr>\n  </thead>\n  <tbody>\n    <tr>\n      <th>0</th>\n      <td>0.204215</td>\n      <td>18.00</td>\n      <td>7.8378</td>\n      <td>0.15</td>\n      <td>0.538000</td>\n      <td>6.65918</td>\n      <td>65.200</td>\n      <td>4.090000</td>\n      <td>1.00</td>\n      <td>296.00</td>\n      <td>17.926</td>\n      <td>387.6995</td>\n      <td>4.9800</td>\n    </tr>\n    <tr>\n      <th>1</th>\n      <td>0.027310</td>\n      <td>0.00</td>\n      <td>6.0169</td>\n      <td>0.00</td>\n      <td>0.469000</td>\n      <td>6.13931</td>\n      <td>78.900</td>\n      <td>4.967100</td>\n      <td>2.00</td>\n      <td>289.07</td>\n      <td>18.384</td>\n      <td>396.9000</td>\n      <td>9.1400</td>\n    </tr>\n    <tr>\n      <th>2</th>\n      <td>0.027290</td>\n      <td>12.37</td>\n      <td>7.0700</td>\n      <td>0.00</td>\n      <td>0.464818</td>\n      <td>7.18500</td>\n      <td>61.100</td>\n      <td>4.170471</td>\n      <td>2.00</td>\n      <td>242.00</td>\n      <td>17.994</td>\n      <td>386.8455</td>\n      <td>5.1511</td>\n    </tr>\n    <tr>\n      <th>3</th>\n      <td>0.090136</td>\n      <td>13.54</td>\n      <td>3.2866</td>\n      <td>0.00</td>\n      <td>0.458000</td>\n      <td>6.92786</td>\n      <td>45.800</td>\n      <td>4.649936</td>\n      <td>3.54</td>\n      <td>222.00</td>\n      <td>18.700</td>\n      <td>393.0248</td>\n      <td>5.7014</td>\n    </tr>\n    <tr>\n      <th>4</th>\n      <td>0.066326</td>\n      <td>0.00</td>\n      <td>2.1800</td>\n      <td>0.00</td>\n      <td>0.463355</td>\n      <td>7.14700</td>\n      <td>55.128</td>\n      <td>4.804245</td>\n      <td>3.79</td>\n      <td>255.27</td>\n      <td>18.700</td>\n      <td>394.2006</td>\n      <td>5.3300</td>\n    </tr>\n    <tr>\n      <th>...</th>\n      <td>...</td>\n      <td>...</td>\n      <td>...</td>\n      <td>...</td>\n      <td>...</td>\n      <td>...</td>\n      <td>...</td>\n      <td>...</td>\n      <td>...</td>\n      <td>...</td>\n      <td>...</td>\n      <td>...</td>\n      <td>...</td>\n    </tr>\n    <tr>\n      <th>501</th>\n      <td>0.451253</td>\n      <td>3.01</td>\n      <td>10.4209</td>\n      <td>0.00</td>\n      <td>0.573000</td>\n      <td>6.23882</td>\n      <td>69.100</td>\n      <td>2.807129</td>\n      <td>1.00</td>\n      <td>275.92</td>\n      <td>21.000</td>\n      <td>390.5999</td>\n      <td>9.6700</td>\n    </tr>\n    <tr>\n      <th>502</th>\n      <td>0.045270</td>\n      <td>0.00</td>\n      <td>11.9300</td>\n      <td>0.00</td>\n      <td>0.573000</td>\n      <td>6.12000</td>\n      <td>76.700</td>\n      <td>2.287500</td>\n      <td>1.00</td>\n      <td>273.00</td>\n      <td>19.040</td>\n      <td>396.9000</td>\n      <td>9.0800</td>\n    </tr>\n    <tr>\n      <th>503</th>\n      <td>0.478751</td>\n      <td>2.11</td>\n      <td>11.9300</td>\n      <td>0.39</td>\n      <td>0.573000</td>\n      <td>6.97600</td>\n      <td>91.000</td>\n      <td>2.585735</td>\n      <td>3.48</td>\n      <td>276.39</td>\n      <td>21.000</td>\n      <td>389.7968</td>\n      <td>5.6400</td>\n    </tr>\n    <tr>\n      <th>504</th>\n      <td>0.109590</td>\n      <td>0.00</td>\n      <td>11.9300</td>\n      <td>0.10</td>\n      <td>0.573000</td>\n      <td>6.37188</td>\n      <td>89.300</td>\n      <td>2.699641</td>\n      <td>1.00</td>\n      <td>253.47</td>\n      <td>21.000</td>\n      <td>393.4500</td>\n      <td>6.4800</td>\n    </tr>\n    <tr>\n      <th>505</th>\n      <td>0.047410</td>\n      <td>0.00</td>\n      <td>11.9300</td>\n      <td>0.00</td>\n      <td>0.573000</td>\n      <td>6.03000</td>\n      <td>88.157</td>\n      <td>2.967465</td>\n      <td>1.00</td>\n      <td>356.66</td>\n      <td>18.645</td>\n      <td>396.9000</td>\n      <td>7.8800</td>\n    </tr>\n  </tbody>\n</table>\n<p>506 rows × 13 columns</p>\n</div>"
     },
     "execution_count": 13,
     "metadata": {},
     "output_type": "execute_result"
    }
   ],
   "source": [
    "x_missing_reg"
   ],
   "metadata": {
    "collapsed": false,
    "pycharm": {
     "name": "#%%\n"
    }
   }
  },
  {
   "cell_type": "code",
   "execution_count": 14,
   "outputs": [],
   "source": [
    "X = [x_full,x_missing_mean,x_missing_zero,x_missing_reg]\n",
    "mse = []\n",
    "for x in X:\n",
    "    estimator = RandomForestRegressor(random_state=0,n_estimators=100)\n",
    "    scores = cross_val_score(estimator,x,y_full,scoring=\"neg_mean_squared_error\",cv=5).mean()\n",
    "    mse.append(scores * -1)"
   ],
   "metadata": {
    "collapsed": false,
    "pycharm": {
     "name": "#%%\n"
    }
   }
  },
  {
   "cell_type": "code",
   "execution_count": 15,
   "outputs": [
    {
     "data": {
      "text/plain": "[('x_full', 21.571667100368845),\n ('x_missing_mean', 40.848037216676374),\n ('x_missing_zero', 49.626793201980185),\n ('x_missing_reg', 20.045496660706654)]"
     },
     "execution_count": 15,
     "metadata": {},
     "output_type": "execute_result"
    }
   ],
   "source": [
    "[*zip([\"x_full\",\"x_missing_mean\",\"x_missing_zero\",\"x_missing_reg\"],mse)]"
   ],
   "metadata": {
    "collapsed": false,
    "pycharm": {
     "name": "#%%\n"
    }
   }
  },
  {
   "cell_type": "code",
   "execution_count": 17,
   "outputs": [
    {
     "name": "stderr",
     "output_type": "stream",
     "text": [
      "/Users/xuhuan/opt/anaconda3/envs/Ai-python/lib/python3.6/site-packages/ipykernel_launcher.py:11: UserWarning: FixedFormatter should only be used together with FixedLocator\n",
      "  # This is added back by InteractiveShellApp.init_path()\n"
     ]
    },
    {
     "data": {
      "text/plain": "<Figure size 864x432 with 1 Axes>",
      "image/png": "[encoded data removed]"
     },
     "metadata": {
      "needs_background": "light"
     },
     "output_type": "display_data"
    }
   ],
   "source": [
    "x_labels = ['Full Data','Mean Imputation','Zero Imputation','Regressor Imputation']\n",
    "colors = ['r','g','b','orange']\n",
    "plt.figure(figsize=(12,6))\n",
    "ax = plt.subplot(111)\n",
    "for i in np.arange(len(mse)):\n",
    "    ax.barh(i,mse[i],color = colors[i],alpha=0.6,align='center')\n",
    "ax.set_title('imputation techniques with boston data')\n",
    "ax.set_xlim(left=np.min(mse) * 0.9,right= np.max(mse) * 1.1 )\n",
    "ax.set_xlabel(\"mse\")\n",
    "ax.invert_yaxis()\n",
    "ax.set_yticklabels(x_labels)\n",
    "plt.show()\n"
   ],
   "metadata": {
    "collapsed": false,
    "pycharm": {
     "name": "#%%\n"
    }
   }
  },
  {
   "cell_type": "code",
   "execution_count": null,
   "outputs": [],
   "source": [],
   "metadata": {
    "collapsed": false,
    "pycharm": {
     "name": "#%%\n"
    }
   }
  }
 ],
 "metadata": {
  "kernelspec": {
   "display_name": "Python 3",
   "language": "python",
   "name": "python3"
  },
  "language_info": {
   "codemirror_mode": {
    "name": "ipython",
    "version": 2
   },
   "file_extension": ".py",
   "mimetype": "text/x-python",
   "name": "python",
   "nbconvert_exporter": "python",
   "pygments_lexer": "ipython2",
   "version": "2.7.6"
  }
 },
 "nbformat": 4,
 "nbformat_minor": 0
}