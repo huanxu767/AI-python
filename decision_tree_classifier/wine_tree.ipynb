{
 "cells": [
  {
   "cell_type": "markdown",
   "source": [
    "https://blog.csdn.net/weixin_43734095/article/details/113783669"
   ],
   "metadata": {
    "collapsed": false,
    "pycharm": {
     "name": "#%% md\n"
    }
   }
  },
  {
   "cell_type": "code",
   "execution_count": 1,
   "outputs": [],
   "source": [
    "from sklearn import tree\n",
    "from sklearn.datasets import load_wine\n",
    "from sklearn.model_selection import train_test_split"
   ],
   "metadata": {
    "collapsed": false,
    "pycharm": {
     "name": "#%%\n"
    }
   }
  },
  {
   "cell_type": "code",
   "execution_count": 2,
   "outputs": [
    {
     "data": {
      "text/plain": "{'data': array([[1.423e+01, 1.710e+00, 2.430e+00, ..., 1.040e+00, 3.920e+00,\n         1.065e+03],\n        [1.320e+01, 1.780e+00, 2.140e+00, ..., 1.050e+00, 3.400e+00,\n         1.050e+03],\n        [1.316e+01, 2.360e+00, 2.670e+00, ..., 1.030e+00, 3.170e+00,\n         1.185e+03],\n        ...,\n        [1.327e+01, 4.280e+00, 2.260e+00, ..., 5.900e-01, 1.560e+00,\n         8.350e+02],\n        [1.317e+01, 2.590e+00, 2.370e+00, ..., 6.000e-01, 1.620e+00,\n         8.400e+02],\n        [1.413e+01, 4.100e+00, 2.740e+00, ..., 6.100e-01, 1.600e+00,\n         5.600e+02]]),\n 'target': array([0, 0, 0, 0, 0, 0, 0, 0, 0, 0, 0, 0, 0, 0, 0, 0, 0, 0, 0, 0, 0, 0,\n        0, 0, 0, 0, 0, 0, 0, 0, 0, 0, 0, 0, 0, 0, 0, 0, 0, 0, 0, 0, 0, 0,\n        0, 0, 0, 0, 0, 0, 0, 0, 0, 0, 0, 0, 0, 0, 0, 1, 1, 1, 1, 1, 1, 1,\n        1, 1, 1, 1, 1, 1, 1, 1, 1, 1, 1, 1, 1, 1, 1, 1, 1, 1, 1, 1, 1, 1,\n        1, 1, 1, 1, 1, 1, 1, 1, 1, 1, 1, 1, 1, 1, 1, 1, 1, 1, 1, 1, 1, 1,\n        1, 1, 1, 1, 1, 1, 1, 1, 1, 1, 1, 1, 1, 1, 1, 1, 1, 1, 1, 1, 2, 2,\n        2, 2, 2, 2, 2, 2, 2, 2, 2, 2, 2, 2, 2, 2, 2, 2, 2, 2, 2, 2, 2, 2,\n        2, 2, 2, 2, 2, 2, 2, 2, 2, 2, 2, 2, 2, 2, 2, 2, 2, 2, 2, 2, 2, 2,\n        2, 2]),\n 'frame': None,\n 'target_names': array(['class_0', 'class_1', 'class_2'], dtype='<U7'),\n 'DESCR': '.. _wine_dataset:\\n\\nWine recognition dataset\\n------------------------\\n\\n**Data Set Characteristics:**\\n\\n    :Number of Instances: 178 (50 in each of three classes)\\n    :Number of Attributes: 13 numeric, predictive attributes and the class\\n    :Attribute Information:\\n \\t\\t- Alcohol\\n \\t\\t- Malic acid\\n \\t\\t- Ash\\n\\t\\t- Alcalinity of ash  \\n \\t\\t- Magnesium\\n\\t\\t- Total phenols\\n \\t\\t- Flavanoids\\n \\t\\t- Nonflavanoid phenols\\n \\t\\t- Proanthocyanins\\n\\t\\t- Color intensity\\n \\t\\t- Hue\\n \\t\\t- OD280/OD315 of diluted wines\\n \\t\\t- Proline\\n\\n    - class:\\n            - class_0\\n            - class_1\\n            - class_2\\n\\t\\t\\n    :Summary Statistics:\\n    \\n    ============================= ==== ===== ======= =====\\n                                   Min   Max   Mean     SD\\n    ============================= ==== ===== ======= =====\\n    Alcohol:                      11.0  14.8    13.0   0.8\\n    Malic Acid:                   0.74  5.80    2.34  1.12\\n    Ash:                          1.36  3.23    2.36  0.27\\n    Alcalinity of Ash:            10.6  30.0    19.5   3.3\\n    Magnesium:                    70.0 162.0    99.7  14.3\\n    Total Phenols:                0.98  3.88    2.29  0.63\\n    Flavanoids:                   0.34  5.08    2.03  1.00\\n    Nonflavanoid Phenols:         0.13  0.66    0.36  0.12\\n    Proanthocyanins:              0.41  3.58    1.59  0.57\\n    Colour Intensity:              1.3  13.0     5.1   2.3\\n    Hue:                          0.48  1.71    0.96  0.23\\n    OD280/OD315 of diluted wines: 1.27  4.00    2.61  0.71\\n    Proline:                       278  1680     746   315\\n    ============================= ==== ===== ======= =====\\n\\n    :Missing Attribute Values: None\\n    :Class Distribution: class_0 (59), class_1 (71), class_2 (48)\\n    :Creator: R.A. Fisher\\n    :Donor: Michael Marshall (MARSHALL%PLU@io.arc.nasa.gov)\\n    :Date: July, 1988\\n\\nThis is a copy of UCI ML Wine recognition datasets.\\nhttps://archive.ics.uci.edu/ml/machine-learning-databases/wine/wine.data\\n\\nThe data is the results of a chemical analysis of wines grown in the same\\nregion in Italy by three different cultivators. There are thirteen different\\nmeasurements taken for different constituents found in the three types of\\nwine.\\n\\nOriginal Owners: \\n\\nForina, M. et al, PARVUS - \\nAn Extendible Package for Data Exploration, Classification and Correlation. \\nInstitute of Pharmaceutical and Food Analysis and Technologies,\\nVia Brigata Salerno, 16147 Genoa, Italy.\\n\\nCitation:\\n\\nLichman, M. (2013). UCI Machine Learning Repository\\n[https://archive.ics.uci.edu/ml]. Irvine, CA: University of California,\\nSchool of Information and Computer Science. \\n\\n.. topic:: References\\n\\n  (1) S. Aeberhard, D. Coomans and O. de Vel, \\n  Comparison of Classifiers in High Dimensional Settings, \\n  Tech. Rep. no. 92-02, (1992), Dept. of Computer Science and Dept. of  \\n  Mathematics and Statistics, James Cook University of North Queensland. \\n  (Also submitted to Technometrics). \\n\\n  The data was used with many others for comparing various \\n  classifiers. The classes are separable, though only RDA \\n  has achieved 100% correct classification. \\n  (RDA : 100%, QDA 99.4%, LDA 98.9%, 1NN 96.1% (z-transformed data)) \\n  (All results using the leave-one-out technique) \\n\\n  (2) S. Aeberhard, D. Coomans and O. de Vel, \\n  \"THE CLASSIFICATION PERFORMANCE OF RDA\" \\n  Tech. Rep. no. 92-01, (1992), Dept. of Computer Science and Dept. of \\n  Mathematics and Statistics, James Cook University of North Queensland. \\n  (Also submitted to Journal of Chemometrics).\\n',\n 'feature_names': ['alcohol',\n  'malic_acid',\n  'ash',\n  'alcalinity_of_ash',\n  'magnesium',\n  'total_phenols',\n  'flavanoids',\n  'nonflavanoid_phenols',\n  'proanthocyanins',\n  'color_intensity',\n  'hue',\n  'od280/od315_of_diluted_wines',\n  'proline']}"
     },
     "execution_count": 2,
     "metadata": {},
     "output_type": "execute_result"
    }
   ],
   "source": [
    "wine = load_wine() #读取红酒数据集\n",
    "wine\n",
    "# wine.data #特征数据"
   ],
   "metadata": {
    "collapsed": false,
    "pycharm": {
     "name": "#%%\n"
    }
   }
  },
  {
   "cell_type": "code",
   "execution_count": 3,
   "outputs": [
    {
     "data": {
      "text/plain": "array([0, 0, 0, 0, 0, 0, 0, 0, 0, 0, 0, 0, 0, 0, 0, 0, 0, 0, 0, 0, 0, 0,\n       0, 0, 0, 0, 0, 0, 0, 0, 0, 0, 0, 0, 0, 0, 0, 0, 0, 0, 0, 0, 0, 0,\n       0, 0, 0, 0, 0, 0, 0, 0, 0, 0, 0, 0, 0, 0, 0, 1, 1, 1, 1, 1, 1, 1,\n       1, 1, 1, 1, 1, 1, 1, 1, 1, 1, 1, 1, 1, 1, 1, 1, 1, 1, 1, 1, 1, 1,\n       1, 1, 1, 1, 1, 1, 1, 1, 1, 1, 1, 1, 1, 1, 1, 1, 1, 1, 1, 1, 1, 1,\n       1, 1, 1, 1, 1, 1, 1, 1, 1, 1, 1, 1, 1, 1, 1, 1, 1, 1, 1, 1, 2, 2,\n       2, 2, 2, 2, 2, 2, 2, 2, 2, 2, 2, 2, 2, 2, 2, 2, 2, 2, 2, 2, 2, 2,\n       2, 2, 2, 2, 2, 2, 2, 2, 2, 2, 2, 2, 2, 2, 2, 2, 2, 2, 2, 2, 2, 2,\n       2, 2])"
     },
     "execution_count": 3,
     "metadata": {},
     "output_type": "execute_result"
    }
   ],
   "source": [
    "wine.target # 标签"
   ],
   "metadata": {
    "collapsed": false,
    "pycharm": {
     "name": "#%%\n"
    }
   }
  },
  {
   "cell_type": "code",
   "execution_count": 4,
   "outputs": [
    {
     "data": {
      "text/plain": "['alcohol',\n 'malic_acid',\n 'ash',\n 'alcalinity_of_ash',\n 'magnesium',\n 'total_phenols',\n 'flavanoids',\n 'nonflavanoid_phenols',\n 'proanthocyanins',\n 'color_intensity',\n 'hue',\n 'od280/od315_of_diluted_wines',\n 'proline']"
     },
     "execution_count": 4,
     "metadata": {},
     "output_type": "execute_result"
    }
   ],
   "source": [
    "wine.feature_names #特征名"
   ],
   "metadata": {
    "collapsed": false,
    "pycharm": {
     "name": "#%%\n"
    }
   }
  },
  {
   "cell_type": "code",
   "execution_count": 5,
   "outputs": [
    {
     "data": {
      "text/plain": "array(['class_0', 'class_1', 'class_2'], dtype='<U7')"
     },
     "execution_count": 5,
     "metadata": {},
     "output_type": "execute_result"
    }
   ],
   "source": [
    "wine.target_names #标签名"
   ],
   "metadata": {
    "collapsed": false,
    "pycharm": {
     "name": "#%%\n"
    }
   }
  },
  {
   "cell_type": "code",
   "execution_count": 5,
   "outputs": [
    {
     "data": {
      "text/plain": "        0     1     2     3      4     5     6     7     8      9     10  \\\n0    14.23  1.71  2.43  15.6  127.0  2.80  3.06  0.28  2.29   5.64  1.04   \n1    13.20  1.78  2.14  11.2  100.0  2.65  2.76  0.26  1.28   4.38  1.05   \n2    13.16  2.36  2.67  18.6  101.0  2.80  3.24  0.30  2.81   5.68  1.03   \n3    14.37  1.95  2.50  16.8  113.0  3.85  3.49  0.24  2.18   7.80  0.86   \n4    13.24  2.59  2.87  21.0  118.0  2.80  2.69  0.39  1.82   4.32  1.04   \n..     ...   ...   ...   ...    ...   ...   ...   ...   ...    ...   ...   \n173  13.71  5.65  2.45  20.5   95.0  1.68  0.61  0.52  1.06   7.70  0.64   \n174  13.40  3.91  2.48  23.0  102.0  1.80  0.75  0.43  1.41   7.30  0.70   \n175  13.27  4.28  2.26  20.0  120.0  1.59  0.69  0.43  1.35  10.20  0.59   \n176  13.17  2.59  2.37  20.0  120.0  1.65  0.68  0.53  1.46   9.30  0.60   \n177  14.13  4.10  2.74  24.5   96.0  2.05  0.76  0.56  1.35   9.20  0.61   \n\n       11      12  0   \n0    3.92  1065.0   0  \n1    3.40  1050.0   0  \n2    3.17  1185.0   0  \n3    3.45  1480.0   0  \n4    2.93   735.0   0  \n..    ...     ...  ..  \n173  1.74   740.0   2  \n174  1.56   750.0   2  \n175  1.56   835.0   2  \n176  1.62   840.0   2  \n177  1.60   560.0   2  \n\n[178 rows x 14 columns]",
      "text/html": "<div>\n<style scoped>\n    .dataframe tbody tr th:only-of-type {\n        vertical-align: middle;\n    }\n\n    .dataframe tbody tr th {\n        vertical-align: top;\n    }\n\n    .dataframe thead th {\n        text-align: right;\n    }\n</style>\n<table border=\"1\" class=\"dataframe\">\n  <thead>\n    <tr style=\"text-align: right;\">\n      <th></th>\n      <th>0</th>\n      <th>1</th>\n      <th>2</th>\n      <th>3</th>\n      <th>4</th>\n      <th>5</th>\n      <th>6</th>\n      <th>7</th>\n      <th>8</th>\n      <th>9</th>\n      <th>10</th>\n      <th>11</th>\n      <th>12</th>\n      <th>0</th>\n    </tr>\n  </thead>\n  <tbody>\n    <tr>\n      <th>0</th>\n      <td>14.23</td>\n      <td>1.71</td>\n      <td>2.43</td>\n      <td>15.6</td>\n      <td>127.0</td>\n      <td>2.80</td>\n      <td>3.06</td>\n      <td>0.28</td>\n      <td>2.29</td>\n      <td>5.64</td>\n      <td>1.04</td>\n      <td>3.92</td>\n      <td>1065.0</td>\n      <td>0</td>\n    </tr>\n    <tr>\n      <th>1</th>\n      <td>13.20</td>\n      <td>1.78</td>\n      <td>2.14</td>\n      <td>11.2</td>\n      <td>100.0</td>\n      <td>2.65</td>\n      <td>2.76</td>\n      <td>0.26</td>\n      <td>1.28</td>\n      <td>4.38</td>\n      <td>1.05</td>\n      <td>3.40</td>\n      <td>1050.0</td>\n      <td>0</td>\n    </tr>\n    <tr>\n      <th>2</th>\n      <td>13.16</td>\n      <td>2.36</td>\n      <td>2.67</td>\n      <td>18.6</td>\n      <td>101.0</td>\n      <td>2.80</td>\n      <td>3.24</td>\n      <td>0.30</td>\n      <td>2.81</td>\n      <td>5.68</td>\n      <td>1.03</td>\n      <td>3.17</td>\n      <td>1185.0</td>\n      <td>0</td>\n    </tr>\n    <tr>\n      <th>3</th>\n      <td>14.37</td>\n      <td>1.95</td>\n      <td>2.50</td>\n      <td>16.8</td>\n      <td>113.0</td>\n      <td>3.85</td>\n      <td>3.49</td>\n      <td>0.24</td>\n      <td>2.18</td>\n      <td>7.80</td>\n      <td>0.86</td>\n      <td>3.45</td>\n      <td>1480.0</td>\n      <td>0</td>\n    </tr>\n    <tr>\n      <th>4</th>\n      <td>13.24</td>\n      <td>2.59</td>\n      <td>2.87</td>\n      <td>21.0</td>\n      <td>118.0</td>\n      <td>2.80</td>\n      <td>2.69</td>\n      <td>0.39</td>\n      <td>1.82</td>\n      <td>4.32</td>\n      <td>1.04</td>\n      <td>2.93</td>\n      <td>735.0</td>\n      <td>0</td>\n    </tr>\n    <tr>\n      <th>...</th>\n      <td>...</td>\n      <td>...</td>\n      <td>...</td>\n      <td>...</td>\n      <td>...</td>\n      <td>...</td>\n      <td>...</td>\n      <td>...</td>\n      <td>...</td>\n      <td>...</td>\n      <td>...</td>\n      <td>...</td>\n      <td>...</td>\n      <td>...</td>\n    </tr>\n    <tr>\n      <th>173</th>\n      <td>13.71</td>\n      <td>5.65</td>\n      <td>2.45</td>\n      <td>20.5</td>\n      <td>95.0</td>\n      <td>1.68</td>\n      <td>0.61</td>\n      <td>0.52</td>\n      <td>1.06</td>\n      <td>7.70</td>\n      <td>0.64</td>\n      <td>1.74</td>\n      <td>740.0</td>\n      <td>2</td>\n    </tr>\n    <tr>\n      <th>174</th>\n      <td>13.40</td>\n      <td>3.91</td>\n      <td>2.48</td>\n      <td>23.0</td>\n      <td>102.0</td>\n      <td>1.80</td>\n      <td>0.75</td>\n      <td>0.43</td>\n      <td>1.41</td>\n      <td>7.30</td>\n      <td>0.70</td>\n      <td>1.56</td>\n      <td>750.0</td>\n      <td>2</td>\n    </tr>\n    <tr>\n      <th>175</th>\n      <td>13.27</td>\n      <td>4.28</td>\n      <td>2.26</td>\n      <td>20.0</td>\n      <td>120.0</td>\n      <td>1.59</td>\n      <td>0.69</td>\n      <td>0.43</td>\n      <td>1.35</td>\n      <td>10.20</td>\n      <td>0.59</td>\n      <td>1.56</td>\n      <td>835.0</td>\n      <td>2</td>\n    </tr>\n    <tr>\n      <th>176</th>\n      <td>13.17</td>\n      <td>2.59</td>\n      <td>2.37</td>\n      <td>20.0</td>\n      <td>120.0</td>\n      <td>1.65</td>\n      <td>0.68</td>\n      <td>0.53</td>\n      <td>1.46</td>\n      <td>9.30</td>\n      <td>0.60</td>\n      <td>1.62</td>\n      <td>840.0</td>\n      <td>2</td>\n    </tr>\n    <tr>\n      <th>177</th>\n      <td>14.13</td>\n      <td>4.10</td>\n      <td>2.74</td>\n      <td>24.5</td>\n      <td>96.0</td>\n      <td>2.05</td>\n      <td>0.76</td>\n      <td>0.56</td>\n      <td>1.35</td>\n      <td>9.20</td>\n      <td>0.61</td>\n      <td>1.60</td>\n      <td>560.0</td>\n      <td>2</td>\n    </tr>\n  </tbody>\n</table>\n<p>178 rows × 14 columns</p>\n</div>"
     },
     "execution_count": 5,
     "metadata": {},
     "output_type": "execute_result"
    }
   ],
   "source": [
    "#如果wine是一张表，应该长这样:\n",
    "import pandas as pd\n",
    "pd.concat([pd.DataFrame(wine.data),pd.DataFrame(wine.target)],axis=1)"
   ],
   "metadata": {
    "collapsed": false,
    "pycharm": {
     "name": "#%%\n"
    }
   }
  },
  {
   "cell_type": "code",
   "execution_count": 6,
   "outputs": [],
   "source": [
    "#划分30%的数据作为测试集\n",
    "Xtrain, Xtest, Ytrain, Ytest = train_test_split(wine.data, wine.target, test_size=0.3)"
   ],
   "metadata": {
    "collapsed": false,
    "pycharm": {
     "name": "#%%\n"
    }
   }
  },
  {
   "cell_type": "code",
   "execution_count": 7,
   "outputs": [
    {
     "data": {
      "text/plain": "(178, 13)"
     },
     "execution_count": 7,
     "metadata": {},
     "output_type": "execute_result"
    }
   ],
   "source": [
    "Xtrain.shape #训练集: 124行,13个标签\n",
    "Xtest.shape #测试集: 54行,13个标签\n",
    "wine.data.shape #初始数据集: 178行,13个标签"
   ],
   "metadata": {
    "collapsed": false,
    "pycharm": {
     "name": "#%%\n"
    }
   }
  },
  {
   "cell_type": "code",
   "execution_count": 8,
   "outputs": [
    {
     "data": {
      "text/plain": "0.8518518518518519"
     },
     "execution_count": 8,
     "metadata": {},
     "output_type": "execute_result"
    }
   ],
   "source": [
    "# clf = tree.DecisionTreeClassifier(criterion=\"entropy\") #建模\n",
    "clf = tree.DecisionTreeClassifier(criterion=\"gini\") #建模\n",
    "\n",
    "clf = clf.fit(Xtrain, Ytrain) #训练模型\n",
    "score = clf.score(Xtest, Ytest) #返回预测的准确度\n",
    "\n",
    "score"
   ],
   "metadata": {
    "collapsed": false,
    "pycharm": {
     "name": "#%%\n"
    }
   }
  },
  {
   "cell_type": "code",
   "execution_count": 21,
   "outputs": [
    {
     "data": {
      "text/plain": "<graphviz.files.Source at 0x7f78d865c5f8>",
      "image/svg+xml": "<?xml version=\"1.0\" encoding=\"UTF-8\" standalone=\"no\"?>\n<!DOCTYPE svg PUBLIC \"-//W3C//DTD SVG 1.1//EN\"\n \"http://www.w3.org/Graphics/SVG/1.1/DTD/svg11.dtd\">\n<!-- Generated by graphviz version 2.50.0 (0)\n -->\n<!-- Title: Tree Pages: 1 -->\n<svg width=\"397pt\" height=\"433pt\"\n viewBox=\"0.00 0.00 397.00 433.00\" xmlns=\"http://www.w3.org/2000/svg\" xmlns:xlink=\"http://www.w3.org/1999/xlink\">\n<g id=\"graph0\" class=\"graph\" transform=\"scale(1 1) rotate(0) translate(4 429)\">\n<title>Tree</title>\n<polygon fill=\"white\" stroke=\"transparent\" points=\"-4,4 -4,-429 393,-429 393,4 -4,4\"/>\n<!-- 0 -->\n<g id=\"node1\" class=\"node\">\n<title>0</title>\n<path fill=\"#dcfae9\" stroke=\"black\" d=\"M181.5,-425C181.5,-425 73.5,-425 73.5,-425 67.5,-425 61.5,-419 61.5,-413 61.5,-413 61.5,-354 61.5,-354 61.5,-348 67.5,-342 73.5,-342 73.5,-342 181.5,-342 181.5,-342 187.5,-342 193.5,-348 193.5,-354 193.5,-354 193.5,-413 193.5,-413 193.5,-419 187.5,-425 181.5,-425\"/>\n<text text-anchor=\"middle\" x=\"127.5\" y=\"-409.8\" font-family=\"Helvetica,sans-Serif\" font-size=\"14.00\">颜色强度 &lt;= 3.915</text>\n<text text-anchor=\"middle\" x=\"127.5\" y=\"-394.8\" font-family=\"Helvetica,sans-Serif\" font-size=\"14.00\">gini = 0.653</text>\n<text text-anchor=\"middle\" x=\"127.5\" y=\"-379.8\" font-family=\"Helvetica,sans-Serif\" font-size=\"14.00\">samples = 124</text>\n<text text-anchor=\"middle\" x=\"127.5\" y=\"-364.8\" font-family=\"Helvetica,sans-Serif\" font-size=\"14.00\">value = [38, 53, 33]</text>\n<text text-anchor=\"middle\" x=\"127.5\" y=\"-349.8\" font-family=\"Helvetica,sans-Serif\" font-size=\"14.00\">class = b</text>\n</g>\n<!-- 1 -->\n<g id=\"node2\" class=\"node\">\n<title>1</title>\n<path fill=\"#39e581\" stroke=\"black\" d=\"M105,-298.5C105,-298.5 12,-298.5 12,-298.5 6,-298.5 0,-292.5 0,-286.5 0,-286.5 0,-242.5 0,-242.5 0,-236.5 6,-230.5 12,-230.5 12,-230.5 105,-230.5 105,-230.5 111,-230.5 117,-236.5 117,-242.5 117,-242.5 117,-286.5 117,-286.5 117,-292.5 111,-298.5 105,-298.5\"/>\n<text text-anchor=\"middle\" x=\"58.5\" y=\"-283.3\" font-family=\"Helvetica,sans-Serif\" font-size=\"14.00\">gini = 0.0</text>\n<text text-anchor=\"middle\" x=\"58.5\" y=\"-268.3\" font-family=\"Helvetica,sans-Serif\" font-size=\"14.00\">samples = 45</text>\n<text text-anchor=\"middle\" x=\"58.5\" y=\"-253.3\" font-family=\"Helvetica,sans-Serif\" font-size=\"14.00\">value = [0, 45, 0]</text>\n<text text-anchor=\"middle\" x=\"58.5\" y=\"-238.3\" font-family=\"Helvetica,sans-Serif\" font-size=\"14.00\">class = b</text>\n</g>\n<!-- 0&#45;&gt;1 -->\n<g id=\"edge1\" class=\"edge\">\n<title>0&#45;&gt;1</title>\n<path fill=\"none\" stroke=\"black\" d=\"M103.56,-341.91C96.99,-330.76 89.85,-318.66 83.23,-307.44\"/>\n<polygon fill=\"black\" stroke=\"black\" points=\"86.15,-305.5 78.06,-298.67 80.13,-309.06 86.15,-305.5\"/>\n<text text-anchor=\"middle\" x=\"71.81\" y=\"-319.17\" font-family=\"Helvetica,sans-Serif\" font-size=\"14.00\">True</text>\n</g>\n<!-- 2 -->\n<g id=\"node3\" class=\"node\">\n<title>2</title>\n<path fill=\"#fcf1e9\" stroke=\"black\" d=\"M248,-306C248,-306 147,-306 147,-306 141,-306 135,-300 135,-294 135,-294 135,-235 135,-235 135,-229 141,-223 147,-223 147,-223 248,-223 248,-223 254,-223 260,-229 260,-235 260,-235 260,-294 260,-294 260,-300 254,-306 248,-306\"/>\n<text text-anchor=\"middle\" x=\"197.5\" y=\"-290.8\" font-family=\"Helvetica,sans-Serif\" font-size=\"14.00\">类黄酮 &lt;= 1.58</text>\n<text text-anchor=\"middle\" x=\"197.5\" y=\"-275.8\" font-family=\"Helvetica,sans-Serif\" font-size=\"14.00\">gini = 0.584</text>\n<text text-anchor=\"middle\" x=\"197.5\" y=\"-260.8\" font-family=\"Helvetica,sans-Serif\" font-size=\"14.00\">samples = 79</text>\n<text text-anchor=\"middle\" x=\"197.5\" y=\"-245.8\" font-family=\"Helvetica,sans-Serif\" font-size=\"14.00\">value = [38, 8, 33]</text>\n<text text-anchor=\"middle\" x=\"197.5\" y=\"-230.8\" font-family=\"Helvetica,sans-Serif\" font-size=\"14.00\">class = a</text>\n</g>\n<!-- 0&#45;&gt;2 -->\n<g id=\"edge2\" class=\"edge\">\n<title>0&#45;&gt;2</title>\n<path fill=\"none\" stroke=\"black\" d=\"M151.79,-341.91C157.05,-333.1 162.68,-323.7 168.12,-314.61\"/>\n<polygon fill=\"black\" stroke=\"black\" points=\"171.13,-316.4 173.26,-306.02 165.12,-312.81 171.13,-316.4\"/>\n<text text-anchor=\"middle\" x=\"179.35\" y=\"-326.57\" font-family=\"Helvetica,sans-Serif\" font-size=\"14.00\">False</text>\n</g>\n<!-- 3 -->\n<g id=\"node4\" class=\"node\">\n<title>3</title>\n<path fill=\"#8139e5\" stroke=\"black\" d=\"M176,-179.5C176,-179.5 83,-179.5 83,-179.5 77,-179.5 71,-173.5 71,-167.5 71,-167.5 71,-123.5 71,-123.5 71,-117.5 77,-111.5 83,-111.5 83,-111.5 176,-111.5 176,-111.5 182,-111.5 188,-117.5 188,-123.5 188,-123.5 188,-167.5 188,-167.5 188,-173.5 182,-179.5 176,-179.5\"/>\n<text text-anchor=\"middle\" x=\"129.5\" y=\"-164.3\" font-family=\"Helvetica,sans-Serif\" font-size=\"14.00\">gini = 0.0</text>\n<text text-anchor=\"middle\" x=\"129.5\" y=\"-149.3\" font-family=\"Helvetica,sans-Serif\" font-size=\"14.00\">samples = 33</text>\n<text text-anchor=\"middle\" x=\"129.5\" y=\"-134.3\" font-family=\"Helvetica,sans-Serif\" font-size=\"14.00\">value = [0, 0, 33]</text>\n<text text-anchor=\"middle\" x=\"129.5\" y=\"-119.3\" font-family=\"Helvetica,sans-Serif\" font-size=\"14.00\">class = c</text>\n</g>\n<!-- 2&#45;&gt;3 -->\n<g id=\"edge3\" class=\"edge\">\n<title>2&#45;&gt;3</title>\n<path fill=\"none\" stroke=\"black\" d=\"M173.91,-222.91C167.43,-211.76 160.4,-199.66 153.87,-188.44\"/>\n<polygon fill=\"black\" stroke=\"black\" points=\"156.83,-186.55 148.78,-179.67 150.78,-190.07 156.83,-186.55\"/>\n</g>\n<!-- 4 -->\n<g id=\"node5\" class=\"node\">\n<title>4</title>\n<path fill=\"#ea9c63\" stroke=\"black\" d=\"M311,-187C311,-187 218,-187 218,-187 212,-187 206,-181 206,-175 206,-175 206,-116 206,-116 206,-110 212,-104 218,-104 218,-104 311,-104 311,-104 317,-104 323,-110 323,-116 323,-116 323,-175 323,-175 323,-181 317,-187 311,-187\"/>\n<text text-anchor=\"middle\" x=\"264.5\" y=\"-171.8\" font-family=\"Helvetica,sans-Serif\" font-size=\"14.00\">脯氨酸 &lt;= 697.5</text>\n<text text-anchor=\"middle\" x=\"264.5\" y=\"-156.8\" font-family=\"Helvetica,sans-Serif\" font-size=\"14.00\">gini = 0.287</text>\n<text text-anchor=\"middle\" x=\"264.5\" y=\"-141.8\" font-family=\"Helvetica,sans-Serif\" font-size=\"14.00\">samples = 46</text>\n<text text-anchor=\"middle\" x=\"264.5\" y=\"-126.8\" font-family=\"Helvetica,sans-Serif\" font-size=\"14.00\">value = [38, 8, 0]</text>\n<text text-anchor=\"middle\" x=\"264.5\" y=\"-111.8\" font-family=\"Helvetica,sans-Serif\" font-size=\"14.00\">class = a</text>\n</g>\n<!-- 2&#45;&gt;4 -->\n<g id=\"edge4\" class=\"edge\">\n<title>2&#45;&gt;4</title>\n<path fill=\"none\" stroke=\"black\" d=\"M220.75,-222.91C225.73,-214.2 231.06,-204.9 236.21,-195.89\"/>\n<polygon fill=\"black\" stroke=\"black\" points=\"239.36,-197.44 241.3,-187.02 233.29,-193.96 239.36,-197.44\"/>\n</g>\n<!-- 5 -->\n<g id=\"node6\" class=\"node\">\n<title>5</title>\n<path fill=\"#39e581\" stroke=\"black\" d=\"M241.5,-68C241.5,-68 155.5,-68 155.5,-68 149.5,-68 143.5,-62 143.5,-56 143.5,-56 143.5,-12 143.5,-12 143.5,-6 149.5,0 155.5,0 155.5,0 241.5,0 241.5,0 247.5,0 253.5,-6 253.5,-12 253.5,-12 253.5,-56 253.5,-56 253.5,-62 247.5,-68 241.5,-68\"/>\n<text text-anchor=\"middle\" x=\"198.5\" y=\"-52.8\" font-family=\"Helvetica,sans-Serif\" font-size=\"14.00\">gini = 0.0</text>\n<text text-anchor=\"middle\" x=\"198.5\" y=\"-37.8\" font-family=\"Helvetica,sans-Serif\" font-size=\"14.00\">samples = 8</text>\n<text text-anchor=\"middle\" x=\"198.5\" y=\"-22.8\" font-family=\"Helvetica,sans-Serif\" font-size=\"14.00\">value = [0, 8, 0]</text>\n<text text-anchor=\"middle\" x=\"198.5\" y=\"-7.8\" font-family=\"Helvetica,sans-Serif\" font-size=\"14.00\">class = b</text>\n</g>\n<!-- 4&#45;&gt;5 -->\n<g id=\"edge5\" class=\"edge\">\n<title>4&#45;&gt;5</title>\n<path fill=\"none\" stroke=\"black\" d=\"M239.92,-103.73C234.65,-94.97 229.06,-85.7 223.76,-76.91\"/>\n<polygon fill=\"black\" stroke=\"black\" points=\"226.73,-75.06 218.57,-68.3 220.74,-78.67 226.73,-75.06\"/>\n</g>\n<!-- 6 -->\n<g id=\"node7\" class=\"node\">\n<title>6</title>\n<path fill=\"#e58139\" stroke=\"black\" d=\"M377,-68C377,-68 284,-68 284,-68 278,-68 272,-62 272,-56 272,-56 272,-12 272,-12 272,-6 278,0 284,0 284,0 377,0 377,0 383,0 389,-6 389,-12 389,-12 389,-56 389,-56 389,-62 383,-68 377,-68\"/>\n<text text-anchor=\"middle\" x=\"330.5\" y=\"-52.8\" font-family=\"Helvetica,sans-Serif\" font-size=\"14.00\">gini = 0.0</text>\n<text text-anchor=\"middle\" x=\"330.5\" y=\"-37.8\" font-family=\"Helvetica,sans-Serif\" font-size=\"14.00\">samples = 38</text>\n<text text-anchor=\"middle\" x=\"330.5\" y=\"-22.8\" font-family=\"Helvetica,sans-Serif\" font-size=\"14.00\">value = [38, 0, 0]</text>\n<text text-anchor=\"middle\" x=\"330.5\" y=\"-7.8\" font-family=\"Helvetica,sans-Serif\" font-size=\"14.00\">class = a</text>\n</g>\n<!-- 4&#45;&gt;6 -->\n<g id=\"edge6\" class=\"edge\">\n<title>4&#45;&gt;6</title>\n<path fill=\"none\" stroke=\"black\" d=\"M289.08,-103.73C294.35,-94.97 299.94,-85.7 305.24,-76.91\"/>\n<polygon fill=\"black\" stroke=\"black\" points=\"308.26,-78.67 310.43,-68.3 302.27,-75.06 308.26,-78.67\"/>\n</g>\n</g>\n</svg>\n"
     },
     "execution_count": 21,
     "metadata": {},
     "output_type": "execute_result"
    }
   ],
   "source": [
    "feature_name = ['酒精','苹果酸','灰','灰的碱性','镁','总酚','类黄酮','非黄烷类酚类','花青素','颜色强度','色调','od280/od315稀释葡萄酒','脯氨酸']\n",
    "\n",
    "import graphviz\n",
    "dot_data = tree.export_graphviz(clf, #模型\n",
    "                                feature_names = feature_name, #特征名\n",
    "                                # class_names = ['琴酒', '雪莉', '贝尔摩德'], #分类名\n",
    "                                class_names = ['a', 'b', 'c'], #分类名\n",
    "                                filled = True, #填充颜色表示不同的分类\n",
    "                                rounded = True #圆角显示\n",
    "                               )\n",
    "graph = graphviz.Source(dot_data)\n",
    "\n",
    "graph"
   ],
   "metadata": {
    "collapsed": false,
    "pycharm": {
     "name": "#%%\n"
    }
   }
  },
  {
   "cell_type": "code",
   "execution_count": 22,
   "outputs": [
    {
     "data": {
      "text/plain": "[('酒精', 0.0),\n ('苹果酸', 0.0),\n ('灰', 0.0),\n ('灰的碱性', 0.0),\n ('镁', 0.0),\n ('总酚', 0.0),\n ('类黄酮', 0.40669121793826146),\n ('非黄烷类酚类', 0.0),\n ('花青素', 0.0),\n ('颜色强度', 0.4299684868914047),\n ('色调', 0.0),\n ('od280/od315稀释葡萄酒', 0.0),\n ('脯氨酸', 0.16334029517033394)]"
     },
     "execution_count": 22,
     "metadata": {},
     "output_type": "execute_result"
    }
   ],
   "source": [
    "clf.feature_importances_ #特征重要性\n",
    "\n",
    "[*zip(feature_name, clf.feature_importances_)]"
   ],
   "metadata": {
    "collapsed": false,
    "pycharm": {
     "name": "#%%\n"
    }
   }
  },
  {
   "cell_type": "code",
   "execution_count": 27,
   "outputs": [
    {
     "data": {
      "text/plain": "0.8518518518518519"
     },
     "execution_count": 27,
     "metadata": {},
     "output_type": "execute_result"
    }
   ],
   "source": [
    "clf = tree.DecisionTreeClassifier(criterion=\"entropy\",random_state=30)\n",
    "clf = clf.fit(Xtrain, Ytrain)\n",
    "score = clf.score(Xtest, Ytest) #返回预测的准确度\n",
    "\n",
    "score"
   ],
   "metadata": {
    "collapsed": false,
    "pycharm": {
     "name": "#%%\n"
    }
   }
  },
  {
   "cell_type": "code",
   "execution_count": 28,
   "outputs": [
    {
     "data": {
      "text/plain": "0.9074074074074074"
     },
     "execution_count": 28,
     "metadata": {},
     "output_type": "execute_result"
    }
   ],
   "source": [
    "clf = tree.DecisionTreeClassifier(criterion=\"entropy\"\n",
    "                                 ,random_state=30\n",
    "                                 ,splitter=\"random\"\n",
    "                                 )\n",
    "clf = clf.fit(Xtrain, Ytrain) #训练模型\n",
    "score = clf.score(Xtest, Ytest)  #返回预测的准确度\n",
    "\n",
    "score"
   ],
   "metadata": {
    "collapsed": false,
    "pycharm": {
     "name": "#%%\n"
    }
   }
  },
  {
   "cell_type": "code",
   "execution_count": 29,
   "outputs": [
    {
     "data": {
      "text/plain": "<graphviz.files.Source at 0x7f78c8f3eb00>",
      "image/svg+xml": "<?xml version=\"1.0\" encoding=\"UTF-8\" standalone=\"no\"?>\n<!DOCTYPE svg PUBLIC \"-//W3C//DTD SVG 1.1//EN\"\n \"http://www.w3.org/Graphics/SVG/1.1/DTD/svg11.dtd\">\n<!-- Generated by graphviz version 2.50.0 (0)\n -->\n<!-- Title: Tree Pages: 1 -->\n<svg width=\"1229pt\" height=\"790pt\"\n viewBox=\"0.00 0.00 1228.50 790.00\" xmlns=\"http://www.w3.org/2000/svg\" xmlns:xlink=\"http://www.w3.org/1999/xlink\">\n<g id=\"graph0\" class=\"graph\" transform=\"scale(1 1) rotate(0) translate(4 786)\">\n<title>Tree</title>\n<polygon fill=\"white\" stroke=\"transparent\" points=\"-4,4 -4,-786 1224.5,-786 1224.5,4 -4,4\"/>\n<!-- 0 -->\n<g id=\"node1\" class=\"node\">\n<title>0</title>\n<path fill=\"#dcfae9\" stroke=\"black\" d=\"M704,-782C704,-782 596,-782 596,-782 590,-782 584,-776 584,-770 584,-770 584,-711 584,-711 584,-705 590,-699 596,-699 596,-699 704,-699 704,-699 710,-699 716,-705 716,-711 716,-711 716,-770 716,-770 716,-776 710,-782 704,-782\"/>\n<text text-anchor=\"middle\" x=\"650\" y=\"-766.8\" font-family=\"Helvetica,sans-Serif\" font-size=\"14.00\">类黄酮 &lt;= 2.234</text>\n<text text-anchor=\"middle\" x=\"650\" y=\"-751.8\" font-family=\"Helvetica,sans-Serif\" font-size=\"14.00\">entropy = 1.555</text>\n<text text-anchor=\"middle\" x=\"650\" y=\"-736.8\" font-family=\"Helvetica,sans-Serif\" font-size=\"14.00\">samples = 124</text>\n<text text-anchor=\"middle\" x=\"650\" y=\"-721.8\" font-family=\"Helvetica,sans-Serif\" font-size=\"14.00\">value = [38, 53, 33]</text>\n<text text-anchor=\"middle\" x=\"650\" y=\"-706.8\" font-family=\"Helvetica,sans-Serif\" font-size=\"14.00\">class = 雪莉</text>\n</g>\n<!-- 1 -->\n<g id=\"node2\" class=\"node\">\n<title>1</title>\n<path fill=\"#f8f3fd\" stroke=\"black\" d=\"M610,-663C610,-663 410,-663 410,-663 404,-663 398,-657 398,-651 398,-651 398,-592 398,-592 398,-586 404,-580 410,-580 410,-580 610,-580 610,-580 616,-580 622,-586 622,-592 622,-592 622,-651 622,-651 622,-657 616,-663 610,-663\"/>\n<text text-anchor=\"middle\" x=\"510\" y=\"-647.8\" font-family=\"Helvetica,sans-Serif\" font-size=\"14.00\">od280/od315稀释葡萄酒 &lt;= 2.228</text>\n<text text-anchor=\"middle\" x=\"510\" y=\"-632.8\" font-family=\"Helvetica,sans-Serif\" font-size=\"14.00\">entropy = 1.099</text>\n<text text-anchor=\"middle\" x=\"510\" y=\"-617.8\" font-family=\"Helvetica,sans-Serif\" font-size=\"14.00\">samples = 65</text>\n<text text-anchor=\"middle\" x=\"510\" y=\"-602.8\" font-family=\"Helvetica,sans-Serif\" font-size=\"14.00\">value = [1, 31, 33]</text>\n<text text-anchor=\"middle\" x=\"510\" y=\"-587.8\" font-family=\"Helvetica,sans-Serif\" font-size=\"14.00\">class = 贝尔摩德</text>\n</g>\n<!-- 0&#45;&gt;1 -->\n<g id=\"edge1\" class=\"edge\">\n<title>0&#45;&gt;1</title>\n<path fill=\"none\" stroke=\"black\" d=\"M601.43,-698.91C590.13,-689.47 578.02,-679.34 566.42,-669.65\"/>\n<polygon fill=\"black\" stroke=\"black\" points=\"568.4,-666.75 558.49,-663.02 563.92,-672.12 568.4,-666.75\"/>\n<text text-anchor=\"middle\" x=\"560.71\" y=\"-684.22\" font-family=\"Helvetica,sans-Serif\" font-size=\"14.00\">True</text>\n</g>\n<!-- 22 -->\n<g id=\"node23\" class=\"node\">\n<title>22</title>\n<path fill=\"#f4ccaf\" stroke=\"black\" d=\"M867.5,-663C867.5,-663 760.5,-663 760.5,-663 754.5,-663 748.5,-657 748.5,-651 748.5,-651 748.5,-592 748.5,-592 748.5,-586 754.5,-580 760.5,-580 760.5,-580 867.5,-580 867.5,-580 873.5,-580 879.5,-586 879.5,-592 879.5,-592 879.5,-651 879.5,-651 879.5,-657 873.5,-663 867.5,-663\"/>\n<text text-anchor=\"middle\" x=\"814\" y=\"-647.8\" font-family=\"Helvetica,sans-Serif\" font-size=\"14.00\">颜色强度 &lt;= 3.981</text>\n<text text-anchor=\"middle\" x=\"814\" y=\"-632.8\" font-family=\"Helvetica,sans-Serif\" font-size=\"14.00\">entropy = 0.953</text>\n<text text-anchor=\"middle\" x=\"814\" y=\"-617.8\" font-family=\"Helvetica,sans-Serif\" font-size=\"14.00\">samples = 59</text>\n<text text-anchor=\"middle\" x=\"814\" y=\"-602.8\" font-family=\"Helvetica,sans-Serif\" font-size=\"14.00\">value = [37, 22, 0]</text>\n<text text-anchor=\"middle\" x=\"814\" y=\"-587.8\" font-family=\"Helvetica,sans-Serif\" font-size=\"14.00\">class = 琴酒</text>\n</g>\n<!-- 0&#45;&gt;22 -->\n<g id=\"edge22\" class=\"edge\">\n<title>0&#45;&gt;22</title>\n<path fill=\"none\" stroke=\"black\" d=\"M706.9,-698.91C720.38,-689.29 734.87,-678.95 748.69,-669.09\"/>\n<polygon fill=\"black\" stroke=\"black\" points=\"751.09,-671.68 757.2,-663.02 747.03,-665.98 751.09,-671.68\"/>\n<text text-anchor=\"middle\" x=\"753.08\" y=\"-683.98\" font-family=\"Helvetica,sans-Serif\" font-size=\"14.00\">False</text>\n</g>\n<!-- 2 -->\n<g id=\"node3\" class=\"node\">\n<title>2</title>\n<path fill=\"#995fea\" stroke=\"black\" d=\"M379,-544C379,-544 283,-544 283,-544 277,-544 271,-538 271,-532 271,-532 271,-473 271,-473 271,-467 277,-461 283,-461 283,-461 379,-461 379,-461 385,-461 391,-467 391,-473 391,-473 391,-532 391,-532 391,-538 385,-544 379,-544\"/>\n<text text-anchor=\"middle\" x=\"331\" y=\"-528.8\" font-family=\"Helvetica,sans-Serif\" font-size=\"14.00\">色调 &lt;= 0.95</text>\n<text text-anchor=\"middle\" x=\"331\" y=\"-513.8\" font-family=\"Helvetica,sans-Serif\" font-size=\"14.00\">entropy = 0.639</text>\n<text text-anchor=\"middle\" x=\"331\" y=\"-498.8\" font-family=\"Helvetica,sans-Serif\" font-size=\"14.00\">samples = 37</text>\n<text text-anchor=\"middle\" x=\"331\" y=\"-483.8\" font-family=\"Helvetica,sans-Serif\" font-size=\"14.00\">value = [0, 6, 31]</text>\n<text text-anchor=\"middle\" x=\"331\" y=\"-468.8\" font-family=\"Helvetica,sans-Serif\" font-size=\"14.00\">class = 贝尔摩德</text>\n</g>\n<!-- 1&#45;&gt;2 -->\n<g id=\"edge2\" class=\"edge\">\n<title>1&#45;&gt;2</title>\n<path fill=\"none\" stroke=\"black\" d=\"M447.9,-579.91C432.39,-569.77 415.67,-558.84 399.86,-548.51\"/>\n<polygon fill=\"black\" stroke=\"black\" points=\"401.47,-545.38 391.18,-542.84 397.64,-551.24 401.47,-545.38\"/>\n</g>\n<!-- 13 -->\n<g id=\"node14\" class=\"node\">\n<title>13</title>\n<path fill=\"#50e890\" stroke=\"black\" d=\"M556.5,-544C556.5,-544 463.5,-544 463.5,-544 457.5,-544 451.5,-538 451.5,-532 451.5,-532 451.5,-473 451.5,-473 451.5,-467 457.5,-461 463.5,-461 463.5,-461 556.5,-461 556.5,-461 562.5,-461 568.5,-467 568.5,-473 568.5,-473 568.5,-532 568.5,-532 568.5,-538 562.5,-544 556.5,-544\"/>\n<text text-anchor=\"middle\" x=\"510\" y=\"-528.8\" font-family=\"Helvetica,sans-Serif\" font-size=\"14.00\">酒精 &lt;= 12.233</text>\n<text text-anchor=\"middle\" x=\"510\" y=\"-513.8\" font-family=\"Helvetica,sans-Serif\" font-size=\"14.00\">entropy = 0.59</text>\n<text text-anchor=\"middle\" x=\"510\" y=\"-498.8\" font-family=\"Helvetica,sans-Serif\" font-size=\"14.00\">samples = 28</text>\n<text text-anchor=\"middle\" x=\"510\" y=\"-483.8\" font-family=\"Helvetica,sans-Serif\" font-size=\"14.00\">value = [1, 25, 2]</text>\n<text text-anchor=\"middle\" x=\"510\" y=\"-468.8\" font-family=\"Helvetica,sans-Serif\" font-size=\"14.00\">class = 雪莉</text>\n</g>\n<!-- 1&#45;&gt;13 -->\n<g id=\"edge13\" class=\"edge\">\n<title>1&#45;&gt;13</title>\n<path fill=\"none\" stroke=\"black\" d=\"M510,-579.91C510,-571.65 510,-562.86 510,-554.3\"/>\n<polygon fill=\"black\" stroke=\"black\" points=\"513.5,-554.02 510,-544.02 506.5,-554.02 513.5,-554.02\"/>\n</g>\n<!-- 3 -->\n<g id=\"node4\" class=\"node\">\n<title>3</title>\n<path fill=\"#8946e7\" stroke=\"black\" d=\"M245,-425C245,-425 149,-425 149,-425 143,-425 137,-419 137,-413 137,-413 137,-354 137,-354 137,-348 143,-342 149,-342 149,-342 245,-342 245,-342 251,-342 257,-348 257,-354 257,-354 257,-413 257,-413 257,-419 251,-425 245,-425\"/>\n<text text-anchor=\"middle\" x=\"197\" y=\"-409.8\" font-family=\"Helvetica,sans-Serif\" font-size=\"14.00\">类黄酮 &lt;= 0.847</text>\n<text text-anchor=\"middle\" x=\"197\" y=\"-394.8\" font-family=\"Helvetica,sans-Serif\" font-size=\"14.00\">entropy = 0.337</text>\n<text text-anchor=\"middle\" x=\"197\" y=\"-379.8\" font-family=\"Helvetica,sans-Serif\" font-size=\"14.00\">samples = 32</text>\n<text text-anchor=\"middle\" x=\"197\" y=\"-364.8\" font-family=\"Helvetica,sans-Serif\" font-size=\"14.00\">value = [0, 2, 30]</text>\n<text text-anchor=\"middle\" x=\"197\" y=\"-349.8\" font-family=\"Helvetica,sans-Serif\" font-size=\"14.00\">class = 贝尔摩德</text>\n</g>\n<!-- 2&#45;&gt;3 -->\n<g id=\"edge3\" class=\"edge\">\n<title>2&#45;&gt;3</title>\n<path fill=\"none\" stroke=\"black\" d=\"M284.51,-460.91C273.7,-451.47 262.1,-441.34 251,-431.65\"/>\n<polygon fill=\"black\" stroke=\"black\" points=\"253.24,-428.96 243.41,-425.02 248.64,-434.23 253.24,-428.96\"/>\n</g>\n<!-- 10 -->\n<g id=\"node11\" class=\"node\">\n<title>10</title>\n<path fill=\"#6aeca0\" stroke=\"black\" d=\"M374.5,-425C374.5,-425 287.5,-425 287.5,-425 281.5,-425 275.5,-419 275.5,-413 275.5,-413 275.5,-354 275.5,-354 275.5,-348 281.5,-342 287.5,-342 287.5,-342 374.5,-342 374.5,-342 380.5,-342 386.5,-348 386.5,-354 386.5,-354 386.5,-413 386.5,-413 386.5,-419 380.5,-425 374.5,-425\"/>\n<text text-anchor=\"middle\" x=\"331\" y=\"-409.8\" font-family=\"Helvetica,sans-Serif\" font-size=\"14.00\">灰 &lt;= 2.493</text>\n<text text-anchor=\"middle\" x=\"331\" y=\"-394.8\" font-family=\"Helvetica,sans-Serif\" font-size=\"14.00\">entropy = 0.722</text>\n<text text-anchor=\"middle\" x=\"331\" y=\"-379.8\" font-family=\"Helvetica,sans-Serif\" font-size=\"14.00\">samples = 5</text>\n<text text-anchor=\"middle\" x=\"331\" y=\"-364.8\" font-family=\"Helvetica,sans-Serif\" font-size=\"14.00\">value = [0, 4, 1]</text>\n<text text-anchor=\"middle\" x=\"331\" y=\"-349.8\" font-family=\"Helvetica,sans-Serif\" font-size=\"14.00\">class = 雪莉</text>\n</g>\n<!-- 2&#45;&gt;10 -->\n<g id=\"edge10\" class=\"edge\">\n<title>2&#45;&gt;10</title>\n<path fill=\"none\" stroke=\"black\" d=\"M331,-460.91C331,-452.65 331,-443.86 331,-435.3\"/>\n<polygon fill=\"black\" stroke=\"black\" points=\"334.5,-435.02 331,-425.02 327.5,-435.02 334.5,-435.02\"/>\n</g>\n<!-- 4 -->\n<g id=\"node5\" class=\"node\">\n<title>4</title>\n<path fill=\"#8139e5\" stroke=\"black\" d=\"M108,-298.5C108,-298.5 12,-298.5 12,-298.5 6,-298.5 0,-292.5 0,-286.5 0,-286.5 0,-242.5 0,-242.5 0,-236.5 6,-230.5 12,-230.5 12,-230.5 108,-230.5 108,-230.5 114,-230.5 120,-236.5 120,-242.5 120,-242.5 120,-286.5 120,-286.5 120,-292.5 114,-298.5 108,-298.5\"/>\n<text text-anchor=\"middle\" x=\"60\" y=\"-283.3\" font-family=\"Helvetica,sans-Serif\" font-size=\"14.00\">entropy = 0.0</text>\n<text text-anchor=\"middle\" x=\"60\" y=\"-268.3\" font-family=\"Helvetica,sans-Serif\" font-size=\"14.00\">samples = 22</text>\n<text text-anchor=\"middle\" x=\"60\" y=\"-253.3\" font-family=\"Helvetica,sans-Serif\" font-size=\"14.00\">value = [0, 0, 22]</text>\n<text text-anchor=\"middle\" x=\"60\" y=\"-238.3\" font-family=\"Helvetica,sans-Serif\" font-size=\"14.00\">class = 贝尔摩德</text>\n</g>\n<!-- 3&#45;&gt;4 -->\n<g id=\"edge4\" class=\"edge\">\n<title>3&#45;&gt;4</title>\n<path fill=\"none\" stroke=\"black\" d=\"M149.47,-341.91C135.64,-330.1 120.56,-317.22 106.78,-305.45\"/>\n<polygon fill=\"black\" stroke=\"black\" points=\"108.71,-302.5 98.84,-298.67 104.17,-307.82 108.71,-302.5\"/>\n</g>\n<!-- 5 -->\n<g id=\"node6\" class=\"node\">\n<title>5</title>\n<path fill=\"#a06aec\" stroke=\"black\" d=\"M246,-306C246,-306 150,-306 150,-306 144,-306 138,-300 138,-294 138,-294 138,-235 138,-235 138,-229 144,-223 150,-223 150,-223 246,-223 246,-223 252,-223 258,-229 258,-235 258,-235 258,-294 258,-294 258,-300 252,-306 246,-306\"/>\n<text text-anchor=\"middle\" x=\"198\" y=\"-290.8\" font-family=\"Helvetica,sans-Serif\" font-size=\"14.00\">色调 &lt;= 0.617</text>\n<text text-anchor=\"middle\" x=\"198\" y=\"-275.8\" font-family=\"Helvetica,sans-Serif\" font-size=\"14.00\">entropy = 0.722</text>\n<text text-anchor=\"middle\" x=\"198\" y=\"-260.8\" font-family=\"Helvetica,sans-Serif\" font-size=\"14.00\">samples = 10</text>\n<text text-anchor=\"middle\" x=\"198\" y=\"-245.8\" font-family=\"Helvetica,sans-Serif\" font-size=\"14.00\">value = [0, 2, 8]</text>\n<text text-anchor=\"middle\" x=\"198\" y=\"-230.8\" font-family=\"Helvetica,sans-Serif\" font-size=\"14.00\">class = 贝尔摩德</text>\n</g>\n<!-- 3&#45;&gt;5 -->\n<g id=\"edge5\" class=\"edge\">\n<title>3&#45;&gt;5</title>\n<path fill=\"none\" stroke=\"black\" d=\"M197.35,-341.91C197.42,-333.65 197.49,-324.86 197.57,-316.3\"/>\n<polygon fill=\"black\" stroke=\"black\" points=\"201.07,-316.05 197.65,-306.02 194.07,-315.99 201.07,-316.05\"/>\n</g>\n<!-- 6 -->\n<g id=\"node7\" class=\"node\">\n<title>6</title>\n<path fill=\"#8139e5\" stroke=\"black\" d=\"M211,-179.5C211,-179.5 115,-179.5 115,-179.5 109,-179.5 103,-173.5 103,-167.5 103,-167.5 103,-123.5 103,-123.5 103,-117.5 109,-111.5 115,-111.5 115,-111.5 211,-111.5 211,-111.5 217,-111.5 223,-117.5 223,-123.5 223,-123.5 223,-167.5 223,-167.5 223,-173.5 217,-179.5 211,-179.5\"/>\n<text text-anchor=\"middle\" x=\"163\" y=\"-164.3\" font-family=\"Helvetica,sans-Serif\" font-size=\"14.00\">entropy = 0.0</text>\n<text text-anchor=\"middle\" x=\"163\" y=\"-149.3\" font-family=\"Helvetica,sans-Serif\" font-size=\"14.00\">samples = 5</text>\n<text text-anchor=\"middle\" x=\"163\" y=\"-134.3\" font-family=\"Helvetica,sans-Serif\" font-size=\"14.00\">value = [0, 0, 5]</text>\n<text text-anchor=\"middle\" x=\"163\" y=\"-119.3\" font-family=\"Helvetica,sans-Serif\" font-size=\"14.00\">class = 贝尔摩德</text>\n</g>\n<!-- 5&#45;&gt;6 -->\n<g id=\"edge6\" class=\"edge\">\n<title>5&#45;&gt;6</title>\n<path fill=\"none\" stroke=\"black\" d=\"M185.86,-222.91C182.62,-212.09 179.12,-200.38 175.85,-189.44\"/>\n<polygon fill=\"black\" stroke=\"black\" points=\"179.14,-188.24 172.92,-179.67 172.43,-190.25 179.14,-188.24\"/>\n</g>\n<!-- 7 -->\n<g id=\"node8\" class=\"node\">\n<title>7</title>\n<path fill=\"#d5bdf6\" stroke=\"black\" d=\"M349,-187C349,-187 253,-187 253,-187 247,-187 241,-181 241,-175 241,-175 241,-116 241,-116 241,-110 247,-104 253,-104 253,-104 349,-104 349,-104 355,-104 361,-110 361,-116 361,-116 361,-175 361,-175 361,-181 355,-187 349,-187\"/>\n<text text-anchor=\"middle\" x=\"301\" y=\"-171.8\" font-family=\"Helvetica,sans-Serif\" font-size=\"14.00\">灰 &lt;= 2.385</text>\n<text text-anchor=\"middle\" x=\"301\" y=\"-156.8\" font-family=\"Helvetica,sans-Serif\" font-size=\"14.00\">entropy = 0.971</text>\n<text text-anchor=\"middle\" x=\"301\" y=\"-141.8\" font-family=\"Helvetica,sans-Serif\" font-size=\"14.00\">samples = 5</text>\n<text text-anchor=\"middle\" x=\"301\" y=\"-126.8\" font-family=\"Helvetica,sans-Serif\" font-size=\"14.00\">value = [0, 2, 3]</text>\n<text text-anchor=\"middle\" x=\"301\" y=\"-111.8\" font-family=\"Helvetica,sans-Serif\" font-size=\"14.00\">class = 贝尔摩德</text>\n</g>\n<!-- 5&#45;&gt;7 -->\n<g id=\"edge7\" class=\"edge\">\n<title>5&#45;&gt;7</title>\n<path fill=\"none\" stroke=\"black\" d=\"M233.74,-222.91C241.72,-213.83 250.27,-204.12 258.51,-194.77\"/>\n<polygon fill=\"black\" stroke=\"black\" points=\"261.35,-196.84 265.33,-187.02 256.09,-192.21 261.35,-196.84\"/>\n</g>\n<!-- 8 -->\n<g id=\"node9\" class=\"node\">\n<title>8</title>\n<path fill=\"#39e581\" stroke=\"black\" d=\"M261,-68C261,-68 175,-68 175,-68 169,-68 163,-62 163,-56 163,-56 163,-12 163,-12 163,-6 169,0 175,0 175,0 261,0 261,0 267,0 273,-6 273,-12 273,-12 273,-56 273,-56 273,-62 267,-68 261,-68\"/>\n<text text-anchor=\"middle\" x=\"218\" y=\"-52.8\" font-family=\"Helvetica,sans-Serif\" font-size=\"14.00\">entropy = 0.0</text>\n<text text-anchor=\"middle\" x=\"218\" y=\"-37.8\" font-family=\"Helvetica,sans-Serif\" font-size=\"14.00\">samples = 2</text>\n<text text-anchor=\"middle\" x=\"218\" y=\"-22.8\" font-family=\"Helvetica,sans-Serif\" font-size=\"14.00\">value = [0, 2, 0]</text>\n<text text-anchor=\"middle\" x=\"218\" y=\"-7.8\" font-family=\"Helvetica,sans-Serif\" font-size=\"14.00\">class = 雪莉</text>\n</g>\n<!-- 7&#45;&gt;8 -->\n<g id=\"edge8\" class=\"edge\">\n<title>7&#45;&gt;8</title>\n<path fill=\"none\" stroke=\"black\" d=\"M270.09,-103.73C263.32,-94.79 256.14,-85.32 249.35,-76.36\"/>\n<polygon fill=\"black\" stroke=\"black\" points=\"252.07,-74.15 243.24,-68.3 246.49,-78.38 252.07,-74.15\"/>\n</g>\n<!-- 9 -->\n<g id=\"node10\" class=\"node\">\n<title>9</title>\n<path fill=\"#8139e5\" stroke=\"black\" d=\"M399,-68C399,-68 303,-68 303,-68 297,-68 291,-62 291,-56 291,-56 291,-12 291,-12 291,-6 297,0 303,0 303,0 399,0 399,0 405,0 411,-6 411,-12 411,-12 411,-56 411,-56 411,-62 405,-68 399,-68\"/>\n<text text-anchor=\"middle\" x=\"351\" y=\"-52.8\" font-family=\"Helvetica,sans-Serif\" font-size=\"14.00\">entropy = 0.0</text>\n<text text-anchor=\"middle\" x=\"351\" y=\"-37.8\" font-family=\"Helvetica,sans-Serif\" font-size=\"14.00\">samples = 3</text>\n<text text-anchor=\"middle\" x=\"351\" y=\"-22.8\" font-family=\"Helvetica,sans-Serif\" font-size=\"14.00\">value = [0, 0, 3]</text>\n<text text-anchor=\"middle\" x=\"351\" y=\"-7.8\" font-family=\"Helvetica,sans-Serif\" font-size=\"14.00\">class = 贝尔摩德</text>\n</g>\n<!-- 7&#45;&gt;9 -->\n<g id=\"edge9\" class=\"edge\">\n<title>7&#45;&gt;9</title>\n<path fill=\"none\" stroke=\"black\" d=\"M319.62,-103.73C323.53,-95.15 327.67,-86.09 331.61,-77.46\"/>\n<polygon fill=\"black\" stroke=\"black\" points=\"334.82,-78.85 335.79,-68.3 328.46,-75.94 334.82,-78.85\"/>\n</g>\n<!-- 11 -->\n<g id=\"node12\" class=\"node\">\n<title>11</title>\n<path fill=\"#39e581\" stroke=\"black\" d=\"M374,-298.5C374,-298.5 288,-298.5 288,-298.5 282,-298.5 276,-292.5 276,-286.5 276,-286.5 276,-242.5 276,-242.5 276,-236.5 282,-230.5 288,-230.5 288,-230.5 374,-230.5 374,-230.5 380,-230.5 386,-236.5 386,-242.5 386,-242.5 386,-286.5 386,-286.5 386,-292.5 380,-298.5 374,-298.5\"/>\n<text text-anchor=\"middle\" x=\"331\" y=\"-283.3\" font-family=\"Helvetica,sans-Serif\" font-size=\"14.00\">entropy = 0.0</text>\n<text text-anchor=\"middle\" x=\"331\" y=\"-268.3\" font-family=\"Helvetica,sans-Serif\" font-size=\"14.00\">samples = 4</text>\n<text text-anchor=\"middle\" x=\"331\" y=\"-253.3\" font-family=\"Helvetica,sans-Serif\" font-size=\"14.00\">value = [0, 4, 0]</text>\n<text text-anchor=\"middle\" x=\"331\" y=\"-238.3\" font-family=\"Helvetica,sans-Serif\" font-size=\"14.00\">class = 雪莉</text>\n</g>\n<!-- 10&#45;&gt;11 -->\n<g id=\"edge11\" class=\"edge\">\n<title>10&#45;&gt;11</title>\n<path fill=\"none\" stroke=\"black\" d=\"M331,-341.91C331,-331.2 331,-319.62 331,-308.78\"/>\n<polygon fill=\"black\" stroke=\"black\" points=\"334.5,-308.67 331,-298.67 327.5,-308.67 334.5,-308.67\"/>\n</g>\n<!-- 12 -->\n<g id=\"node13\" class=\"node\">\n<title>12</title>\n<path fill=\"#8139e5\" stroke=\"black\" d=\"M512,-298.5C512,-298.5 416,-298.5 416,-298.5 410,-298.5 404,-292.5 404,-286.5 404,-286.5 404,-242.5 404,-242.5 404,-236.5 410,-230.5 416,-230.5 416,-230.5 512,-230.5 512,-230.5 518,-230.5 524,-236.5 524,-242.5 524,-242.5 524,-286.5 524,-286.5 524,-292.5 518,-298.5 512,-298.5\"/>\n<text text-anchor=\"middle\" x=\"464\" y=\"-283.3\" font-family=\"Helvetica,sans-Serif\" font-size=\"14.00\">entropy = 0.0</text>\n<text text-anchor=\"middle\" x=\"464\" y=\"-268.3\" font-family=\"Helvetica,sans-Serif\" font-size=\"14.00\">samples = 1</text>\n<text text-anchor=\"middle\" x=\"464\" y=\"-253.3\" font-family=\"Helvetica,sans-Serif\" font-size=\"14.00\">value = [0, 0, 1]</text>\n<text text-anchor=\"middle\" x=\"464\" y=\"-238.3\" font-family=\"Helvetica,sans-Serif\" font-size=\"14.00\">class = 贝尔摩德</text>\n</g>\n<!-- 10&#45;&gt;12 -->\n<g id=\"edge12\" class=\"edge\">\n<title>10&#45;&gt;12</title>\n<path fill=\"none\" stroke=\"black\" d=\"M377.14,-341.91C390.57,-330.1 405.21,-317.22 418.59,-305.45\"/>\n<polygon fill=\"black\" stroke=\"black\" points=\"421.1,-307.9 426.3,-298.67 416.48,-302.64 421.1,-307.9\"/>\n</g>\n<!-- 14 -->\n<g id=\"node15\" class=\"node\">\n<title>14</title>\n<path fill=\"#39e581\" stroke=\"black\" d=\"M509.5,-417.5C509.5,-417.5 416.5,-417.5 416.5,-417.5 410.5,-417.5 404.5,-411.5 404.5,-405.5 404.5,-405.5 404.5,-361.5 404.5,-361.5 404.5,-355.5 410.5,-349.5 416.5,-349.5 416.5,-349.5 509.5,-349.5 509.5,-349.5 515.5,-349.5 521.5,-355.5 521.5,-361.5 521.5,-361.5 521.5,-405.5 521.5,-405.5 521.5,-411.5 515.5,-417.5 509.5,-417.5\"/>\n<text text-anchor=\"middle\" x=\"463\" y=\"-402.3\" font-family=\"Helvetica,sans-Serif\" font-size=\"14.00\">entropy = 0.0</text>\n<text text-anchor=\"middle\" x=\"463\" y=\"-387.3\" font-family=\"Helvetica,sans-Serif\" font-size=\"14.00\">samples = 14</text>\n<text text-anchor=\"middle\" x=\"463\" y=\"-372.3\" font-family=\"Helvetica,sans-Serif\" font-size=\"14.00\">value = [0, 14, 0]</text>\n<text text-anchor=\"middle\" x=\"463\" y=\"-357.3\" font-family=\"Helvetica,sans-Serif\" font-size=\"14.00\">class = 雪莉</text>\n</g>\n<!-- 13&#45;&gt;14 -->\n<g id=\"edge14\" class=\"edge\">\n<title>13&#45;&gt;14</title>\n<path fill=\"none\" stroke=\"black\" d=\"M493.69,-460.91C489.31,-449.98 484.55,-438.14 480.12,-427.11\"/>\n<polygon fill=\"black\" stroke=\"black\" points=\"483.3,-425.64 476.32,-417.67 476.8,-428.25 483.3,-425.64\"/>\n</g>\n<!-- 15 -->\n<g id=\"node16\" class=\"node\">\n<title>15</title>\n<path fill=\"#6beca0\" stroke=\"black\" d=\"M660,-425C660,-425 552,-425 552,-425 546,-425 540,-419 540,-413 540,-413 540,-354 540,-354 540,-348 546,-342 552,-342 552,-342 660,-342 660,-342 666,-342 672,-348 672,-354 672,-354 672,-413 672,-413 672,-419 666,-425 660,-425\"/>\n<text text-anchor=\"middle\" x=\"606\" y=\"-409.8\" font-family=\"Helvetica,sans-Serif\" font-size=\"14.00\">脯氨酸 &lt;= 828.952</text>\n<text text-anchor=\"middle\" x=\"606\" y=\"-394.8\" font-family=\"Helvetica,sans-Serif\" font-size=\"14.00\">entropy = 0.946</text>\n<text text-anchor=\"middle\" x=\"606\" y=\"-379.8\" font-family=\"Helvetica,sans-Serif\" font-size=\"14.00\">samples = 14</text>\n<text text-anchor=\"middle\" x=\"606\" y=\"-364.8\" font-family=\"Helvetica,sans-Serif\" font-size=\"14.00\">value = [1, 11, 2]</text>\n<text text-anchor=\"middle\" x=\"606\" y=\"-349.8\" font-family=\"Helvetica,sans-Serif\" font-size=\"14.00\">class = 雪莉</text>\n</g>\n<!-- 13&#45;&gt;15 -->\n<g id=\"edge15\" class=\"edge\">\n<title>13&#45;&gt;15</title>\n<path fill=\"none\" stroke=\"black\" d=\"M543.31,-460.91C550.75,-451.83 558.72,-442.12 566.39,-432.77\"/>\n<polygon fill=\"black\" stroke=\"black\" points=\"569.11,-434.97 572.75,-425.02 563.7,-430.53 569.11,-434.97\"/>\n</g>\n<!-- 16 -->\n<g id=\"node17\" class=\"node\">\n<title>16</title>\n<path fill=\"#5dea98\" stroke=\"black\" d=\"M650.5,-306C650.5,-306 557.5,-306 557.5,-306 551.5,-306 545.5,-300 545.5,-294 545.5,-294 545.5,-235 545.5,-235 545.5,-229 551.5,-223 557.5,-223 557.5,-223 650.5,-223 650.5,-223 656.5,-223 662.5,-229 662.5,-235 662.5,-235 662.5,-294 662.5,-294 662.5,-300 656.5,-306 650.5,-306\"/>\n<text text-anchor=\"middle\" x=\"604\" y=\"-290.8\" font-family=\"Helvetica,sans-Serif\" font-size=\"14.00\">花青素 &lt;= 0.662</text>\n<text text-anchor=\"middle\" x=\"604\" y=\"-275.8\" font-family=\"Helvetica,sans-Serif\" font-size=\"14.00\">entropy = 0.619</text>\n<text text-anchor=\"middle\" x=\"604\" y=\"-260.8\" font-family=\"Helvetica,sans-Serif\" font-size=\"14.00\">samples = 13</text>\n<text text-anchor=\"middle\" x=\"604\" y=\"-245.8\" font-family=\"Helvetica,sans-Serif\" font-size=\"14.00\">value = [0, 11, 2]</text>\n<text text-anchor=\"middle\" x=\"604\" y=\"-230.8\" font-family=\"Helvetica,sans-Serif\" font-size=\"14.00\">class = 雪莉</text>\n</g>\n<!-- 15&#45;&gt;16 -->\n<g id=\"edge16\" class=\"edge\">\n<title>15&#45;&gt;16</title>\n<path fill=\"none\" stroke=\"black\" d=\"M605.31,-341.91C605.16,-333.56 605.01,-324.67 604.86,-316.02\"/>\n<polygon fill=\"black\" stroke=\"black\" points=\"608.36,-315.96 604.69,-306.02 601.36,-316.08 608.36,-315.96\"/>\n</g>\n<!-- 21 -->\n<g id=\"node22\" class=\"node\">\n<title>21</title>\n<path fill=\"#e58139\" stroke=\"black\" d=\"M779,-298.5C779,-298.5 693,-298.5 693,-298.5 687,-298.5 681,-292.5 681,-286.5 681,-286.5 681,-242.5 681,-242.5 681,-236.5 687,-230.5 693,-230.5 693,-230.5 779,-230.5 779,-230.5 785,-230.5 791,-236.5 791,-242.5 791,-242.5 791,-286.5 791,-286.5 791,-292.5 785,-298.5 779,-298.5\"/>\n<text text-anchor=\"middle\" x=\"736\" y=\"-283.3\" font-family=\"Helvetica,sans-Serif\" font-size=\"14.00\">entropy = 0.0</text>\n<text text-anchor=\"middle\" x=\"736\" y=\"-268.3\" font-family=\"Helvetica,sans-Serif\" font-size=\"14.00\">samples = 1</text>\n<text text-anchor=\"middle\" x=\"736\" y=\"-253.3\" font-family=\"Helvetica,sans-Serif\" font-size=\"14.00\">value = [1, 0, 0]</text>\n<text text-anchor=\"middle\" x=\"736\" y=\"-238.3\" font-family=\"Helvetica,sans-Serif\" font-size=\"14.00\">class = 琴酒</text>\n</g>\n<!-- 15&#45;&gt;21 -->\n<g id=\"edge21\" class=\"edge\">\n<title>15&#45;&gt;21</title>\n<path fill=\"none\" stroke=\"black\" d=\"M651.1,-341.91C664.22,-330.1 678.54,-317.22 691.61,-305.45\"/>\n<polygon fill=\"black\" stroke=\"black\" points=\"694.06,-307.96 699.15,-298.67 689.37,-302.76 694.06,-307.96\"/>\n</g>\n<!-- 17 -->\n<g id=\"node18\" class=\"node\">\n<title>17</title>\n<path fill=\"#8139e5\" stroke=\"black\" d=\"M559,-179.5C559,-179.5 463,-179.5 463,-179.5 457,-179.5 451,-173.5 451,-167.5 451,-167.5 451,-123.5 451,-123.5 451,-117.5 457,-111.5 463,-111.5 463,-111.5 559,-111.5 559,-111.5 565,-111.5 571,-117.5 571,-123.5 571,-123.5 571,-167.5 571,-167.5 571,-173.5 565,-179.5 559,-179.5\"/>\n<text text-anchor=\"middle\" x=\"511\" y=\"-164.3\" font-family=\"Helvetica,sans-Serif\" font-size=\"14.00\">entropy = 0.0</text>\n<text text-anchor=\"middle\" x=\"511\" y=\"-149.3\" font-family=\"Helvetica,sans-Serif\" font-size=\"14.00\">samples = 1</text>\n<text text-anchor=\"middle\" x=\"511\" y=\"-134.3\" font-family=\"Helvetica,sans-Serif\" font-size=\"14.00\">value = [0, 0, 1]</text>\n<text text-anchor=\"middle\" x=\"511\" y=\"-119.3\" font-family=\"Helvetica,sans-Serif\" font-size=\"14.00\">class = 贝尔摩德</text>\n</g>\n<!-- 16&#45;&gt;17 -->\n<g id=\"edge17\" class=\"edge\">\n<title>16&#45;&gt;17</title>\n<path fill=\"none\" stroke=\"black\" d=\"M571.73,-222.91C562.7,-211.54 552.87,-199.18 543.81,-187.77\"/>\n<polygon fill=\"black\" stroke=\"black\" points=\"546.33,-185.32 537.36,-179.67 540.85,-189.67 546.33,-185.32\"/>\n</g>\n<!-- 18 -->\n<g id=\"node19\" class=\"node\">\n<title>18</title>\n<path fill=\"#4be78c\" stroke=\"black\" d=\"M694.5,-187C694.5,-187 601.5,-187 601.5,-187 595.5,-187 589.5,-181 589.5,-175 589.5,-175 589.5,-116 589.5,-116 589.5,-110 595.5,-104 601.5,-104 601.5,-104 694.5,-104 694.5,-104 700.5,-104 706.5,-110 706.5,-116 706.5,-116 706.5,-175 706.5,-175 706.5,-181 700.5,-187 694.5,-187\"/>\n<text text-anchor=\"middle\" x=\"648\" y=\"-171.8\" font-family=\"Helvetica,sans-Serif\" font-size=\"14.00\">类黄酮 &lt;= 0.97</text>\n<text text-anchor=\"middle\" x=\"648\" y=\"-156.8\" font-family=\"Helvetica,sans-Serif\" font-size=\"14.00\">entropy = 0.414</text>\n<text text-anchor=\"middle\" x=\"648\" y=\"-141.8\" font-family=\"Helvetica,sans-Serif\" font-size=\"14.00\">samples = 12</text>\n<text text-anchor=\"middle\" x=\"648\" y=\"-126.8\" font-family=\"Helvetica,sans-Serif\" font-size=\"14.00\">value = [0, 11, 1]</text>\n<text text-anchor=\"middle\" x=\"648\" y=\"-111.8\" font-family=\"Helvetica,sans-Serif\" font-size=\"14.00\">class = 雪莉</text>\n</g>\n<!-- 16&#45;&gt;18 -->\n<g id=\"edge18\" class=\"edge\">\n<title>16&#45;&gt;18</title>\n<path fill=\"none\" stroke=\"black\" d=\"M619.27,-222.91C622.47,-214.38 625.89,-205.28 629.21,-196.46\"/>\n<polygon fill=\"black\" stroke=\"black\" points=\"632.52,-197.61 632.76,-187.02 625.97,-195.15 632.52,-197.61\"/>\n</g>\n<!-- 19 -->\n<g id=\"node20\" class=\"node\">\n<title>19</title>\n<path fill=\"#8139e5\" stroke=\"black\" d=\"M603,-68C603,-68 507,-68 507,-68 501,-68 495,-62 495,-56 495,-56 495,-12 495,-12 495,-6 501,0 507,0 507,0 603,0 603,0 609,0 615,-6 615,-12 615,-12 615,-56 615,-56 615,-62 609,-68 603,-68\"/>\n<text text-anchor=\"middle\" x=\"555\" y=\"-52.8\" font-family=\"Helvetica,sans-Serif\" font-size=\"14.00\">entropy = 0.0</text>\n<text text-anchor=\"middle\" x=\"555\" y=\"-37.8\" font-family=\"Helvetica,sans-Serif\" font-size=\"14.00\">samples = 1</text>\n<text text-anchor=\"middle\" x=\"555\" y=\"-22.8\" font-family=\"Helvetica,sans-Serif\" font-size=\"14.00\">value = [0, 0, 1]</text>\n<text text-anchor=\"middle\" x=\"555\" y=\"-7.8\" font-family=\"Helvetica,sans-Serif\" font-size=\"14.00\">class = 贝尔摩德</text>\n</g>\n<!-- 18&#45;&gt;19 -->\n<g id=\"edge19\" class=\"edge\">\n<title>18&#45;&gt;19</title>\n<path fill=\"none\" stroke=\"black\" d=\"M613.37,-103.73C605.7,-94.7 597.57,-85.12 589.89,-76.08\"/>\n<polygon fill=\"black\" stroke=\"black\" points=\"592.42,-73.66 583.28,-68.3 587.09,-78.19 592.42,-73.66\"/>\n</g>\n<!-- 20 -->\n<g id=\"node21\" class=\"node\">\n<title>20</title>\n<path fill=\"#39e581\" stroke=\"black\" d=\"M738.5,-68C738.5,-68 645.5,-68 645.5,-68 639.5,-68 633.5,-62 633.5,-56 633.5,-56 633.5,-12 633.5,-12 633.5,-6 639.5,0 645.5,0 645.5,0 738.5,0 738.5,0 744.5,0 750.5,-6 750.5,-12 750.5,-12 750.5,-56 750.5,-56 750.5,-62 744.5,-68 738.5,-68\"/>\n<text text-anchor=\"middle\" x=\"692\" y=\"-52.8\" font-family=\"Helvetica,sans-Serif\" font-size=\"14.00\">entropy = 0.0</text>\n<text text-anchor=\"middle\" x=\"692\" y=\"-37.8\" font-family=\"Helvetica,sans-Serif\" font-size=\"14.00\">samples = 11</text>\n<text text-anchor=\"middle\" x=\"692\" y=\"-22.8\" font-family=\"Helvetica,sans-Serif\" font-size=\"14.00\">value = [0, 11, 0]</text>\n<text text-anchor=\"middle\" x=\"692\" y=\"-7.8\" font-family=\"Helvetica,sans-Serif\" font-size=\"14.00\">class = 雪莉</text>\n</g>\n<!-- 18&#45;&gt;20 -->\n<g id=\"edge20\" class=\"edge\">\n<title>18&#45;&gt;20</title>\n<path fill=\"none\" stroke=\"black\" d=\"M664.38,-103.73C667.79,-95.24 671.39,-86.28 674.83,-77.73\"/>\n<polygon fill=\"black\" stroke=\"black\" points=\"678.14,-78.88 678.62,-68.3 671.64,-76.27 678.14,-78.88\"/>\n</g>\n<!-- 23 -->\n<g id=\"node24\" class=\"node\">\n<title>23</title>\n<path fill=\"#44e688\" stroke=\"black\" d=\"M868,-544C868,-544 760,-544 760,-544 754,-544 748,-538 748,-532 748,-532 748,-473 748,-473 748,-467 754,-461 760,-461 760,-461 868,-461 868,-461 874,-461 880,-467 880,-473 880,-473 880,-532 880,-532 880,-538 874,-544 868,-544\"/>\n<text text-anchor=\"middle\" x=\"814\" y=\"-528.8\" font-family=\"Helvetica,sans-Serif\" font-size=\"14.00\">脯氨酸 &lt;= 769.761</text>\n<text text-anchor=\"middle\" x=\"814\" y=\"-513.8\" font-family=\"Helvetica,sans-Serif\" font-size=\"14.00\">entropy = 0.297</text>\n<text text-anchor=\"middle\" x=\"814\" y=\"-498.8\" font-family=\"Helvetica,sans-Serif\" font-size=\"14.00\">samples = 19</text>\n<text text-anchor=\"middle\" x=\"814\" y=\"-483.8\" font-family=\"Helvetica,sans-Serif\" font-size=\"14.00\">value = [1, 18, 0]</text>\n<text text-anchor=\"middle\" x=\"814\" y=\"-468.8\" font-family=\"Helvetica,sans-Serif\" font-size=\"14.00\">class = 雪莉</text>\n</g>\n<!-- 22&#45;&gt;23 -->\n<g id=\"edge23\" class=\"edge\">\n<title>22&#45;&gt;23</title>\n<path fill=\"none\" stroke=\"black\" d=\"M814,-579.91C814,-571.65 814,-562.86 814,-554.3\"/>\n<polygon fill=\"black\" stroke=\"black\" points=\"817.5,-554.02 814,-544.02 810.5,-554.02 817.5,-554.02\"/>\n</g>\n<!-- 28 -->\n<g id=\"node29\" class=\"node\">\n<title>28</title>\n<path fill=\"#e88f4f\" stroke=\"black\" d=\"M1084,-544C1084,-544 976,-544 976,-544 970,-544 964,-538 964,-532 964,-532 964,-473 964,-473 964,-467 970,-461 976,-461 976,-461 1084,-461 1084,-461 1090,-461 1096,-467 1096,-473 1096,-473 1096,-532 1096,-532 1096,-538 1090,-544 1084,-544\"/>\n<text text-anchor=\"middle\" x=\"1030\" y=\"-528.8\" font-family=\"Helvetica,sans-Serif\" font-size=\"14.00\">脯氨酸 &lt;= 667.922</text>\n<text text-anchor=\"middle\" x=\"1030\" y=\"-513.8\" font-family=\"Helvetica,sans-Serif\" font-size=\"14.00\">entropy = 0.469</text>\n<text text-anchor=\"middle\" x=\"1030\" y=\"-498.8\" font-family=\"Helvetica,sans-Serif\" font-size=\"14.00\">samples = 40</text>\n<text text-anchor=\"middle\" x=\"1030\" y=\"-483.8\" font-family=\"Helvetica,sans-Serif\" font-size=\"14.00\">value = [36, 4, 0]</text>\n<text text-anchor=\"middle\" x=\"1030\" y=\"-468.8\" font-family=\"Helvetica,sans-Serif\" font-size=\"14.00\">class = 琴酒</text>\n</g>\n<!-- 22&#45;&gt;28 -->\n<g id=\"edge28\" class=\"edge\">\n<title>22&#45;&gt;28</title>\n<path fill=\"none\" stroke=\"black\" d=\"M879.69,-584.92C903.45,-572.05 930.47,-557.41 954.98,-544.14\"/>\n<polygon fill=\"black\" stroke=\"black\" points=\"956.75,-547.16 963.88,-539.31 953.42,-541 956.75,-547.16\"/>\n</g>\n<!-- 24 -->\n<g id=\"node25\" class=\"node\">\n<title>24</title>\n<path fill=\"#39e581\" stroke=\"black\" d=\"M795.5,-417.5C795.5,-417.5 702.5,-417.5 702.5,-417.5 696.5,-417.5 690.5,-411.5 690.5,-405.5 690.5,-405.5 690.5,-361.5 690.5,-361.5 690.5,-355.5 696.5,-349.5 702.5,-349.5 702.5,-349.5 795.5,-349.5 795.5,-349.5 801.5,-349.5 807.5,-355.5 807.5,-361.5 807.5,-361.5 807.5,-405.5 807.5,-405.5 807.5,-411.5 801.5,-417.5 795.5,-417.5\"/>\n<text text-anchor=\"middle\" x=\"749\" y=\"-402.3\" font-family=\"Helvetica,sans-Serif\" font-size=\"14.00\">entropy = 0.0</text>\n<text text-anchor=\"middle\" x=\"749\" y=\"-387.3\" font-family=\"Helvetica,sans-Serif\" font-size=\"14.00\">samples = 17</text>\n<text text-anchor=\"middle\" x=\"749\" y=\"-372.3\" font-family=\"Helvetica,sans-Serif\" font-size=\"14.00\">value = [0, 17, 0]</text>\n<text text-anchor=\"middle\" x=\"749\" y=\"-357.3\" font-family=\"Helvetica,sans-Serif\" font-size=\"14.00\">class = 雪莉</text>\n</g>\n<!-- 23&#45;&gt;24 -->\n<g id=\"edge24\" class=\"edge\">\n<title>23&#45;&gt;24</title>\n<path fill=\"none\" stroke=\"black\" d=\"M791.45,-460.91C785.26,-449.76 778.53,-437.66 772.3,-426.44\"/>\n<polygon fill=\"black\" stroke=\"black\" points=\"775.34,-424.71 767.43,-417.67 769.22,-428.11 775.34,-424.71\"/>\n</g>\n<!-- 25 -->\n<g id=\"node26\" class=\"node\">\n<title>25</title>\n<path fill=\"#ffffff\" stroke=\"black\" d=\"M944.5,-425C944.5,-425 837.5,-425 837.5,-425 831.5,-425 825.5,-419 825.5,-413 825.5,-413 825.5,-354 825.5,-354 825.5,-348 831.5,-342 837.5,-342 837.5,-342 944.5,-342 944.5,-342 950.5,-342 956.5,-348 956.5,-354 956.5,-354 956.5,-413 956.5,-413 956.5,-419 950.5,-425 944.5,-425\"/>\n<text text-anchor=\"middle\" x=\"891\" y=\"-409.8\" font-family=\"Helvetica,sans-Serif\" font-size=\"14.00\">颜色强度 &lt;= 3.652</text>\n<text text-anchor=\"middle\" x=\"891\" y=\"-394.8\" font-family=\"Helvetica,sans-Serif\" font-size=\"14.00\">entropy = 1.0</text>\n<text text-anchor=\"middle\" x=\"891\" y=\"-379.8\" font-family=\"Helvetica,sans-Serif\" font-size=\"14.00\">samples = 2</text>\n<text text-anchor=\"middle\" x=\"891\" y=\"-364.8\" font-family=\"Helvetica,sans-Serif\" font-size=\"14.00\">value = [1, 1, 0]</text>\n<text text-anchor=\"middle\" x=\"891\" y=\"-349.8\" font-family=\"Helvetica,sans-Serif\" font-size=\"14.00\">class = 琴酒</text>\n</g>\n<!-- 23&#45;&gt;25 -->\n<g id=\"edge25\" class=\"edge\">\n<title>23&#45;&gt;25</title>\n<path fill=\"none\" stroke=\"black\" d=\"M840.71,-460.91C846.51,-452.1 852.7,-442.7 858.68,-433.61\"/>\n<polygon fill=\"black\" stroke=\"black\" points=\"861.76,-435.3 864.33,-425.02 855.91,-431.45 861.76,-435.3\"/>\n</g>\n<!-- 26 -->\n<g id=\"node27\" class=\"node\">\n<title>26</title>\n<path fill=\"#39e581\" stroke=\"black\" d=\"M921,-298.5C921,-298.5 835,-298.5 835,-298.5 829,-298.5 823,-292.5 823,-286.5 823,-286.5 823,-242.5 823,-242.5 823,-236.5 829,-230.5 835,-230.5 835,-230.5 921,-230.5 921,-230.5 927,-230.5 933,-236.5 933,-242.5 933,-242.5 933,-286.5 933,-286.5 933,-292.5 927,-298.5 921,-298.5\"/>\n<text text-anchor=\"middle\" x=\"878\" y=\"-283.3\" font-family=\"Helvetica,sans-Serif\" font-size=\"14.00\">entropy = 0.0</text>\n<text text-anchor=\"middle\" x=\"878\" y=\"-268.3\" font-family=\"Helvetica,sans-Serif\" font-size=\"14.00\">samples = 1</text>\n<text text-anchor=\"middle\" x=\"878\" y=\"-253.3\" font-family=\"Helvetica,sans-Serif\" font-size=\"14.00\">value = [0, 1, 0]</text>\n<text text-anchor=\"middle\" x=\"878\" y=\"-238.3\" font-family=\"Helvetica,sans-Serif\" font-size=\"14.00\">class = 雪莉</text>\n</g>\n<!-- 25&#45;&gt;26 -->\n<g id=\"edge26\" class=\"edge\">\n<title>25&#45;&gt;26</title>\n<path fill=\"none\" stroke=\"black\" d=\"M886.49,-341.91C885.3,-331.2 884.01,-319.62 882.81,-308.78\"/>\n<polygon fill=\"black\" stroke=\"black\" points=\"886.27,-308.22 881.69,-298.67 879.31,-308.99 886.27,-308.22\"/>\n</g>\n<!-- 27 -->\n<g id=\"node28\" class=\"node\">\n<title>27</title>\n<path fill=\"#e58139\" stroke=\"black\" d=\"M1049,-298.5C1049,-298.5 963,-298.5 963,-298.5 957,-298.5 951,-292.5 951,-286.5 951,-286.5 951,-242.5 951,-242.5 951,-236.5 957,-230.5 963,-230.5 963,-230.5 1049,-230.5 1049,-230.5 1055,-230.5 1061,-236.5 1061,-242.5 1061,-242.5 1061,-286.5 1061,-286.5 1061,-292.5 1055,-298.5 1049,-298.5\"/>\n<text text-anchor=\"middle\" x=\"1006\" y=\"-283.3\" font-family=\"Helvetica,sans-Serif\" font-size=\"14.00\">entropy = 0.0</text>\n<text text-anchor=\"middle\" x=\"1006\" y=\"-268.3\" font-family=\"Helvetica,sans-Serif\" font-size=\"14.00\">samples = 1</text>\n<text text-anchor=\"middle\" x=\"1006\" y=\"-253.3\" font-family=\"Helvetica,sans-Serif\" font-size=\"14.00\">value = [1, 0, 0]</text>\n<text text-anchor=\"middle\" x=\"1006\" y=\"-238.3\" font-family=\"Helvetica,sans-Serif\" font-size=\"14.00\">class = 琴酒</text>\n</g>\n<!-- 25&#45;&gt;27 -->\n<g id=\"edge27\" class=\"edge\">\n<title>25&#45;&gt;27</title>\n<path fill=\"none\" stroke=\"black\" d=\"M930.9,-341.91C942.29,-330.32 954.69,-317.7 966.08,-306.11\"/>\n<polygon fill=\"black\" stroke=\"black\" points=\"968.89,-308.25 973.4,-298.67 963.89,-303.35 968.89,-308.25\"/>\n</g>\n<!-- 29 -->\n<g id=\"node30\" class=\"node\">\n<title>29</title>\n<path fill=\"#39e581\" stroke=\"black\" d=\"M1073,-417.5C1073,-417.5 987,-417.5 987,-417.5 981,-417.5 975,-411.5 975,-405.5 975,-405.5 975,-361.5 975,-361.5 975,-355.5 981,-349.5 987,-349.5 987,-349.5 1073,-349.5 1073,-349.5 1079,-349.5 1085,-355.5 1085,-361.5 1085,-361.5 1085,-405.5 1085,-405.5 1085,-411.5 1079,-417.5 1073,-417.5\"/>\n<text text-anchor=\"middle\" x=\"1030\" y=\"-402.3\" font-family=\"Helvetica,sans-Serif\" font-size=\"14.00\">entropy = 0.0</text>\n<text text-anchor=\"middle\" x=\"1030\" y=\"-387.3\" font-family=\"Helvetica,sans-Serif\" font-size=\"14.00\">samples = 4</text>\n<text text-anchor=\"middle\" x=\"1030\" y=\"-372.3\" font-family=\"Helvetica,sans-Serif\" font-size=\"14.00\">value = [0, 4, 0]</text>\n<text text-anchor=\"middle\" x=\"1030\" y=\"-357.3\" font-family=\"Helvetica,sans-Serif\" font-size=\"14.00\">class = 雪莉</text>\n</g>\n<!-- 28&#45;&gt;29 -->\n<g id=\"edge29\" class=\"edge\">\n<title>28&#45;&gt;29</title>\n<path fill=\"none\" stroke=\"black\" d=\"M1030,-460.91C1030,-450.2 1030,-438.62 1030,-427.78\"/>\n<polygon fill=\"black\" stroke=\"black\" points=\"1033.5,-427.67 1030,-417.67 1026.5,-427.67 1033.5,-427.67\"/>\n</g>\n<!-- 30 -->\n<g id=\"node31\" class=\"node\">\n<title>30</title>\n<path fill=\"#e58139\" stroke=\"black\" d=\"M1208.5,-417.5C1208.5,-417.5 1115.5,-417.5 1115.5,-417.5 1109.5,-417.5 1103.5,-411.5 1103.5,-405.5 1103.5,-405.5 1103.5,-361.5 1103.5,-361.5 1103.5,-355.5 1109.5,-349.5 1115.5,-349.5 1115.5,-349.5 1208.5,-349.5 1208.5,-349.5 1214.5,-349.5 1220.5,-355.5 1220.5,-361.5 1220.5,-361.5 1220.5,-405.5 1220.5,-405.5 1220.5,-411.5 1214.5,-417.5 1208.5,-417.5\"/>\n<text text-anchor=\"middle\" x=\"1162\" y=\"-402.3\" font-family=\"Helvetica,sans-Serif\" font-size=\"14.00\">entropy = 0.0</text>\n<text text-anchor=\"middle\" x=\"1162\" y=\"-387.3\" font-family=\"Helvetica,sans-Serif\" font-size=\"14.00\">samples = 36</text>\n<text text-anchor=\"middle\" x=\"1162\" y=\"-372.3\" font-family=\"Helvetica,sans-Serif\" font-size=\"14.00\">value = [36, 0, 0]</text>\n<text text-anchor=\"middle\" x=\"1162\" y=\"-357.3\" font-family=\"Helvetica,sans-Serif\" font-size=\"14.00\">class = 琴酒</text>\n</g>\n<!-- 28&#45;&gt;30 -->\n<g id=\"edge30\" class=\"edge\">\n<title>28&#45;&gt;30</title>\n<path fill=\"none\" stroke=\"black\" d=\"M1075.8,-460.91C1089.12,-449.1 1103.65,-436.22 1116.93,-424.45\"/>\n<polygon fill=\"black\" stroke=\"black\" points=\"1119.42,-426.92 1124.58,-417.67 1114.78,-421.68 1119.42,-426.92\"/>\n</g>\n</g>\n</svg>\n"
     },
     "execution_count": 29,
     "metadata": {},
     "output_type": "execute_result"
    }
   ],
   "source": [
    "import graphviz\n",
    "dot_data = tree.export_graphviz(clf\n",
    "                               ,feature_names= feature_name\n",
    "                               ,class_names=[\"琴酒\",\"雪莉\",\"贝尔摩德\"]\n",
    "                               ,filled=True\n",
    "                               ,rounded=True\n",
    "                               )\n",
    "graph = graphviz.Source(dot_data)\n",
    "\n",
    "graph"
   ],
   "metadata": {
    "collapsed": false,
    "pycharm": {
     "name": "#%%\n"
    }
   }
  },
  {
   "cell_type": "code",
   "execution_count": 26,
   "outputs": [
    {
     "data": {
      "text/plain": "1.0"
     },
     "execution_count": 26,
     "metadata": {},
     "output_type": "execute_result"
    }
   ],
   "source": [
    "#我们的树对训练集的拟合程度如何？\n",
    "score_train = clf.score(Xtrain, Ytrain)\n",
    "score_train"
   ],
   "metadata": {
    "collapsed": false,
    "pycharm": {
     "name": "#%%\n"
    }
   }
  },
  {
   "cell_type": "code",
   "execution_count": 30,
   "outputs": [],
   "source": [
    "clf = tree.DecisionTreeClassifier(criterion=\"entropy\"\n",
    "                                 ,random_state=30\n",
    "                                 ,splitter=\"random\"\n",
    "                                 ,max_depth=3\n",
    "                                 ,min_samples_leaf=10\n",
    "                                 ,min_samples_split=10\n",
    "                                 )\n",
    "clf = clf.fit(Xtrain, Ytrain)"
   ],
   "metadata": {
    "collapsed": false,
    "pycharm": {
     "name": "#%%\n"
    }
   }
  },
  {
   "cell_type": "code",
   "execution_count": 31,
   "outputs": [
    {
     "data": {
      "text/plain": "<graphviz.files.Source at 0x7f78d865c3c8>",
      "image/svg+xml": "<?xml version=\"1.0\" encoding=\"UTF-8\" standalone=\"no\"?>\n<!DOCTYPE svg PUBLIC \"-//W3C//DTD SVG 1.1//EN\"\n \"http://www.w3.org/Graphics/SVG/1.1/DTD/svg11.dtd\">\n<!-- Generated by graphviz version 2.50.0 (0)\n -->\n<!-- Title: Tree Pages: 1 -->\n<svg width=\"819pt\" height=\"433pt\"\n viewBox=\"0.00 0.00 818.50 433.00\" xmlns=\"http://www.w3.org/2000/svg\" xmlns:xlink=\"http://www.w3.org/1999/xlink\">\n<g id=\"graph0\" class=\"graph\" transform=\"scale(1 1) rotate(0) translate(4 429)\">\n<title>Tree</title>\n<polygon fill=\"white\" stroke=\"transparent\" points=\"-4,4 -4,-429 814.5,-429 814.5,4 -4,4\"/>\n<!-- 0 -->\n<g id=\"node1\" class=\"node\">\n<title>0</title>\n<path fill=\"#dcfae9\" stroke=\"black\" d=\"M471,-425C471,-425 363,-425 363,-425 357,-425 351,-419 351,-413 351,-413 351,-354 351,-354 351,-348 357,-342 363,-342 363,-342 471,-342 471,-342 477,-342 483,-348 483,-354 483,-354 483,-413 483,-413 483,-419 477,-425 471,-425\"/>\n<text text-anchor=\"middle\" x=\"417\" y=\"-409.8\" font-family=\"Helvetica,sans-Serif\" font-size=\"14.00\">类黄酮 &lt;= 2.234</text>\n<text text-anchor=\"middle\" x=\"417\" y=\"-394.8\" font-family=\"Helvetica,sans-Serif\" font-size=\"14.00\">entropy = 1.555</text>\n<text text-anchor=\"middle\" x=\"417\" y=\"-379.8\" font-family=\"Helvetica,sans-Serif\" font-size=\"14.00\">samples = 124</text>\n<text text-anchor=\"middle\" x=\"417\" y=\"-364.8\" font-family=\"Helvetica,sans-Serif\" font-size=\"14.00\">value = [38, 53, 33]</text>\n<text text-anchor=\"middle\" x=\"417\" y=\"-349.8\" font-family=\"Helvetica,sans-Serif\" font-size=\"14.00\">class = 雪莉</text>\n</g>\n<!-- 1 -->\n<g id=\"node2\" class=\"node\">\n<title>1</title>\n<path fill=\"#f8f3fd\" stroke=\"black\" d=\"M419,-306C419,-306 219,-306 219,-306 213,-306 207,-300 207,-294 207,-294 207,-235 207,-235 207,-229 213,-223 219,-223 219,-223 419,-223 419,-223 425,-223 431,-229 431,-235 431,-235 431,-294 431,-294 431,-300 425,-306 419,-306\"/>\n<text text-anchor=\"middle\" x=\"319\" y=\"-290.8\" font-family=\"Helvetica,sans-Serif\" font-size=\"14.00\">od280/od315稀释葡萄酒 &lt;= 2.228</text>\n<text text-anchor=\"middle\" x=\"319\" y=\"-275.8\" font-family=\"Helvetica,sans-Serif\" font-size=\"14.00\">entropy = 1.099</text>\n<text text-anchor=\"middle\" x=\"319\" y=\"-260.8\" font-family=\"Helvetica,sans-Serif\" font-size=\"14.00\">samples = 65</text>\n<text text-anchor=\"middle\" x=\"319\" y=\"-245.8\" font-family=\"Helvetica,sans-Serif\" font-size=\"14.00\">value = [1, 31, 33]</text>\n<text text-anchor=\"middle\" x=\"319\" y=\"-230.8\" font-family=\"Helvetica,sans-Serif\" font-size=\"14.00\">class = 贝尔摩德</text>\n</g>\n<!-- 0&#45;&gt;1 -->\n<g id=\"edge1\" class=\"edge\">\n<title>0&#45;&gt;1</title>\n<path fill=\"none\" stroke=\"black\" d=\"M383,-341.91C375.4,-332.83 367.26,-323.12 359.43,-313.77\"/>\n<polygon fill=\"black\" stroke=\"black\" points=\"362.04,-311.44 352.94,-306.02 356.68,-315.93 362.04,-311.44\"/>\n<text text-anchor=\"middle\" x=\"350.74\" y=\"-327.22\" font-family=\"Helvetica,sans-Serif\" font-size=\"14.00\">True</text>\n</g>\n<!-- 8 -->\n<g id=\"node9\" class=\"node\">\n<title>8</title>\n<path fill=\"#f4ccaf\" stroke=\"black\" d=\"M569,-306C569,-306 461,-306 461,-306 455,-306 449,-300 449,-294 449,-294 449,-235 449,-235 449,-229 455,-223 461,-223 461,-223 569,-223 569,-223 575,-223 581,-229 581,-235 581,-235 581,-294 581,-294 581,-300 575,-306 569,-306\"/>\n<text text-anchor=\"middle\" x=\"515\" y=\"-290.8\" font-family=\"Helvetica,sans-Serif\" font-size=\"14.00\">脯氨酸 &lt;= 558.218</text>\n<text text-anchor=\"middle\" x=\"515\" y=\"-275.8\" font-family=\"Helvetica,sans-Serif\" font-size=\"14.00\">entropy = 0.953</text>\n<text text-anchor=\"middle\" x=\"515\" y=\"-260.8\" font-family=\"Helvetica,sans-Serif\" font-size=\"14.00\">samples = 59</text>\n<text text-anchor=\"middle\" x=\"515\" y=\"-245.8\" font-family=\"Helvetica,sans-Serif\" font-size=\"14.00\">value = [37, 22, 0]</text>\n<text text-anchor=\"middle\" x=\"515\" y=\"-230.8\" font-family=\"Helvetica,sans-Serif\" font-size=\"14.00\">class = 琴酒</text>\n</g>\n<!-- 0&#45;&gt;8 -->\n<g id=\"edge8\" class=\"edge\">\n<title>0&#45;&gt;8</title>\n<path fill=\"none\" stroke=\"black\" d=\"M451,-341.91C458.6,-332.83 466.74,-323.12 474.57,-313.77\"/>\n<polygon fill=\"black\" stroke=\"black\" points=\"477.32,-315.93 481.06,-306.02 471.96,-311.44 477.32,-315.93\"/>\n<text text-anchor=\"middle\" x=\"483.26\" y=\"-327.22\" font-family=\"Helvetica,sans-Serif\" font-size=\"14.00\">False</text>\n</g>\n<!-- 2 -->\n<g id=\"node3\" class=\"node\">\n<title>2</title>\n<path fill=\"#995fea\" stroke=\"black\" d=\"M246,-187C246,-187 150,-187 150,-187 144,-187 138,-181 138,-175 138,-175 138,-116 138,-116 138,-110 144,-104 150,-104 150,-104 246,-104 246,-104 252,-104 258,-110 258,-116 258,-116 258,-175 258,-175 258,-181 252,-187 246,-187\"/>\n<text text-anchor=\"middle\" x=\"198\" y=\"-171.8\" font-family=\"Helvetica,sans-Serif\" font-size=\"14.00\">酒精 &lt;= 13.435</text>\n<text text-anchor=\"middle\" x=\"198\" y=\"-156.8\" font-family=\"Helvetica,sans-Serif\" font-size=\"14.00\">entropy = 0.639</text>\n<text text-anchor=\"middle\" x=\"198\" y=\"-141.8\" font-family=\"Helvetica,sans-Serif\" font-size=\"14.00\">samples = 37</text>\n<text text-anchor=\"middle\" x=\"198\" y=\"-126.8\" font-family=\"Helvetica,sans-Serif\" font-size=\"14.00\">value = [0, 6, 31]</text>\n<text text-anchor=\"middle\" x=\"198\" y=\"-111.8\" font-family=\"Helvetica,sans-Serif\" font-size=\"14.00\">class = 贝尔摩德</text>\n</g>\n<!-- 1&#45;&gt;2 -->\n<g id=\"edge2\" class=\"edge\">\n<title>1&#45;&gt;2</title>\n<path fill=\"none\" stroke=\"black\" d=\"M277.02,-222.91C267.45,-213.65 257.19,-203.73 247.34,-194.21\"/>\n<polygon fill=\"black\" stroke=\"black\" points=\"249.53,-191.46 239.91,-187.02 244.66,-196.49 249.53,-191.46\"/>\n</g>\n<!-- 5 -->\n<g id=\"node6\" class=\"node\">\n<title>5</title>\n<path fill=\"#50e890\" stroke=\"black\" d=\"M381.5,-187C381.5,-187 288.5,-187 288.5,-187 282.5,-187 276.5,-181 276.5,-175 276.5,-175 276.5,-116 276.5,-116 276.5,-110 282.5,-104 288.5,-104 288.5,-104 381.5,-104 381.5,-104 387.5,-104 393.5,-110 393.5,-116 393.5,-116 393.5,-175 393.5,-175 393.5,-181 387.5,-187 381.5,-187\"/>\n<text text-anchor=\"middle\" x=\"335\" y=\"-171.8\" font-family=\"Helvetica,sans-Serif\" font-size=\"14.00\">灰 &lt;= 2.321</text>\n<text text-anchor=\"middle\" x=\"335\" y=\"-156.8\" font-family=\"Helvetica,sans-Serif\" font-size=\"14.00\">entropy = 0.59</text>\n<text text-anchor=\"middle\" x=\"335\" y=\"-141.8\" font-family=\"Helvetica,sans-Serif\" font-size=\"14.00\">samples = 28</text>\n<text text-anchor=\"middle\" x=\"335\" y=\"-126.8\" font-family=\"Helvetica,sans-Serif\" font-size=\"14.00\">value = [1, 25, 2]</text>\n<text text-anchor=\"middle\" x=\"335\" y=\"-111.8\" font-family=\"Helvetica,sans-Serif\" font-size=\"14.00\">class = 雪莉</text>\n</g>\n<!-- 1&#45;&gt;5 -->\n<g id=\"edge5\" class=\"edge\">\n<title>1&#45;&gt;5</title>\n<path fill=\"none\" stroke=\"black\" d=\"M324.55,-222.91C325.69,-214.56 326.91,-205.67 328.09,-197.02\"/>\n<polygon fill=\"black\" stroke=\"black\" points=\"331.57,-197.4 329.46,-187.02 324.64,-196.45 331.57,-197.4\"/>\n</g>\n<!-- 3 -->\n<g id=\"node4\" class=\"node\">\n<title>3</title>\n<path fill=\"#a572ec\" stroke=\"black\" d=\"M108,-68C108,-68 12,-68 12,-68 6,-68 0,-62 0,-56 0,-56 0,-12 0,-12 0,-6 6,0 12,0 12,0 108,0 108,0 114,0 120,-6 120,-12 120,-12 120,-56 120,-56 120,-62 114,-68 108,-68\"/>\n<text text-anchor=\"middle\" x=\"60\" y=\"-52.8\" font-family=\"Helvetica,sans-Serif\" font-size=\"14.00\">entropy = 0.764</text>\n<text text-anchor=\"middle\" x=\"60\" y=\"-37.8\" font-family=\"Helvetica,sans-Serif\" font-size=\"14.00\">samples = 27</text>\n<text text-anchor=\"middle\" x=\"60\" y=\"-22.8\" font-family=\"Helvetica,sans-Serif\" font-size=\"14.00\">value = [0, 6, 21]</text>\n<text text-anchor=\"middle\" x=\"60\" y=\"-7.8\" font-family=\"Helvetica,sans-Serif\" font-size=\"14.00\">class = 贝尔摩德</text>\n</g>\n<!-- 2&#45;&gt;3 -->\n<g id=\"edge3\" class=\"edge\">\n<title>2&#45;&gt;3</title>\n<path fill=\"none\" stroke=\"black\" d=\"M146.61,-103.73C134.66,-94.24 121.95,-84.16 110.05,-74.72\"/>\n<polygon fill=\"black\" stroke=\"black\" points=\"111.98,-71.77 101.97,-68.3 107.62,-77.26 111.98,-71.77\"/>\n</g>\n<!-- 4 -->\n<g id=\"node5\" class=\"node\">\n<title>4</title>\n<path fill=\"#8139e5\" stroke=\"black\" d=\"M246,-68C246,-68 150,-68 150,-68 144,-68 138,-62 138,-56 138,-56 138,-12 138,-12 138,-6 144,0 150,0 150,0 246,0 246,0 252,0 258,-6 258,-12 258,-12 258,-56 258,-56 258,-62 252,-68 246,-68\"/>\n<text text-anchor=\"middle\" x=\"198\" y=\"-52.8\" font-family=\"Helvetica,sans-Serif\" font-size=\"14.00\">entropy = 0.0</text>\n<text text-anchor=\"middle\" x=\"198\" y=\"-37.8\" font-family=\"Helvetica,sans-Serif\" font-size=\"14.00\">samples = 10</text>\n<text text-anchor=\"middle\" x=\"198\" y=\"-22.8\" font-family=\"Helvetica,sans-Serif\" font-size=\"14.00\">value = [0, 0, 10]</text>\n<text text-anchor=\"middle\" x=\"198\" y=\"-7.8\" font-family=\"Helvetica,sans-Serif\" font-size=\"14.00\">class = 贝尔摩德</text>\n</g>\n<!-- 2&#45;&gt;4 -->\n<g id=\"edge4\" class=\"edge\">\n<title>2&#45;&gt;4</title>\n<path fill=\"none\" stroke=\"black\" d=\"M198,-103.73C198,-95.52 198,-86.86 198,-78.56\"/>\n<polygon fill=\"black\" stroke=\"black\" points=\"201.5,-78.3 198,-68.3 194.5,-78.3 201.5,-78.3\"/>\n</g>\n<!-- 6 -->\n<g id=\"node7\" class=\"node\">\n<title>6</title>\n<path fill=\"#45e788\" stroke=\"black\" d=\"M381.5,-68C381.5,-68 288.5,-68 288.5,-68 282.5,-68 276.5,-62 276.5,-56 276.5,-56 276.5,-12 276.5,-12 276.5,-6 282.5,0 288.5,0 288.5,0 381.5,0 381.5,0 387.5,0 393.5,-6 393.5,-12 393.5,-12 393.5,-56 393.5,-56 393.5,-62 387.5,-68 381.5,-68\"/>\n<text text-anchor=\"middle\" x=\"335\" y=\"-52.8\" font-family=\"Helvetica,sans-Serif\" font-size=\"14.00\">entropy = 0.31</text>\n<text text-anchor=\"middle\" x=\"335\" y=\"-37.8\" font-family=\"Helvetica,sans-Serif\" font-size=\"14.00\">samples = 18</text>\n<text text-anchor=\"middle\" x=\"335\" y=\"-22.8\" font-family=\"Helvetica,sans-Serif\" font-size=\"14.00\">value = [1, 17, 0]</text>\n<text text-anchor=\"middle\" x=\"335\" y=\"-7.8\" font-family=\"Helvetica,sans-Serif\" font-size=\"14.00\">class = 雪莉</text>\n</g>\n<!-- 5&#45;&gt;6 -->\n<g id=\"edge6\" class=\"edge\">\n<title>5&#45;&gt;6</title>\n<path fill=\"none\" stroke=\"black\" d=\"M335,-103.73C335,-95.52 335,-86.86 335,-78.56\"/>\n<polygon fill=\"black\" stroke=\"black\" points=\"338.5,-78.3 335,-68.3 331.5,-78.3 338.5,-78.3\"/>\n</g>\n<!-- 7 -->\n<g id=\"node8\" class=\"node\">\n<title>7</title>\n<path fill=\"#6aeca0\" stroke=\"black\" d=\"M510.5,-68C510.5,-68 423.5,-68 423.5,-68 417.5,-68 411.5,-62 411.5,-56 411.5,-56 411.5,-12 411.5,-12 411.5,-6 417.5,0 423.5,0 423.5,0 510.5,0 510.5,0 516.5,0 522.5,-6 522.5,-12 522.5,-12 522.5,-56 522.5,-56 522.5,-62 516.5,-68 510.5,-68\"/>\n<text text-anchor=\"middle\" x=\"467\" y=\"-52.8\" font-family=\"Helvetica,sans-Serif\" font-size=\"14.00\">entropy = 0.722</text>\n<text text-anchor=\"middle\" x=\"467\" y=\"-37.8\" font-family=\"Helvetica,sans-Serif\" font-size=\"14.00\">samples = 10</text>\n<text text-anchor=\"middle\" x=\"467\" y=\"-22.8\" font-family=\"Helvetica,sans-Serif\" font-size=\"14.00\">value = [0, 8, 2]</text>\n<text text-anchor=\"middle\" x=\"467\" y=\"-7.8\" font-family=\"Helvetica,sans-Serif\" font-size=\"14.00\">class = 雪莉</text>\n</g>\n<!-- 5&#45;&gt;7 -->\n<g id=\"edge7\" class=\"edge\">\n<title>5&#45;&gt;7</title>\n<path fill=\"none\" stroke=\"black\" d=\"M384.15,-103.73C395.59,-94.24 407.74,-84.16 419.12,-74.72\"/>\n<polygon fill=\"black\" stroke=\"black\" points=\"421.4,-77.38 426.86,-68.3 416.93,-71.99 421.4,-77.38\"/>\n</g>\n<!-- 9 -->\n<g id=\"node10\" class=\"node\">\n<title>9</title>\n<path fill=\"#39e581\" stroke=\"black\" d=\"M546.5,-179.5C546.5,-179.5 453.5,-179.5 453.5,-179.5 447.5,-179.5 441.5,-173.5 441.5,-167.5 441.5,-167.5 441.5,-123.5 441.5,-123.5 441.5,-117.5 447.5,-111.5 453.5,-111.5 453.5,-111.5 546.5,-111.5 546.5,-111.5 552.5,-111.5 558.5,-117.5 558.5,-123.5 558.5,-123.5 558.5,-167.5 558.5,-167.5 558.5,-173.5 552.5,-179.5 546.5,-179.5\"/>\n<text text-anchor=\"middle\" x=\"500\" y=\"-164.3\" font-family=\"Helvetica,sans-Serif\" font-size=\"14.00\">entropy = 0.0</text>\n<text text-anchor=\"middle\" x=\"500\" y=\"-149.3\" font-family=\"Helvetica,sans-Serif\" font-size=\"14.00\">samples = 16</text>\n<text text-anchor=\"middle\" x=\"500\" y=\"-134.3\" font-family=\"Helvetica,sans-Serif\" font-size=\"14.00\">value = [0, 16, 0]</text>\n<text text-anchor=\"middle\" x=\"500\" y=\"-119.3\" font-family=\"Helvetica,sans-Serif\" font-size=\"14.00\">class = 雪莉</text>\n</g>\n<!-- 8&#45;&gt;9 -->\n<g id=\"edge9\" class=\"edge\">\n<title>8&#45;&gt;9</title>\n<path fill=\"none\" stroke=\"black\" d=\"M509.8,-222.91C508.42,-212.2 506.94,-200.62 505.55,-189.78\"/>\n<polygon fill=\"black\" stroke=\"black\" points=\"509,-189.14 504.25,-179.67 502.05,-190.03 509,-189.14\"/>\n</g>\n<!-- 10 -->\n<g id=\"node11\" class=\"node\">\n<title>10</title>\n<path fill=\"#e99559\" stroke=\"black\" d=\"M697,-187C697,-187 589,-187 589,-187 583,-187 577,-181 577,-175 577,-175 577,-116 577,-116 577,-110 583,-104 589,-104 589,-104 697,-104 697,-104 703,-104 709,-110 709,-116 709,-116 709,-175 709,-175 709,-181 703,-187 697,-187\"/>\n<text text-anchor=\"middle\" x=\"643\" y=\"-171.8\" font-family=\"Helvetica,sans-Serif\" font-size=\"14.00\">脯氨酸 &lt;= 987.518</text>\n<text text-anchor=\"middle\" x=\"643\" y=\"-156.8\" font-family=\"Helvetica,sans-Serif\" font-size=\"14.00\">entropy = 0.583</text>\n<text text-anchor=\"middle\" x=\"643\" y=\"-141.8\" font-family=\"Helvetica,sans-Serif\" font-size=\"14.00\">samples = 43</text>\n<text text-anchor=\"middle\" x=\"643\" y=\"-126.8\" font-family=\"Helvetica,sans-Serif\" font-size=\"14.00\">value = [37, 6, 0]</text>\n<text text-anchor=\"middle\" x=\"643\" y=\"-111.8\" font-family=\"Helvetica,sans-Serif\" font-size=\"14.00\">class = 琴酒</text>\n</g>\n<!-- 8&#45;&gt;10 -->\n<g id=\"edge10\" class=\"edge\">\n<title>8&#45;&gt;10</title>\n<path fill=\"none\" stroke=\"black\" d=\"M559.41,-222.91C569.64,-213.56 580.6,-203.54 591.11,-193.93\"/>\n<polygon fill=\"black\" stroke=\"black\" points=\"593.65,-196.35 598.67,-187.02 588.93,-191.18 593.65,-196.35\"/>\n</g>\n<!-- 11 -->\n<g id=\"node12\" class=\"node\">\n<title>11</title>\n<path fill=\"#f6d5bd\" stroke=\"black\" d=\"M663.5,-68C663.5,-68 576.5,-68 576.5,-68 570.5,-68 564.5,-62 564.5,-56 564.5,-56 564.5,-12 564.5,-12 564.5,-6 570.5,0 576.5,0 576.5,0 663.5,0 663.5,0 669.5,0 675.5,-6 675.5,-12 675.5,-12 675.5,-56 675.5,-56 675.5,-62 669.5,-68 663.5,-68\"/>\n<text text-anchor=\"middle\" x=\"620\" y=\"-52.8\" font-family=\"Helvetica,sans-Serif\" font-size=\"14.00\">entropy = 0.971</text>\n<text text-anchor=\"middle\" x=\"620\" y=\"-37.8\" font-family=\"Helvetica,sans-Serif\" font-size=\"14.00\">samples = 15</text>\n<text text-anchor=\"middle\" x=\"620\" y=\"-22.8\" font-family=\"Helvetica,sans-Serif\" font-size=\"14.00\">value = [9, 6, 0]</text>\n<text text-anchor=\"middle\" x=\"620\" y=\"-7.8\" font-family=\"Helvetica,sans-Serif\" font-size=\"14.00\">class = 琴酒</text>\n</g>\n<!-- 10&#45;&gt;11 -->\n<g id=\"edge11\" class=\"edge\">\n<title>10&#45;&gt;11</title>\n<path fill=\"none\" stroke=\"black\" d=\"M634.44,-103.73C632.69,-95.43 630.85,-86.67 629.09,-78.28\"/>\n<polygon fill=\"black\" stroke=\"black\" points=\"632.48,-77.37 626.99,-68.3 625.62,-78.81 632.48,-77.37\"/>\n</g>\n<!-- 12 -->\n<g id=\"node13\" class=\"node\">\n<title>12</title>\n<path fill=\"#e58139\" stroke=\"black\" d=\"M798.5,-68C798.5,-68 705.5,-68 705.5,-68 699.5,-68 693.5,-62 693.5,-56 693.5,-56 693.5,-12 693.5,-12 693.5,-6 699.5,0 705.5,0 705.5,0 798.5,0 798.5,0 804.5,0 810.5,-6 810.5,-12 810.5,-12 810.5,-56 810.5,-56 810.5,-62 804.5,-68 798.5,-68\"/>\n<text text-anchor=\"middle\" x=\"752\" y=\"-52.8\" font-family=\"Helvetica,sans-Serif\" font-size=\"14.00\">entropy = 0.0</text>\n<text text-anchor=\"middle\" x=\"752\" y=\"-37.8\" font-family=\"Helvetica,sans-Serif\" font-size=\"14.00\">samples = 28</text>\n<text text-anchor=\"middle\" x=\"752\" y=\"-22.8\" font-family=\"Helvetica,sans-Serif\" font-size=\"14.00\">value = [28, 0, 0]</text>\n<text text-anchor=\"middle\" x=\"752\" y=\"-7.8\" font-family=\"Helvetica,sans-Serif\" font-size=\"14.00\">class = 琴酒</text>\n</g>\n<!-- 10&#45;&gt;12 -->\n<g id=\"edge12\" class=\"edge\">\n<title>10&#45;&gt;12</title>\n<path fill=\"none\" stroke=\"black\" d=\"M683.59,-103.73C692.76,-94.51 702.49,-84.74 711.65,-75.53\"/>\n<polygon fill=\"black\" stroke=\"black\" points=\"714.28,-77.86 718.85,-68.3 709.32,-72.92 714.28,-77.86\"/>\n</g>\n</g>\n</svg>\n"
     },
     "execution_count": 31,
     "metadata": {},
     "output_type": "execute_result"
    }
   ],
   "source": [
    "\n",
    "dot_data = tree.export_graphviz(clf\n",
    "                               ,feature_names= feature_name\n",
    "                               ,class_names=[\"琴酒\",\"雪莉\",\"贝尔摩德\"]\n",
    "                               ,filled=True\n",
    "                               ,rounded=True\n",
    "                               )\n",
    "graph = graphviz.Source(dot_data)\n",
    "\n",
    "graph"
   ],
   "metadata": {
    "collapsed": false,
    "pycharm": {
     "name": "#%%\n"
    }
   }
  },
  {
   "cell_type": "code",
   "execution_count": 32,
   "outputs": [
    {
     "data": {
      "text/plain": "<Figure size 432x288 with 1 Axes>",
      "image/png": "[encoded data removed]"
     },
     "metadata": {
      "needs_background": "light"
     },
     "output_type": "display_data"
    }
   ],
   "source": [
    "import matplotlib.pyplot as plt\n",
    "test = []\n",
    "for i in range(10):\n",
    "    clf = tree.DecisionTreeClassifier(max_depth=i+1\n",
    "                                     ,criterion=\"entropy\"\n",
    "                                     ,random_state=30\n",
    "                                     ,splitter=\"random\"\n",
    "                                     )\n",
    "    clf = clf.fit(Xtrain, Ytrain)\n",
    "    score = clf.score(Xtest, Ytest)\n",
    "    test.append(score)\n",
    "plt.plot(range(1,11),test,color=\"red\",label=\"max_depth\")\n",
    "plt.legend()\n",
    "plt.show()"
   ],
   "metadata": {
    "collapsed": false,
    "pycharm": {
     "name": "#%%\n"
    }
   }
  },
  {
   "cell_type": "code",
   "execution_count": 19,
   "outputs": [
    {
     "data": {
      "text/plain": "array([0, 0, 0, 1, 1, 0, 1, 0, 2, 1, 1, 0, 1, 2, 0, 2, 1, 1, 2, 1, 0, 2,\n       1, 0, 1, 0, 2, 2, 2, 2, 2, 1, 0, 0, 1, 1, 0, 1, 2, 2, 1, 1, 1, 0,\n       2, 1, 1, 0, 0, 0, 0, 0, 0, 1])"
     },
     "execution_count": 19,
     "metadata": {},
     "output_type": "execute_result"
    }
   ],
   "source": [
    "#apply返回每个测试样本所在的叶子节点的索引\n",
    "clf.apply(Xtest)\n",
    "\n",
    "#predict返回每个测试样本的分类/回归结果\n",
    "clf.predict(Xtest)"
   ],
   "metadata": {
    "collapsed": false,
    "pycharm": {
     "name": "#%%\n"
    }
   }
  },
  {
   "cell_type": "code",
   "execution_count": null,
   "outputs": [],
   "source": [],
   "metadata": {
    "collapsed": false,
    "pycharm": {
     "name": "#%%\n"
    }
   }
  }
 ],
 "metadata": {
  "kernelspec": {
   "display_name": "Python 3",
   "language": "python",
   "name": "python3"
  },
  "language_info": {
   "codemirror_mode": {
    "name": "ipython",
    "version": 2
   },
   "file_extension": ".py",
   "mimetype": "text/x-python",
   "name": "python",
   "nbconvert_exporter": "python",
   "pygments_lexer": "ipython2",
   "version": "2.7.6"
  }
 },
 "nbformat": 4,
 "nbformat_minor": 0
}