{
 "cells": [
  {
   "cell_type": "markdown",
   "source": [
    "[Credit ScoreCard example](https://www.kaggle.com/code/orange90/credit-scorecard-example/notebook)\n",
    "\n",
    "\n",
    "https://blog.csdn.net/weixin_41065383/article/details/89419167\n",
    "基于sklearn决策树的最优分箱与IV值计算-Python实现 https://zhuanlan.zhihu.com/p/58824825\n",
    "\n",
    "\n",
    "| Variable  Name                       | Type       | desc                                                         |\n",
    "| ------------------------------------ | ---------- | ------------------------------------------------------------ |\n",
    "| SeriousDlqin2yrs                     | Y/N        | 用户在 90 天后因拖欠或更严重情况                             |\n",
    "| RevolvingUtilizationOfUnsecuredLines | percentage | 信用卡和个人信用贷款的总余额（房地产除外）和汽车贷款等分期付款债务除以信用额度之和 |\n",
    "| age                                  | integer    |                                                              |\n",
    "| NumberOfTime30-59DaysPastDueNotWorse | integer    | 借款人逾期30-59天的次数，但在过去2年中没有更糟。             |\n",
    "| DebtRatio                            | percentage | 每月债务支付，赡养费，生活费用除以每月总收入                 |\n",
    "| MonthlyIncome                        | real       | 月收入                                                       |\n",
    "| NumberOfOpenCreditLinesAndLoans      | integer    | 未结贷款（如汽车贷款或抵押贷款等分期付款）和信用额度（例如信用卡）的数量 |\n",
    "| NumberOfTimes90DaysLate              | integer    | 借款人逾期90天或更长时间的次数。                             |\n",
    "| NumberRealEstateLoansOrLines         | integer    | 房屋贷款和房地产贷款（包括房屋净值信贷额度）的数量           |\n",
    "| NumberOfTime60-89DaysPastDueNotWorse | integer    | 借款人逾期60-89天的次数，但在过去2年中没有更糟。             |\n",
    "| NumberOfDependents                   | integer    | 家庭中不包括自己的受抚养人（配偶，子女等）的数量             |\n"
   ],
   "metadata": {
    "collapsed": false,
    "pycharm": {
     "name": "#%% md\n"
    }
   }
  },
  {
   "cell_type": "code",
   "execution_count": 1,
   "outputs": [
    {
     "name": "stdout",
     "output_type": "stream",
     "text": [
      "../data/givemesomecredit/sampleEntry.csv\n",
      "../data/givemesomecredit/cs-test.csv\n",
      "../data/givemesomecredit/Data Dictionary.xls\n",
      "../data/givemesomecredit/cs-training.csv\n"
     ]
    }
   ],
   "source": [
    "\n",
    "## 导入包\n",
    "\n",
    "import numpy as np\n",
    "from sklearn.model_selection import train_test_split\n",
    "from sklearn.linear_model import LogisticRegression\n",
    "import math\n",
    "import pandas as pd\n",
    "import matplotlib.pyplot as plt\n",
    "import seaborn as sns\n",
    "%matplotlib inline\n",
    "import os\n",
    "\n",
    "for dirname, _, filenames in os.walk('../data/givemesomecredit/'):\n",
    "    for filename in filenames:\n",
    "        print(os.path.join(dirname, filename))"
   ],
   "metadata": {
    "collapsed": false,
    "pycharm": {
     "name": "#%%\n"
    },
    "ExecuteTime": {
     "end_time": "2024-03-22T03:04:05.423352Z",
     "start_time": "2024-03-22T03:04:05.057685Z"
    }
   }
  },
  {
   "cell_type": "markdown",
   "source": [],
   "metadata": {
    "collapsed": false
   }
  },
  {
   "cell_type": "code",
   "execution_count": 2,
   "outputs": [
    {
     "data": {
      "text/plain": "   Unnamed: 0  SeriousDlqin2yrs  RevolvingUtilizationOfUnsecuredLines  age  \\\n0           1                 1                              0.766127   45   \n1           2                 0                              0.957151   40   \n2           3                 0                              0.658180   38   \n3           4                 0                              0.233810   30   \n4           5                 0                              0.907239   49   \n\n   NumberOfTime30-59DaysPastDueNotWorse  DebtRatio  MonthlyIncome  \\\n0                                     2   0.802982         9120.0   \n1                                     0   0.121876         2600.0   \n2                                     1   0.085113         3042.0   \n3                                     0   0.036050         3300.0   \n4                                     1   0.024926        63588.0   \n\n   NumberOfOpenCreditLinesAndLoans  NumberOfTimes90DaysLate  \\\n0                               13                        0   \n1                                4                        0   \n2                                2                        1   \n3                                5                        0   \n4                                7                        0   \n\n   NumberRealEstateLoansOrLines  NumberOfTime60-89DaysPastDueNotWorse  \\\n0                             6                                     0   \n1                             0                                     0   \n2                             0                                     0   \n3                             0                                     0   \n4                             1                                     0   \n\n   NumberOfDependents  \n0                 2.0  \n1                 1.0  \n2                 0.0  \n3                 0.0  \n4                 0.0  ",
      "text/html": "<div>\n<style scoped>\n    .dataframe tbody tr th:only-of-type {\n        vertical-align: middle;\n    }\n\n    .dataframe tbody tr th {\n        vertical-align: top;\n    }\n\n    .dataframe thead th {\n        text-align: right;\n    }\n</style>\n<table border=\"1\" class=\"dataframe\">\n  <thead>\n    <tr style=\"text-align: right;\">\n      <th></th>\n      <th>Unnamed: 0</th>\n      <th>SeriousDlqin2yrs</th>\n      <th>RevolvingUtilizationOfUnsecuredLines</th>\n      <th>age</th>\n      <th>NumberOfTime30-59DaysPastDueNotWorse</th>\n      <th>DebtRatio</th>\n      <th>MonthlyIncome</th>\n      <th>NumberOfOpenCreditLinesAndLoans</th>\n      <th>NumberOfTimes90DaysLate</th>\n      <th>NumberRealEstateLoansOrLines</th>\n      <th>NumberOfTime60-89DaysPastDueNotWorse</th>\n      <th>NumberOfDependents</th>\n    </tr>\n  </thead>\n  <tbody>\n    <tr>\n      <th>0</th>\n      <td>1</td>\n      <td>1</td>\n      <td>0.766127</td>\n      <td>45</td>\n      <td>2</td>\n      <td>0.802982</td>\n      <td>9120.0</td>\n      <td>13</td>\n      <td>0</td>\n      <td>6</td>\n      <td>0</td>\n      <td>2.0</td>\n    </tr>\n    <tr>\n      <th>1</th>\n      <td>2</td>\n      <td>0</td>\n      <td>0.957151</td>\n      <td>40</td>\n      <td>0</td>\n      <td>0.121876</td>\n      <td>2600.0</td>\n      <td>4</td>\n      <td>0</td>\n      <td>0</td>\n      <td>0</td>\n      <td>1.0</td>\n    </tr>\n    <tr>\n      <th>2</th>\n      <td>3</td>\n      <td>0</td>\n      <td>0.658180</td>\n      <td>38</td>\n      <td>1</td>\n      <td>0.085113</td>\n      <td>3042.0</td>\n      <td>2</td>\n      <td>1</td>\n      <td>0</td>\n      <td>0</td>\n      <td>0.0</td>\n    </tr>\n    <tr>\n      <th>3</th>\n      <td>4</td>\n      <td>0</td>\n      <td>0.233810</td>\n      <td>30</td>\n      <td>0</td>\n      <td>0.036050</td>\n      <td>3300.0</td>\n      <td>5</td>\n      <td>0</td>\n      <td>0</td>\n      <td>0</td>\n      <td>0.0</td>\n    </tr>\n    <tr>\n      <th>4</th>\n      <td>5</td>\n      <td>0</td>\n      <td>0.907239</td>\n      <td>49</td>\n      <td>1</td>\n      <td>0.024926</td>\n      <td>63588.0</td>\n      <td>7</td>\n      <td>0</td>\n      <td>1</td>\n      <td>0</td>\n      <td>0.0</td>\n    </tr>\n  </tbody>\n</table>\n</div>"
     },
     "execution_count": 2,
     "metadata": {},
     "output_type": "execute_result"
    }
   ],
   "source": [
    "df_train = pd.read_csv(\"../data/givemesomecredit/cs-training.csv\")\n",
    "df_test = pd.read_csv(\"../data/givemesomecredit/cs-test.csv\")\n",
    "df_train.head()"
   ],
   "metadata": {
    "collapsed": false,
    "pycharm": {
     "name": "#%%\n"
    },
    "ExecuteTime": {
     "end_time": "2024-03-22T03:04:05.671043Z",
     "start_time": "2024-03-22T03:04:05.423830Z"
    }
   }
  },
  {
   "cell_type": "code",
   "execution_count": 3,
   "outputs": [
    {
     "data": {
      "text/plain": "          Unnamed: 0  SeriousDlqin2yrs  RevolvingUtilizationOfUnsecuredLines  \\\ncount  150000.000000     150000.000000                         150000.000000   \nmean    75000.500000          0.066840                              6.048438   \nstd     43301.414527          0.249746                            249.755371   \nmin         1.000000          0.000000                              0.000000   \n25%     37500.750000          0.000000                              0.029867   \n50%     75000.500000          0.000000                              0.154181   \n75%    112500.250000          0.000000                              0.559046   \nmax    150000.000000          1.000000                          50708.000000   \n\n                 age  NumberOfTime30-59DaysPastDueNotWorse      DebtRatio  \\\ncount  150000.000000                         150000.000000  150000.000000   \nmean       52.295207                              0.421033     353.005076   \nstd        14.771866                              4.192781    2037.818523   \nmin         0.000000                              0.000000       0.000000   \n25%        41.000000                              0.000000       0.175074   \n50%        52.000000                              0.000000       0.366508   \n75%        63.000000                              0.000000       0.868254   \nmax       109.000000                             98.000000  329664.000000   \n\n       MonthlyIncome  NumberOfOpenCreditLinesAndLoans  \\\ncount   1.202690e+05                    150000.000000   \nmean    6.670221e+03                         8.452760   \nstd     1.438467e+04                         5.145951   \nmin     0.000000e+00                         0.000000   \n25%     3.400000e+03                         5.000000   \n50%     5.400000e+03                         8.000000   \n75%     8.249000e+03                        11.000000   \nmax     3.008750e+06                        58.000000   \n\n       NumberOfTimes90DaysLate  NumberRealEstateLoansOrLines  \\\ncount            150000.000000                 150000.000000   \nmean                  0.265973                      1.018240   \nstd                   4.169304                      1.129771   \nmin                   0.000000                      0.000000   \n25%                   0.000000                      0.000000   \n50%                   0.000000                      1.000000   \n75%                   0.000000                      2.000000   \nmax                  98.000000                     54.000000   \n\n       NumberOfTime60-89DaysPastDueNotWorse  NumberOfDependents  \ncount                         150000.000000       146076.000000  \nmean                               0.240387            0.757222  \nstd                                4.155179            1.115086  \nmin                                0.000000            0.000000  \n25%                                0.000000            0.000000  \n50%                                0.000000            0.000000  \n75%                                0.000000            1.000000  \nmax                               98.000000           20.000000  ",
      "text/html": "<div>\n<style scoped>\n    .dataframe tbody tr th:only-of-type {\n        vertical-align: middle;\n    }\n\n    .dataframe tbody tr th {\n        vertical-align: top;\n    }\n\n    .dataframe thead th {\n        text-align: right;\n    }\n</style>\n<table border=\"1\" class=\"dataframe\">\n  <thead>\n    <tr style=\"text-align: right;\">\n      <th></th>\n      <th>Unnamed: 0</th>\n      <th>SeriousDlqin2yrs</th>\n      <th>RevolvingUtilizationOfUnsecuredLines</th>\n      <th>age</th>\n      <th>NumberOfTime30-59DaysPastDueNotWorse</th>\n      <th>DebtRatio</th>\n      <th>MonthlyIncome</th>\n      <th>NumberOfOpenCreditLinesAndLoans</th>\n      <th>NumberOfTimes90DaysLate</th>\n      <th>NumberRealEstateLoansOrLines</th>\n      <th>NumberOfTime60-89DaysPastDueNotWorse</th>\n      <th>NumberOfDependents</th>\n    </tr>\n  </thead>\n  <tbody>\n    <tr>\n      <th>count</th>\n      <td>150000.000000</td>\n      <td>150000.000000</td>\n      <td>150000.000000</td>\n      <td>150000.000000</td>\n      <td>150000.000000</td>\n      <td>150000.000000</td>\n      <td>1.202690e+05</td>\n      <td>150000.000000</td>\n      <td>150000.000000</td>\n      <td>150000.000000</td>\n      <td>150000.000000</td>\n      <td>146076.000000</td>\n    </tr>\n    <tr>\n      <th>mean</th>\n      <td>75000.500000</td>\n      <td>0.066840</td>\n      <td>6.048438</td>\n      <td>52.295207</td>\n      <td>0.421033</td>\n      <td>353.005076</td>\n      <td>6.670221e+03</td>\n      <td>8.452760</td>\n      <td>0.265973</td>\n      <td>1.018240</td>\n      <td>0.240387</td>\n      <td>0.757222</td>\n    </tr>\n    <tr>\n      <th>std</th>\n      <td>43301.414527</td>\n      <td>0.249746</td>\n      <td>249.755371</td>\n      <td>14.771866</td>\n      <td>4.192781</td>\n      <td>2037.818523</td>\n      <td>1.438467e+04</td>\n      <td>5.145951</td>\n      <td>4.169304</td>\n      <td>1.129771</td>\n      <td>4.155179</td>\n      <td>1.115086</td>\n    </tr>\n    <tr>\n      <th>min</th>\n      <td>1.000000</td>\n      <td>0.000000</td>\n      <td>0.000000</td>\n      <td>0.000000</td>\n      <td>0.000000</td>\n      <td>0.000000</td>\n      <td>0.000000e+00</td>\n      <td>0.000000</td>\n      <td>0.000000</td>\n      <td>0.000000</td>\n      <td>0.000000</td>\n      <td>0.000000</td>\n    </tr>\n    <tr>\n      <th>25%</th>\n      <td>37500.750000</td>\n      <td>0.000000</td>\n      <td>0.029867</td>\n      <td>41.000000</td>\n      <td>0.000000</td>\n      <td>0.175074</td>\n      <td>3.400000e+03</td>\n      <td>5.000000</td>\n      <td>0.000000</td>\n      <td>0.000000</td>\n      <td>0.000000</td>\n      <td>0.000000</td>\n    </tr>\n    <tr>\n      <th>50%</th>\n      <td>75000.500000</td>\n      <td>0.000000</td>\n      <td>0.154181</td>\n      <td>52.000000</td>\n      <td>0.000000</td>\n      <td>0.366508</td>\n      <td>5.400000e+03</td>\n      <td>8.000000</td>\n      <td>0.000000</td>\n      <td>1.000000</td>\n      <td>0.000000</td>\n      <td>0.000000</td>\n    </tr>\n    <tr>\n      <th>75%</th>\n      <td>112500.250000</td>\n      <td>0.000000</td>\n      <td>0.559046</td>\n      <td>63.000000</td>\n      <td>0.000000</td>\n      <td>0.868254</td>\n      <td>8.249000e+03</td>\n      <td>11.000000</td>\n      <td>0.000000</td>\n      <td>2.000000</td>\n      <td>0.000000</td>\n      <td>1.000000</td>\n    </tr>\n    <tr>\n      <th>max</th>\n      <td>150000.000000</td>\n      <td>1.000000</td>\n      <td>50708.000000</td>\n      <td>109.000000</td>\n      <td>98.000000</td>\n      <td>329664.000000</td>\n      <td>3.008750e+06</td>\n      <td>58.000000</td>\n      <td>98.000000</td>\n      <td>54.000000</td>\n      <td>98.000000</td>\n      <td>20.000000</td>\n    </tr>\n  </tbody>\n</table>\n</div>"
     },
     "execution_count": 3,
     "metadata": {},
     "output_type": "execute_result"
    }
   ],
   "source": [
    "df_train.describe()"
   ],
   "metadata": {
    "collapsed": false,
    "pycharm": {
     "name": "#%%\n"
    },
    "ExecuteTime": {
     "end_time": "2024-03-22T03:04:05.795790Z",
     "start_time": "2024-03-22T03:04:05.673584Z"
    }
   }
  },
  {
   "cell_type": "code",
   "execution_count": 3,
   "outputs": [],
   "source": [],
   "metadata": {
    "collapsed": false,
    "pycharm": {
     "name": "#%%\n"
    },
    "ExecuteTime": {
     "end_time": "2024-03-22T03:04:05.796087Z",
     "start_time": "2024-03-22T03:04:05.759658Z"
    }
   }
  },
  {
   "cell_type": "markdown",
   "source": [
    "## 数据分箱\n",
    "需要 qcut的:\n",
    "\n",
    "RevolvingUtilizationOfUnsecuredLines\n",
    "DebtRatio\n",
    "MonthlyIncome\n",
    "NumberOfOpenCreditLinesAndLoans\n",
    "NumberRealEstateLoansOrLines\n",
    "\n",
    "需要 cut的:\n",
    "age\n",
    "NumberOfDependents\n",
    "NumberOfTime30-59DaysPastDueNotWorse\n",
    "NumberOfTimes90DaysLate\n",
    "NumberOfTime60-89DaysPastDueNotWorse\n"
   ],
   "metadata": {
    "collapsed": false,
    "pycharm": {
     "name": "#%% md\n"
    }
   }
  },
  {
   "cell_type": "code",
   "execution_count": 4,
   "outputs": [
    {
     "name": "stdout",
     "output_type": "stream",
     "text": [
      "Unnamed: 0                              0\n",
      "SeriousDlqin2yrs                        0\n",
      "RevolvingUtilizationOfUnsecuredLines    0\n",
      "age                                     0\n",
      "NumberOfTime30-59DaysPastDueNotWorse    0\n",
      "DebtRatio                               0\n",
      "MonthlyIncome                           0\n",
      "NumberOfOpenCreditLinesAndLoans         0\n",
      "NumberOfTimes90DaysLate                 0\n",
      "NumberRealEstateLoansOrLines            0\n",
      "NumberOfTime60-89DaysPastDueNotWorse    0\n",
      "NumberOfDependents                      0\n",
      "dtype: int64\n"
     ]
    }
   ],
   "source": [
    "df_train = df_train.fillna(df_train.median())\n",
    "print(df_train.isnull().sum())"
   ],
   "metadata": {
    "collapsed": false,
    "pycharm": {
     "name": "#%%\n"
    },
    "ExecuteTime": {
     "end_time": "2024-03-22T03:04:05.861041Z",
     "start_time": "2024-03-22T03:04:05.763949Z"
    }
   }
  },
  {
   "cell_type": "code",
   "execution_count": 5,
   "outputs": [],
   "source": [
    "age_bins = [-math.inf, 25, 40, 50, 60, 70, math.inf]\n",
    "df_train['bin_age'] = pd.cut(df_train['age'],bins=age_bins).astype(str)\n",
    "dependent_bin = [-math.inf,2,4,6,8,10,math.inf]\n",
    "df_train['bin_NumberOfDependents'] = pd.cut(df_train['NumberOfDependents'],bins=dependent_bin).astype(str)\n",
    "dpd_bins = [-math.inf,1,2,3,4,5,6,7,8,9,math.inf]\n",
    "df_train['bin_NumberOfTimes90DaysLate'] = pd.cut(df_train['NumberOfTimes90DaysLate'],bins=dpd_bins)\n",
    "df_train['bin_NumberOfTime30-59DaysPastDueNotWorse'] = pd.cut(df_train['NumberOfTime30-59DaysPastDueNotWorse'], bins=dpd_bins)\n",
    "df_train['bin_NumberOfTime60-89DaysPastDueNotWorse'] = pd.cut(df_train['NumberOfTime60-89DaysPastDueNotWorse'], bins=dpd_bins)\n",
    "\n",
    "\n",
    "df_train['bin_RevolvingUtilizationOfUnsecuredLines'] = pd.qcut(df_train['RevolvingUtilizationOfUnsecuredLines'],q=5,duplicates='drop').astype(str)\n",
    "df_train['bin_DebtRatio'] = pd.qcut(df_train['DebtRatio'],q=5,duplicates='drop').astype(str)\n",
    "df_train['bin_MonthlyIncome'] = pd.qcut(df_train['MonthlyIncome'],q=5,duplicates='drop').astype(str)\n",
    "df_train['bin_NumberOfOpenCreditLinesAndLoans'] = pd.qcut(df_train['NumberOfOpenCreditLinesAndLoans'],q=5,duplicates='drop').astype(str)\n",
    "df_train['bin_NumberRealEstateLoansOrLines'] = pd.qcut(df_train['NumberRealEstateLoansOrLines'],q=5,duplicates='drop').astype(str)\n"
   ],
   "metadata": {
    "collapsed": false,
    "pycharm": {
     "name": "#%%\n"
    },
    "ExecuteTime": {
     "end_time": "2024-03-22T03:04:06.130411Z",
     "start_time": "2024-03-22T03:04:05.821736Z"
    }
   }
  },
  {
   "cell_type": "markdown",
   "source": [
    "## 特征筛选"
   ],
   "metadata": {
    "collapsed": false,
    "pycharm": {
     "name": "#%% md\n"
    }
   }
  },
  {
   "cell_type": "code",
   "execution_count": 6,
   "outputs": [],
   "source": [
    "def cal_IV(df, feature, target):\n",
    "    lst = []\n",
    "    cols=['Variable', 'Value', 'All', 'Bad']\n",
    "    for i in range(df[feature].nunique()):\n",
    "\n",
    "        val = list(df[feature].unique())[i]\n",
    "        lst.append([feature, val, df[df[feature] == val].count()[feature], df[(df[feature] == val) & (df[target] == 1)].count()[feature]])\n",
    "#     print(lst)\n",
    "    data = pd.DataFrame(lst, columns=cols)\n",
    "    data = data[data['Bad'] > 0]\n",
    "\n",
    "    data['Share'] = data['All'] / data['All'].sum()\n",
    "    data['Bad Rate'] = data['Bad'] / data['All']\n",
    "    data['Distribution Good'] = (data['All'] - data['Bad']) / (data['All'].sum() - data['Bad'].sum())\n",
    "    data['Distribution Bad'] = data['Bad'] / data['Bad'].sum()\n",
    "    data['WoE'] = np.log(data['Distribution Bad'] / data['Distribution Good'])\n",
    "    data['IV'] = (data['WoE'] * (data['Distribution Bad'] - data['Distribution Good'])).sum()\n",
    "\n",
    "    data = data.sort_values(by=['Variable', 'Value'], ascending=True)\n",
    "\n",
    "    return data['IV'].values[0]"
   ],
   "metadata": {
    "collapsed": false,
    "pycharm": {
     "name": "#%%\n"
    },
    "ExecuteTime": {
     "end_time": "2024-03-22T03:04:06.141006Z",
     "start_time": "2024-03-22T03:04:06.130876Z"
    }
   }
  },
  {
   "cell_type": "code",
   "execution_count": 7,
   "outputs": [
    {
     "name": "stdout",
     "output_type": "stream",
     "text": [
      "bin_age\n",
      "0.24041120302785982\n",
      "bin_NumberOfDependents\n",
      "0.01450836007644442\n",
      "bin_NumberOfTimes90DaysLate\n",
      "0.49160685733515563\n",
      "bin_NumberOfTime30-59DaysPastDueNotWorse\n",
      "0.492444774570198\n",
      "bin_NumberOfTime60-89DaysPastDueNotWorse\n",
      "0.2665587583516951\n",
      "bin_RevolvingUtilizationOfUnsecuredLines\n",
      "1.0596188771423887\n",
      "bin_DebtRatio\n",
      "0.05948761145809681\n",
      "bin_MonthlyIncome\n",
      "0.05623446147714756\n",
      "bin_NumberOfOpenCreditLinesAndLoans\n",
      "0.04802315528985505\n",
      "bin_NumberRealEstateLoansOrLines\n",
      "0.0120914141106244\n"
     ]
    }
   ],
   "source": [
    "bin_cols = [c for c in df_train.columns.values if c.startswith('bin_')]\n",
    "\n",
    "\n",
    "for f in bin_cols:\n",
    "    print(f)\n",
    "    print(cal_IV(df_train,f,'SeriousDlqin2yrs'))"
   ],
   "metadata": {
    "collapsed": false,
    "pycharm": {
     "name": "#%%\n"
    },
    "ExecuteTime": {
     "end_time": "2024-03-22T03:04:09.933777Z",
     "start_time": "2024-03-22T03:04:06.146806Z"
    }
   }
  },
  {
   "cell_type": "markdown",
   "source": [
    "只选择IV>0.1的，入选的有五个变量：\n",
    "* bin_RevolvingUtilizationOfUnsecuredLines\n",
    "* bin_NumberOfTime30-59DaysPastDueNotWorse\n",
    "* bin_age\n",
    "* bin_NumberOfTimes90DaysLate\n",
    "* bin_NumberOfTime60-89DaysPastDueNotWorse"
   ],
   "metadata": {
    "collapsed": false,
    "pycharm": {
     "name": "#%% md\n"
    }
   }
  },
  {
   "cell_type": "code",
   "execution_count": 8,
   "outputs": [],
   "source": [
    "def cal_WOE(df,features,target):\n",
    "    df_new = df\n",
    "    for f in features:\n",
    "        df_woe = df_new.groupby(f).agg({target:['sum','count']})\n",
    "        df_woe.columns = list(map(''.join, df_woe.columns.values))\n",
    "        df_woe = df_woe.reset_index()\n",
    "        df_woe = df_woe.rename(columns = {target+'sum':'bad'})\n",
    "        df_woe = df_woe.rename(columns = {target+'count':'all'})\n",
    "        df_woe['good'] = df_woe['all']-df_woe['bad']\n",
    "        df_woe = df_woe[[f,'good','bad']]\n",
    "        df_woe['bad_rate'] = df_woe['bad'].mask(df_woe['bad']==0, 1)/df_woe['bad'].sum() # mask 0 to 1 to avoid log(0)\n",
    "        df_woe['good_rate'] = df_woe['good']/df_woe['good'].sum()\n",
    "\n",
    "        df_woe['woe'] = np.log(df_woe['bad_rate'].divide(df_woe['good_rate'],fill_value=1))\n",
    "        df_woe.columns = [c if c==f else c+'_'+f for c in list(df_woe.columns.values)]\n",
    "        df_new = df_new.merge(df_woe,on=f,how='left')\n",
    "    return df_new"
   ],
   "metadata": {
    "collapsed": false,
    "pycharm": {
     "name": "#%%\n"
    },
    "ExecuteTime": {
     "end_time": "2024-03-22T03:04:09.934168Z",
     "start_time": "2024-03-22T03:04:09.924945Z"
    }
   }
  },
  {
   "cell_type": "code",
   "execution_count": 9,
   "outputs": [
    {
     "data": {
      "text/plain": "        woe_bin_RevolvingUtilizationOfUnsecuredLines  \\\n0                                           1.242254   \n1                                           1.242254   \n2                                           0.053164   \n3                                          -0.866502   \n4                                           1.242254   \n...                                              ...   \n149995                                     -1.447382   \n149996                                      0.053164   \n149997                                     -0.866502   \n149998                                     -1.286617   \n149999                                      1.242254   \n\n        woe_bin_NumberOfTime30-59DaysPastDueNotWorse  woe_bin_age  \\\n0                                           1.616726     0.228343   \n1                                          -0.257826     0.469547   \n2                                          -0.257826     0.469547   \n3                                          -0.257826     0.469547   \n4                                          -0.257826     0.228343   \n...                                              ...          ...   \n149995                                     -0.257826    -1.132145   \n149996                                     -0.257826     0.228343   \n149997                                     -0.257826    -0.084782   \n149998                                     -0.257826     0.469547   \n149999                                     -0.257826    -0.689003   \n\n        woe_bin_NumberOfTimes90DaysLate  \\\n0                             -0.176674   \n1                             -0.176674   \n2                             -0.176674   \n3                             -0.176674   \n4                             -0.176674   \n...                                 ...   \n149995                        -0.176674   \n149996                        -0.176674   \n149997                        -0.176674   \n149998                        -0.176674   \n149999                        -0.176674   \n\n        woe_bin_NumberOfTime60-89DaysPastDueNotWorse  \n0                                           -0.09799  \n1                                           -0.09799  \n2                                           -0.09799  \n3                                           -0.09799  \n4                                           -0.09799  \n...                                              ...  \n149995                                      -0.09799  \n149996                                      -0.09799  \n149997                                      -0.09799  \n149998                                      -0.09799  \n149999                                      -0.09799  \n\n[150000 rows x 5 columns]",
      "text/html": "<div>\n<style scoped>\n    .dataframe tbody tr th:only-of-type {\n        vertical-align: middle;\n    }\n\n    .dataframe tbody tr th {\n        vertical-align: top;\n    }\n\n    .dataframe thead th {\n        text-align: right;\n    }\n</style>\n<table border=\"1\" class=\"dataframe\">\n  <thead>\n    <tr style=\"text-align: right;\">\n      <th></th>\n      <th>woe_bin_RevolvingUtilizationOfUnsecuredLines</th>\n      <th>woe_bin_NumberOfTime30-59DaysPastDueNotWorse</th>\n      <th>woe_bin_age</th>\n      <th>woe_bin_NumberOfTimes90DaysLate</th>\n      <th>woe_bin_NumberOfTime60-89DaysPastDueNotWorse</th>\n    </tr>\n  </thead>\n  <tbody>\n    <tr>\n      <th>0</th>\n      <td>1.242254</td>\n      <td>1.616726</td>\n      <td>0.228343</td>\n      <td>-0.176674</td>\n      <td>-0.09799</td>\n    </tr>\n    <tr>\n      <th>1</th>\n      <td>1.242254</td>\n      <td>-0.257826</td>\n      <td>0.469547</td>\n      <td>-0.176674</td>\n      <td>-0.09799</td>\n    </tr>\n    <tr>\n      <th>2</th>\n      <td>0.053164</td>\n      <td>-0.257826</td>\n      <td>0.469547</td>\n      <td>-0.176674</td>\n      <td>-0.09799</td>\n    </tr>\n    <tr>\n      <th>3</th>\n      <td>-0.866502</td>\n      <td>-0.257826</td>\n      <td>0.469547</td>\n      <td>-0.176674</td>\n      <td>-0.09799</td>\n    </tr>\n    <tr>\n      <th>4</th>\n      <td>1.242254</td>\n      <td>-0.257826</td>\n      <td>0.228343</td>\n      <td>-0.176674</td>\n      <td>-0.09799</td>\n    </tr>\n    <tr>\n      <th>...</th>\n      <td>...</td>\n      <td>...</td>\n      <td>...</td>\n      <td>...</td>\n      <td>...</td>\n    </tr>\n    <tr>\n      <th>149995</th>\n      <td>-1.447382</td>\n      <td>-0.257826</td>\n      <td>-1.132145</td>\n      <td>-0.176674</td>\n      <td>-0.09799</td>\n    </tr>\n    <tr>\n      <th>149996</th>\n      <td>0.053164</td>\n      <td>-0.257826</td>\n      <td>0.228343</td>\n      <td>-0.176674</td>\n      <td>-0.09799</td>\n    </tr>\n    <tr>\n      <th>149997</th>\n      <td>-0.866502</td>\n      <td>-0.257826</td>\n      <td>-0.084782</td>\n      <td>-0.176674</td>\n      <td>-0.09799</td>\n    </tr>\n    <tr>\n      <th>149998</th>\n      <td>-1.286617</td>\n      <td>-0.257826</td>\n      <td>0.469547</td>\n      <td>-0.176674</td>\n      <td>-0.09799</td>\n    </tr>\n    <tr>\n      <th>149999</th>\n      <td>1.242254</td>\n      <td>-0.257826</td>\n      <td>-0.689003</td>\n      <td>-0.176674</td>\n      <td>-0.09799</td>\n    </tr>\n  </tbody>\n</table>\n<p>150000 rows × 5 columns</p>\n</div>"
     },
     "execution_count": 9,
     "metadata": {},
     "output_type": "execute_result"
    }
   ],
   "source": [
    "# 我们根据IV选出来的特征\n",
    "feature_cols = ['RevolvingUtilizationOfUnsecuredLines','NumberOfTime30-59DaysPastDueNotWorse','age','NumberOfTimes90DaysLate','NumberOfTime60-89DaysPastDueNotWorse']\n",
    "bin_cols = ['bin_RevolvingUtilizationOfUnsecuredLines','bin_NumberOfTime30-59DaysPastDueNotWorse','bin_age','bin_NumberOfTimes90DaysLate','bin_NumberOfTime60-89DaysPastDueNotWorse']\n",
    "df_woe = cal_WOE(df_train,bin_cols,'SeriousDlqin2yrs')\n",
    "woe_cols = [c for c in list(df_woe.columns.values) if 'woe' in c]\n",
    "df_woe[woe_cols]"
   ],
   "metadata": {
    "collapsed": false,
    "pycharm": {
     "name": "#%%\n"
    },
    "ExecuteTime": {
     "end_time": "2024-03-22T03:04:10.508510Z",
     "start_time": "2024-03-22T03:04:09.932522Z"
    }
   }
  },
  {
   "cell_type": "code",
   "execution_count": 10,
   "outputs": [
    {
     "data": {
      "text/plain": "                                   features               bin       woe\n0      RevolvingUtilizationOfUnsecuredLines  (0.699, 50708.0]  1.242254\n2      RevolvingUtilizationOfUnsecuredLines    (0.271, 0.699]  0.053164\n3      RevolvingUtilizationOfUnsecuredLines   (0.0832, 0.271] -0.866502\n11     RevolvingUtilizationOfUnsecuredLines  (-0.001, 0.0192] -1.286617\n14     RevolvingUtilizationOfUnsecuredLines  (0.0192, 0.0832] -1.447382\n0      NumberOfTime30-59DaysPastDueNotWorse        (1.0, 2.0]  1.616726\n1      NumberOfTime30-59DaysPastDueNotWorse       (-inf, 1.0] -0.257826\n13     NumberOfTime30-59DaysPastDueNotWorse        (2.0, 3.0]  2.027495\n183    NumberOfTime30-59DaysPastDueNotWorse        (3.0, 4.0]  2.336869\n191    NumberOfTime30-59DaysPastDueNotWorse        (4.0, 5.0]  2.436786\n251    NumberOfTime30-59DaysPastDueNotWorse        (6.0, 7.0]  2.710383\n423    NumberOfTime30-59DaysPastDueNotWorse        (9.0, inf]  2.846431\n1052   NumberOfTime30-59DaysPastDueNotWorse        (5.0, 6.0]  2.750685\n6909   NumberOfTime30-59DaysPastDueNotWorse        (7.0, 8.0]  1.882503\n10822  NumberOfTime30-59DaysPastDueNotWorse        (8.0, 9.0]  1.943128\n0                                       age      (40.0, 50.0]  0.228343\n1                                       age      (25.0, 40.0]  0.469547\n5                                       age       (70.0, inf] -1.132145\n6                                       age      (50.0, 60.0] -0.084782\n15                                      age      (60.0, 70.0] -0.689003\n19                                      age      (-inf, 25.0]  0.562024\n0                   NumberOfTimes90DaysLate       (-inf, 1.0] -0.176674\n13                  NumberOfTimes90DaysLate        (2.0, 3.0]  2.947611\n186                 NumberOfTimes90DaysLate        (1.0, 2.0]  2.632416\n1298                NumberOfTimes90DaysLate        (4.0, 5.0]  3.183915\n1713                NumberOfTimes90DaysLate        (3.0, 4.0]  3.344926\n1733                NumberOfTimes90DaysLate        (9.0, inf]  2.821100\n2910                NumberOfTimes90DaysLate        (8.0, 9.0]  3.665894\n3400                NumberOfTimes90DaysLate        (5.0, 6.0]  3.041740\n3929                NumberOfTimes90DaysLate        (6.0, 7.0]  4.124352\n5684                NumberOfTimes90DaysLate        (7.0, 8.0]  3.552566\n0      NumberOfTime60-89DaysPastDueNotWorse       (-inf, 1.0] -0.097990\n186    NumberOfTime60-89DaysPastDueNotWorse        (1.0, 2.0]  2.643431\n423    NumberOfTime60-89DaysPastDueNotWorse        (4.0, 5.0]  3.115848\n1146   NumberOfTime60-89DaysPastDueNotWorse        (2.0, 3.0]  2.901978\n1733   NumberOfTime60-89DaysPastDueNotWorse        (9.0, inf]  2.829466\n2406   NumberOfTime60-89DaysPastDueNotWorse        (3.0, 4.0]  3.121783\n6664   NumberOfTime60-89DaysPastDueNotWorse        (5.0, 6.0]  3.734887\n16642  NumberOfTime60-89DaysPastDueNotWorse        (6.0, 7.0]  2.859419\n23964  NumberOfTime60-89DaysPastDueNotWorse        (7.0, 8.0]  2.636275\n68976  NumberOfTime60-89DaysPastDueNotWorse        (8.0, 9.0]  2.636275",
      "text/html": "<div>\n<style scoped>\n    .dataframe tbody tr th:only-of-type {\n        vertical-align: middle;\n    }\n\n    .dataframe tbody tr th {\n        vertical-align: top;\n    }\n\n    .dataframe thead th {\n        text-align: right;\n    }\n</style>\n<table border=\"1\" class=\"dataframe\">\n  <thead>\n    <tr style=\"text-align: right;\">\n      <th></th>\n      <th>features</th>\n      <th>bin</th>\n      <th>woe</th>\n    </tr>\n  </thead>\n  <tbody>\n    <tr>\n      <th>0</th>\n      <td>RevolvingUtilizationOfUnsecuredLines</td>\n      <td>(0.699, 50708.0]</td>\n      <td>1.242254</td>\n    </tr>\n    <tr>\n      <th>2</th>\n      <td>RevolvingUtilizationOfUnsecuredLines</td>\n      <td>(0.271, 0.699]</td>\n      <td>0.053164</td>\n    </tr>\n    <tr>\n      <th>3</th>\n      <td>RevolvingUtilizationOfUnsecuredLines</td>\n      <td>(0.0832, 0.271]</td>\n      <td>-0.866502</td>\n    </tr>\n    <tr>\n      <th>11</th>\n      <td>RevolvingUtilizationOfUnsecuredLines</td>\n      <td>(-0.001, 0.0192]</td>\n      <td>-1.286617</td>\n    </tr>\n    <tr>\n      <th>14</th>\n      <td>RevolvingUtilizationOfUnsecuredLines</td>\n      <td>(0.0192, 0.0832]</td>\n      <td>-1.447382</td>\n    </tr>\n    <tr>\n      <th>0</th>\n      <td>NumberOfTime30-59DaysPastDueNotWorse</td>\n      <td>(1.0, 2.0]</td>\n      <td>1.616726</td>\n    </tr>\n    <tr>\n      <th>1</th>\n      <td>NumberOfTime30-59DaysPastDueNotWorse</td>\n      <td>(-inf, 1.0]</td>\n      <td>-0.257826</td>\n    </tr>\n    <tr>\n      <th>13</th>\n      <td>NumberOfTime30-59DaysPastDueNotWorse</td>\n      <td>(2.0, 3.0]</td>\n      <td>2.027495</td>\n    </tr>\n    <tr>\n      <th>183</th>\n      <td>NumberOfTime30-59DaysPastDueNotWorse</td>\n      <td>(3.0, 4.0]</td>\n      <td>2.336869</td>\n    </tr>\n    <tr>\n      <th>191</th>\n      <td>NumberOfTime30-59DaysPastDueNotWorse</td>\n      <td>(4.0, 5.0]</td>\n      <td>2.436786</td>\n    </tr>\n    <tr>\n      <th>251</th>\n      <td>NumberOfTime30-59DaysPastDueNotWorse</td>\n      <td>(6.0, 7.0]</td>\n      <td>2.710383</td>\n    </tr>\n    <tr>\n      <th>423</th>\n      <td>NumberOfTime30-59DaysPastDueNotWorse</td>\n      <td>(9.0, inf]</td>\n      <td>2.846431</td>\n    </tr>\n    <tr>\n      <th>1052</th>\n      <td>NumberOfTime30-59DaysPastDueNotWorse</td>\n      <td>(5.0, 6.0]</td>\n      <td>2.750685</td>\n    </tr>\n    <tr>\n      <th>6909</th>\n      <td>NumberOfTime30-59DaysPastDueNotWorse</td>\n      <td>(7.0, 8.0]</td>\n      <td>1.882503</td>\n    </tr>\n    <tr>\n      <th>10822</th>\n      <td>NumberOfTime30-59DaysPastDueNotWorse</td>\n      <td>(8.0, 9.0]</td>\n      <td>1.943128</td>\n    </tr>\n    <tr>\n      <th>0</th>\n      <td>age</td>\n      <td>(40.0, 50.0]</td>\n      <td>0.228343</td>\n    </tr>\n    <tr>\n      <th>1</th>\n      <td>age</td>\n      <td>(25.0, 40.0]</td>\n      <td>0.469547</td>\n    </tr>\n    <tr>\n      <th>5</th>\n      <td>age</td>\n      <td>(70.0, inf]</td>\n      <td>-1.132145</td>\n    </tr>\n    <tr>\n      <th>6</th>\n      <td>age</td>\n      <td>(50.0, 60.0]</td>\n      <td>-0.084782</td>\n    </tr>\n    <tr>\n      <th>15</th>\n      <td>age</td>\n      <td>(60.0, 70.0]</td>\n      <td>-0.689003</td>\n    </tr>\n    <tr>\n      <th>19</th>\n      <td>age</td>\n      <td>(-inf, 25.0]</td>\n      <td>0.562024</td>\n    </tr>\n    <tr>\n      <th>0</th>\n      <td>NumberOfTimes90DaysLate</td>\n      <td>(-inf, 1.0]</td>\n      <td>-0.176674</td>\n    </tr>\n    <tr>\n      <th>13</th>\n      <td>NumberOfTimes90DaysLate</td>\n      <td>(2.0, 3.0]</td>\n      <td>2.947611</td>\n    </tr>\n    <tr>\n      <th>186</th>\n      <td>NumberOfTimes90DaysLate</td>\n      <td>(1.0, 2.0]</td>\n      <td>2.632416</td>\n    </tr>\n    <tr>\n      <th>1298</th>\n      <td>NumberOfTimes90DaysLate</td>\n      <td>(4.0, 5.0]</td>\n      <td>3.183915</td>\n    </tr>\n    <tr>\n      <th>1713</th>\n      <td>NumberOfTimes90DaysLate</td>\n      <td>(3.0, 4.0]</td>\n      <td>3.344926</td>\n    </tr>\n    <tr>\n      <th>1733</th>\n      <td>NumberOfTimes90DaysLate</td>\n      <td>(9.0, inf]</td>\n      <td>2.821100</td>\n    </tr>\n    <tr>\n      <th>2910</th>\n      <td>NumberOfTimes90DaysLate</td>\n      <td>(8.0, 9.0]</td>\n      <td>3.665894</td>\n    </tr>\n    <tr>\n      <th>3400</th>\n      <td>NumberOfTimes90DaysLate</td>\n      <td>(5.0, 6.0]</td>\n      <td>3.041740</td>\n    </tr>\n    <tr>\n      <th>3929</th>\n      <td>NumberOfTimes90DaysLate</td>\n      <td>(6.0, 7.0]</td>\n      <td>4.124352</td>\n    </tr>\n    <tr>\n      <th>5684</th>\n      <td>NumberOfTimes90DaysLate</td>\n      <td>(7.0, 8.0]</td>\n      <td>3.552566</td>\n    </tr>\n    <tr>\n      <th>0</th>\n      <td>NumberOfTime60-89DaysPastDueNotWorse</td>\n      <td>(-inf, 1.0]</td>\n      <td>-0.097990</td>\n    </tr>\n    <tr>\n      <th>186</th>\n      <td>NumberOfTime60-89DaysPastDueNotWorse</td>\n      <td>(1.0, 2.0]</td>\n      <td>2.643431</td>\n    </tr>\n    <tr>\n      <th>423</th>\n      <td>NumberOfTime60-89DaysPastDueNotWorse</td>\n      <td>(4.0, 5.0]</td>\n      <td>3.115848</td>\n    </tr>\n    <tr>\n      <th>1146</th>\n      <td>NumberOfTime60-89DaysPastDueNotWorse</td>\n      <td>(2.0, 3.0]</td>\n      <td>2.901978</td>\n    </tr>\n    <tr>\n      <th>1733</th>\n      <td>NumberOfTime60-89DaysPastDueNotWorse</td>\n      <td>(9.0, inf]</td>\n      <td>2.829466</td>\n    </tr>\n    <tr>\n      <th>2406</th>\n      <td>NumberOfTime60-89DaysPastDueNotWorse</td>\n      <td>(3.0, 4.0]</td>\n      <td>3.121783</td>\n    </tr>\n    <tr>\n      <th>6664</th>\n      <td>NumberOfTime60-89DaysPastDueNotWorse</td>\n      <td>(5.0, 6.0]</td>\n      <td>3.734887</td>\n    </tr>\n    <tr>\n      <th>16642</th>\n      <td>NumberOfTime60-89DaysPastDueNotWorse</td>\n      <td>(6.0, 7.0]</td>\n      <td>2.859419</td>\n    </tr>\n    <tr>\n      <th>23964</th>\n      <td>NumberOfTime60-89DaysPastDueNotWorse</td>\n      <td>(7.0, 8.0]</td>\n      <td>2.636275</td>\n    </tr>\n    <tr>\n      <th>68976</th>\n      <td>NumberOfTime60-89DaysPastDueNotWorse</td>\n      <td>(8.0, 9.0]</td>\n      <td>2.636275</td>\n    </tr>\n  </tbody>\n</table>\n</div>"
     },
     "execution_count": 10,
     "metadata": {},
     "output_type": "execute_result"
    }
   ],
   "source": [
    "df_bin_to_woe = pd.DataFrame(columns = ['features','bin','woe'])\n",
    "for f in feature_cols:\n",
    "    b = 'bin_'+f\n",
    "    w = 'woe_bin_'+f\n",
    "    df = df_woe[[w,b]].drop_duplicates()\n",
    "    df.columns = ['woe','bin']\n",
    "    df['features'] = f\n",
    "    df=df[['features','bin','woe']]\n",
    "    df_bin_to_woe = pd.concat([df_bin_to_woe,df])\n",
    "df_bin_to_woe"
   ],
   "metadata": {
    "collapsed": false,
    "pycharm": {
     "name": "#%%\n"
    },
    "ExecuteTime": {
     "end_time": "2024-03-22T03:04:10.604454Z",
     "start_time": "2024-03-22T03:04:10.498481Z"
    }
   }
  },
  {
   "cell_type": "markdown",
   "source": [
    "## 逻辑回归建模 ¶\n",
    "留30%作为模型的验证集"
   ],
   "metadata": {
    "collapsed": false,
    "pycharm": {
     "name": "#%% md\n"
    }
   }
  },
  {
   "cell_type": "code",
   "execution_count": 11,
   "outputs": [],
   "source": [
    "X_train, X_test, y_train, y_test = train_test_split(df_woe[woe_cols], df_woe['SeriousDlqin2yrs'], test_size=0.2, random_state=42)"
   ],
   "metadata": {
    "collapsed": false,
    "pycharm": {
     "name": "#%%\n"
    },
    "ExecuteTime": {
     "end_time": "2024-03-22T03:04:10.652569Z",
     "start_time": "2024-03-22T03:04:10.609096Z"
    }
   }
  },
  {
   "cell_type": "code",
   "execution_count": 12,
   "outputs": [
    {
     "name": "stdout",
     "output_type": "stream",
     "text": [
      "bad rate is:  0.06725\n"
     ]
    }
   ],
   "source": [
    "print('bad rate is: ',y_train.mean())"
   ],
   "metadata": {
    "collapsed": false,
    "pycharm": {
     "name": "#%%\n"
    },
    "ExecuteTime": {
     "end_time": "2024-03-22T03:04:10.653791Z",
     "start_time": "2024-03-22T03:04:10.631181Z"
    }
   }
  },
  {
   "cell_type": "code",
   "execution_count": 13,
   "outputs": [
    {
     "data": {
      "text/plain": "       woe_bin_RevolvingUtilizationOfUnsecuredLines  \\\ncount                                 120000.000000   \nmean                                      -0.460494   \nstd                                        0.998029   \nmin                                       -1.447382   \n25%                                       -1.286617   \n50%                                       -0.866502   \n75%                                        0.053164   \nmax                                        1.242254   \n\n       woe_bin_NumberOfTime30-59DaysPastDueNotWorse    woe_bin_age  \\\ncount                                 120000.000000  120000.000000   \nmean                                      -0.143652      -0.112757   \nstd                                        0.487847       0.539645   \nmin                                       -0.257826      -1.132145   \n25%                                       -0.257826      -0.689003   \n50%                                       -0.257826      -0.084782   \n75%                                       -0.257826       0.228343   \nmax                                        2.846431       0.562024   \n\n       woe_bin_NumberOfTimes90DaysLate  \\\ncount                    120000.000000   \nmean                         -0.114278   \nstd                           0.432243   \nmin                          -0.176674   \n25%                          -0.176674   \n50%                          -0.176674   \n75%                          -0.176674   \nmax                           4.124352   \n\n       woe_bin_NumberOfTime60-89DaysPastDueNotWorse  \ncount                                 120000.000000  \nmean                                      -0.062802  \nstd                                        0.315584  \nmin                                       -0.097990  \n25%                                       -0.097990  \n50%                                       -0.097990  \n75%                                       -0.097990  \nmax                                        3.734887  ",
      "text/html": "<div>\n<style scoped>\n    .dataframe tbody tr th:only-of-type {\n        vertical-align: middle;\n    }\n\n    .dataframe tbody tr th {\n        vertical-align: top;\n    }\n\n    .dataframe thead th {\n        text-align: right;\n    }\n</style>\n<table border=\"1\" class=\"dataframe\">\n  <thead>\n    <tr style=\"text-align: right;\">\n      <th></th>\n      <th>woe_bin_RevolvingUtilizationOfUnsecuredLines</th>\n      <th>woe_bin_NumberOfTime30-59DaysPastDueNotWorse</th>\n      <th>woe_bin_age</th>\n      <th>woe_bin_NumberOfTimes90DaysLate</th>\n      <th>woe_bin_NumberOfTime60-89DaysPastDueNotWorse</th>\n    </tr>\n  </thead>\n  <tbody>\n    <tr>\n      <th>count</th>\n      <td>120000.000000</td>\n      <td>120000.000000</td>\n      <td>120000.000000</td>\n      <td>120000.000000</td>\n      <td>120000.000000</td>\n    </tr>\n    <tr>\n      <th>mean</th>\n      <td>-0.460494</td>\n      <td>-0.143652</td>\n      <td>-0.112757</td>\n      <td>-0.114278</td>\n      <td>-0.062802</td>\n    </tr>\n    <tr>\n      <th>std</th>\n      <td>0.998029</td>\n      <td>0.487847</td>\n      <td>0.539645</td>\n      <td>0.432243</td>\n      <td>0.315584</td>\n    </tr>\n    <tr>\n      <th>min</th>\n      <td>-1.447382</td>\n      <td>-0.257826</td>\n      <td>-1.132145</td>\n      <td>-0.176674</td>\n      <td>-0.097990</td>\n    </tr>\n    <tr>\n      <th>25%</th>\n      <td>-1.286617</td>\n      <td>-0.257826</td>\n      <td>-0.689003</td>\n      <td>-0.176674</td>\n      <td>-0.097990</td>\n    </tr>\n    <tr>\n      <th>50%</th>\n      <td>-0.866502</td>\n      <td>-0.257826</td>\n      <td>-0.084782</td>\n      <td>-0.176674</td>\n      <td>-0.097990</td>\n    </tr>\n    <tr>\n      <th>75%</th>\n      <td>0.053164</td>\n      <td>-0.257826</td>\n      <td>0.228343</td>\n      <td>-0.176674</td>\n      <td>-0.097990</td>\n    </tr>\n    <tr>\n      <th>max</th>\n      <td>1.242254</td>\n      <td>2.846431</td>\n      <td>0.562024</td>\n      <td>4.124352</td>\n      <td>3.734887</td>\n    </tr>\n  </tbody>\n</table>\n</div>"
     },
     "execution_count": 13,
     "metadata": {},
     "output_type": "execute_result"
    }
   ],
   "source": [
    "X_train.describe()"
   ],
   "metadata": {
    "collapsed": false,
    "pycharm": {
     "name": "#%%\n"
    },
    "ExecuteTime": {
     "end_time": "2024-03-22T03:04:10.733032Z",
     "start_time": "2024-03-22T03:04:10.636080Z"
    }
   }
  },
  {
   "cell_type": "code",
   "execution_count": 14,
   "outputs": [],
   "source": [
    "model = LogisticRegression(random_state=42).fit(X_train,y_train)"
   ],
   "metadata": {
    "collapsed": false,
    "pycharm": {
     "name": "#%%\n"
    },
    "ExecuteTime": {
     "end_time": "2024-03-22T03:04:10.843681Z",
     "start_time": "2024-03-22T03:04:10.674642Z"
    }
   }
  },
  {
   "cell_type": "code",
   "execution_count": 15,
   "outputs": [
    {
     "data": {
      "text/plain": "0.9370333333333334"
     },
     "execution_count": 15,
     "metadata": {},
     "output_type": "execute_result"
    }
   ],
   "source": [
    "#在验证集上看性能\n",
    "model.score(X_test,y_test)"
   ],
   "metadata": {
    "collapsed": false,
    "pycharm": {
     "name": "#%%\n"
    },
    "ExecuteTime": {
     "end_time": "2024-03-22T03:04:10.844635Z",
     "start_time": "2024-03-22T03:04:10.776543Z"
    }
   }
  },
  {
   "cell_type": "code",
   "execution_count": 16,
   "outputs": [
    {
     "data": {
      "text/plain": "<Figure size 640x480 with 1 Axes>",
      "image/png": "[encoded data removed]"
     },
     "metadata": {},
     "output_type": "display_data"
    }
   ],
   "source": [
    "import sklearn.metrics as metrics\n",
    "# calculate the fpr and tpr for all thresholds of the classification\n",
    "probs = model.predict_proba(X_test)\n",
    "\n",
    "preds = probs[:,1]\n",
    "fpr, tpr, threshold = metrics.roc_curve(y_test, preds)\n",
    "roc_auc = metrics.auc(fpr, tpr)\n",
    "\n",
    "# method I: plt\n",
    "import matplotlib.pyplot as plt\n",
    "plt.title('Receiver Operating Characteristic')\n",
    "plt.plot(fpr, tpr, 'b', label = 'AUC = %0.2f' % roc_auc)\n",
    "plt.legend(loc = 'lower right')\n",
    "plt.plot([0, 1], [0, 1],'r--')\n",
    "plt.xlim([0, 1])\n",
    "plt.ylim([0, 1])\n",
    "plt.ylabel('True Positive Rate')\n",
    "plt.xlabel('False Positive Rate')\n",
    "plt.show()"
   ],
   "metadata": {
    "collapsed": false,
    "pycharm": {
     "name": "#%%\n"
    },
    "ExecuteTime": {
     "end_time": "2024-03-22T03:04:11.028916Z",
     "start_time": "2024-03-22T03:04:10.792310Z"
    }
   }
  },
  {
   "cell_type": "code",
   "execution_count": 17,
   "outputs": [
    {
     "data": {
      "text/plain": "array([[27888,   156],\n       [ 1733,   223]])"
     },
     "execution_count": 17,
     "metadata": {},
     "output_type": "execute_result"
    }
   ],
   "source": [
    "#混淆矩阵\n",
    "y_pred = model.predict(X_test)\n",
    "metrics.confusion_matrix(y_test,y_pred)"
   ],
   "metadata": {
    "collapsed": false,
    "pycharm": {
     "name": "#%%\n"
    },
    "ExecuteTime": {
     "end_time": "2024-03-22T03:04:11.053757Z",
     "start_time": "2024-03-22T03:04:11.031820Z"
    }
   }
  },
  {
   "cell_type": "code",
   "execution_count": 18,
   "outputs": [
    {
     "data": {
      "text/plain": "array([[0.76447128, 0.59842898, 0.48418264, 0.5744202 , 0.32056187]])"
     },
     "execution_count": 18,
     "metadata": {},
     "output_type": "execute_result"
    }
   ],
   "source": [
    "model.coef_"
   ],
   "metadata": {
    "collapsed": false,
    "pycharm": {
     "name": "#%%\n"
    },
    "ExecuteTime": {
     "end_time": "2024-03-22T03:04:11.111248Z",
     "start_time": "2024-03-22T03:04:11.045698Z"
    }
   }
  },
  {
   "cell_type": "markdown",
   "source": [
    "## 评分卡转换 ¶"
   ],
   "metadata": {
    "collapsed": false,
    "pycharm": {
     "name": "#%% md\n"
    }
   }
  },
  {
   "cell_type": "code",
   "execution_count": 19,
   "outputs": [],
   "source": [
    "A = 650\n",
    "B =72.13"
   ],
   "metadata": {
    "collapsed": false,
    "pycharm": {
     "name": "#%%\n"
    },
    "ExecuteTime": {
     "end_time": "2024-03-22T03:04:11.112033Z",
     "start_time": "2024-03-22T03:04:11.052641Z"
    }
   }
  },
  {
   "cell_type": "code",
   "execution_count": 25,
   "outputs": [],
   "source": [
    "def generate_scorecard(model_coef,binning_df,features,B):\n",
    "    lst = []\n",
    "    cols = ['Variable','Binning','Score']\n",
    "    coef = model_coef[0]\n",
    "    for i in range(len(features)):\n",
    "        f = features[i]\n",
    "        df = binning_df[binning_df['features']==f]\n",
    "        print(coef[i])\n",
    "        for index,row in df.iterrows():\n",
    "            lst.append([f,row['bin'],int(round(-coef[i]*row['woe']*B))])\n",
    "    data = pd.DataFrame(lst, columns=cols)\n",
    "    return data\n"
   ],
   "metadata": {
    "collapsed": false,
    "ExecuteTime": {
     "end_time": "2024-03-22T03:14:17.839399Z",
     "start_time": "2024-03-22T03:14:17.814842Z"
    }
   }
  },
  {
   "cell_type": "code",
   "execution_count": 26,
   "outputs": [
    {
     "name": "stdout",
     "output_type": "stream",
     "text": [
      "0.7644712761026986\n",
      "0.5984289823597723\n",
      "0.48418263621148566\n",
      "0.5744202023584659\n",
      "0.32056187178072487\n"
     ]
    },
    {
     "data": {
      "text/plain": "                                Variable           Binning  Score\n0   RevolvingUtilizationOfUnsecuredLines  (0.699, 50708.0]    -68\n1   RevolvingUtilizationOfUnsecuredLines    (0.271, 0.699]     -3\n2   RevolvingUtilizationOfUnsecuredLines   (0.0832, 0.271]     48\n3   RevolvingUtilizationOfUnsecuredLines  (-0.001, 0.0192]     71\n4   RevolvingUtilizationOfUnsecuredLines  (0.0192, 0.0832]     80\n5   NumberOfTime30-59DaysPastDueNotWorse        (1.0, 2.0]    -70\n6   NumberOfTime30-59DaysPastDueNotWorse       (-inf, 1.0]     11\n7   NumberOfTime30-59DaysPastDueNotWorse        (2.0, 3.0]    -88\n8   NumberOfTime30-59DaysPastDueNotWorse        (3.0, 4.0]   -101\n9   NumberOfTime30-59DaysPastDueNotWorse        (4.0, 5.0]   -105\n10  NumberOfTime30-59DaysPastDueNotWorse        (6.0, 7.0]   -117\n11  NumberOfTime30-59DaysPastDueNotWorse        (9.0, inf]   -123\n12  NumberOfTime30-59DaysPastDueNotWorse        (5.0, 6.0]   -119\n13  NumberOfTime30-59DaysPastDueNotWorse        (7.0, 8.0]    -81\n14  NumberOfTime30-59DaysPastDueNotWorse        (8.0, 9.0]    -84\n15                                   age      (40.0, 50.0]     -8\n16                                   age      (25.0, 40.0]    -16\n17                                   age       (70.0, inf]     40\n18                                   age      (50.0, 60.0]      3\n19                                   age      (60.0, 70.0]     24\n20                                   age      (-inf, 25.0]    -20\n21               NumberOfTimes90DaysLate       (-inf, 1.0]      7\n22               NumberOfTimes90DaysLate        (2.0, 3.0]   -122\n23               NumberOfTimes90DaysLate        (1.0, 2.0]   -109\n24               NumberOfTimes90DaysLate        (4.0, 5.0]   -132\n25               NumberOfTimes90DaysLate        (3.0, 4.0]   -139\n26               NumberOfTimes90DaysLate        (9.0, inf]   -117\n27               NumberOfTimes90DaysLate        (8.0, 9.0]   -152\n28               NumberOfTimes90DaysLate        (5.0, 6.0]   -126\n29               NumberOfTimes90DaysLate        (6.0, 7.0]   -171\n30               NumberOfTimes90DaysLate        (7.0, 8.0]   -147\n31  NumberOfTime60-89DaysPastDueNotWorse       (-inf, 1.0]      2\n32  NumberOfTime60-89DaysPastDueNotWorse        (1.0, 2.0]    -61\n33  NumberOfTime60-89DaysPastDueNotWorse        (4.0, 5.0]    -72\n34  NumberOfTime60-89DaysPastDueNotWorse        (2.0, 3.0]    -67\n35  NumberOfTime60-89DaysPastDueNotWorse        (9.0, inf]    -65\n36  NumberOfTime60-89DaysPastDueNotWorse        (3.0, 4.0]    -72\n37  NumberOfTime60-89DaysPastDueNotWorse        (5.0, 6.0]    -86\n38  NumberOfTime60-89DaysPastDueNotWorse        (6.0, 7.0]    -66\n39  NumberOfTime60-89DaysPastDueNotWorse        (7.0, 8.0]    -61\n40  NumberOfTime60-89DaysPastDueNotWorse        (8.0, 9.0]    -61",
      "text/html": "<div>\n<style scoped>\n    .dataframe tbody tr th:only-of-type {\n        vertical-align: middle;\n    }\n\n    .dataframe tbody tr th {\n        vertical-align: top;\n    }\n\n    .dataframe thead th {\n        text-align: right;\n    }\n</style>\n<table border=\"1\" class=\"dataframe\">\n  <thead>\n    <tr style=\"text-align: right;\">\n      <th></th>\n      <th>Variable</th>\n      <th>Binning</th>\n      <th>Score</th>\n    </tr>\n  </thead>\n  <tbody>\n    <tr>\n      <th>0</th>\n      <td>RevolvingUtilizationOfUnsecuredLines</td>\n      <td>(0.699, 50708.0]</td>\n      <td>-68</td>\n    </tr>\n    <tr>\n      <th>1</th>\n      <td>RevolvingUtilizationOfUnsecuredLines</td>\n      <td>(0.271, 0.699]</td>\n      <td>-3</td>\n    </tr>\n    <tr>\n      <th>2</th>\n      <td>RevolvingUtilizationOfUnsecuredLines</td>\n      <td>(0.0832, 0.271]</td>\n      <td>48</td>\n    </tr>\n    <tr>\n      <th>3</th>\n      <td>RevolvingUtilizationOfUnsecuredLines</td>\n      <td>(-0.001, 0.0192]</td>\n      <td>71</td>\n    </tr>\n    <tr>\n      <th>4</th>\n      <td>RevolvingUtilizationOfUnsecuredLines</td>\n      <td>(0.0192, 0.0832]</td>\n      <td>80</td>\n    </tr>\n    <tr>\n      <th>5</th>\n      <td>NumberOfTime30-59DaysPastDueNotWorse</td>\n      <td>(1.0, 2.0]</td>\n      <td>-70</td>\n    </tr>\n    <tr>\n      <th>6</th>\n      <td>NumberOfTime30-59DaysPastDueNotWorse</td>\n      <td>(-inf, 1.0]</td>\n      <td>11</td>\n    </tr>\n    <tr>\n      <th>7</th>\n      <td>NumberOfTime30-59DaysPastDueNotWorse</td>\n      <td>(2.0, 3.0]</td>\n      <td>-88</td>\n    </tr>\n    <tr>\n      <th>8</th>\n      <td>NumberOfTime30-59DaysPastDueNotWorse</td>\n      <td>(3.0, 4.0]</td>\n      <td>-101</td>\n    </tr>\n    <tr>\n      <th>9</th>\n      <td>NumberOfTime30-59DaysPastDueNotWorse</td>\n      <td>(4.0, 5.0]</td>\n      <td>-105</td>\n    </tr>\n    <tr>\n      <th>10</th>\n      <td>NumberOfTime30-59DaysPastDueNotWorse</td>\n      <td>(6.0, 7.0]</td>\n      <td>-117</td>\n    </tr>\n    <tr>\n      <th>11</th>\n      <td>NumberOfTime30-59DaysPastDueNotWorse</td>\n      <td>(9.0, inf]</td>\n      <td>-123</td>\n    </tr>\n    <tr>\n      <th>12</th>\n      <td>NumberOfTime30-59DaysPastDueNotWorse</td>\n      <td>(5.0, 6.0]</td>\n      <td>-119</td>\n    </tr>\n    <tr>\n      <th>13</th>\n      <td>NumberOfTime30-59DaysPastDueNotWorse</td>\n      <td>(7.0, 8.0]</td>\n      <td>-81</td>\n    </tr>\n    <tr>\n      <th>14</th>\n      <td>NumberOfTime30-59DaysPastDueNotWorse</td>\n      <td>(8.0, 9.0]</td>\n      <td>-84</td>\n    </tr>\n    <tr>\n      <th>15</th>\n      <td>age</td>\n      <td>(40.0, 50.0]</td>\n      <td>-8</td>\n    </tr>\n    <tr>\n      <th>16</th>\n      <td>age</td>\n      <td>(25.0, 40.0]</td>\n      <td>-16</td>\n    </tr>\n    <tr>\n      <th>17</th>\n      <td>age</td>\n      <td>(70.0, inf]</td>\n      <td>40</td>\n    </tr>\n    <tr>\n      <th>18</th>\n      <td>age</td>\n      <td>(50.0, 60.0]</td>\n      <td>3</td>\n    </tr>\n    <tr>\n      <th>19</th>\n      <td>age</td>\n      <td>(60.0, 70.0]</td>\n      <td>24</td>\n    </tr>\n    <tr>\n      <th>20</th>\n      <td>age</td>\n      <td>(-inf, 25.0]</td>\n      <td>-20</td>\n    </tr>\n    <tr>\n      <th>21</th>\n      <td>NumberOfTimes90DaysLate</td>\n      <td>(-inf, 1.0]</td>\n      <td>7</td>\n    </tr>\n    <tr>\n      <th>22</th>\n      <td>NumberOfTimes90DaysLate</td>\n      <td>(2.0, 3.0]</td>\n      <td>-122</td>\n    </tr>\n    <tr>\n      <th>23</th>\n      <td>NumberOfTimes90DaysLate</td>\n      <td>(1.0, 2.0]</td>\n      <td>-109</td>\n    </tr>\n    <tr>\n      <th>24</th>\n      <td>NumberOfTimes90DaysLate</td>\n      <td>(4.0, 5.0]</td>\n      <td>-132</td>\n    </tr>\n    <tr>\n      <th>25</th>\n      <td>NumberOfTimes90DaysLate</td>\n      <td>(3.0, 4.0]</td>\n      <td>-139</td>\n    </tr>\n    <tr>\n      <th>26</th>\n      <td>NumberOfTimes90DaysLate</td>\n      <td>(9.0, inf]</td>\n      <td>-117</td>\n    </tr>\n    <tr>\n      <th>27</th>\n      <td>NumberOfTimes90DaysLate</td>\n      <td>(8.0, 9.0]</td>\n      <td>-152</td>\n    </tr>\n    <tr>\n      <th>28</th>\n      <td>NumberOfTimes90DaysLate</td>\n      <td>(5.0, 6.0]</td>\n      <td>-126</td>\n    </tr>\n    <tr>\n      <th>29</th>\n      <td>NumberOfTimes90DaysLate</td>\n      <td>(6.0, 7.0]</td>\n      <td>-171</td>\n    </tr>\n    <tr>\n      <th>30</th>\n      <td>NumberOfTimes90DaysLate</td>\n      <td>(7.0, 8.0]</td>\n      <td>-147</td>\n    </tr>\n    <tr>\n      <th>31</th>\n      <td>NumberOfTime60-89DaysPastDueNotWorse</td>\n      <td>(-inf, 1.0]</td>\n      <td>2</td>\n    </tr>\n    <tr>\n      <th>32</th>\n      <td>NumberOfTime60-89DaysPastDueNotWorse</td>\n      <td>(1.0, 2.0]</td>\n      <td>-61</td>\n    </tr>\n    <tr>\n      <th>33</th>\n      <td>NumberOfTime60-89DaysPastDueNotWorse</td>\n      <td>(4.0, 5.0]</td>\n      <td>-72</td>\n    </tr>\n    <tr>\n      <th>34</th>\n      <td>NumberOfTime60-89DaysPastDueNotWorse</td>\n      <td>(2.0, 3.0]</td>\n      <td>-67</td>\n    </tr>\n    <tr>\n      <th>35</th>\n      <td>NumberOfTime60-89DaysPastDueNotWorse</td>\n      <td>(9.0, inf]</td>\n      <td>-65</td>\n    </tr>\n    <tr>\n      <th>36</th>\n      <td>NumberOfTime60-89DaysPastDueNotWorse</td>\n      <td>(3.0, 4.0]</td>\n      <td>-72</td>\n    </tr>\n    <tr>\n      <th>37</th>\n      <td>NumberOfTime60-89DaysPastDueNotWorse</td>\n      <td>(5.0, 6.0]</td>\n      <td>-86</td>\n    </tr>\n    <tr>\n      <th>38</th>\n      <td>NumberOfTime60-89DaysPastDueNotWorse</td>\n      <td>(6.0, 7.0]</td>\n      <td>-66</td>\n    </tr>\n    <tr>\n      <th>39</th>\n      <td>NumberOfTime60-89DaysPastDueNotWorse</td>\n      <td>(7.0, 8.0]</td>\n      <td>-61</td>\n    </tr>\n    <tr>\n      <th>40</th>\n      <td>NumberOfTime60-89DaysPastDueNotWorse</td>\n      <td>(8.0, 9.0]</td>\n      <td>-61</td>\n    </tr>\n  </tbody>\n</table>\n</div>"
     },
     "execution_count": 26,
     "metadata": {},
     "output_type": "execute_result"
    }
   ],
   "source": [
    "\n",
    "\n",
    "score_card = generate_scorecard(model.coef_,df_bin_to_woe,feature_cols,B)\n",
    "score_card"
   ],
   "metadata": {
    "collapsed": false,
    "pycharm": {
     "name": "#%%\n"
    },
    "ExecuteTime": {
     "end_time": "2024-03-22T03:14:20.866349Z",
     "start_time": "2024-03-22T03:14:20.856630Z"
    }
   }
  },
  {
   "cell_type": "code",
   "execution_count": 27,
   "outputs": [
    {
     "data": {
      "text/plain": "                                                                     Variable  \\\nVariable                                                                        \nNumberOfTime30-59DaysPastDueNotWorse 6   NumberOfTime30-59DaysPastDueNotWorse   \n                                     5   NumberOfTime30-59DaysPastDueNotWorse   \n                                     13  NumberOfTime30-59DaysPastDueNotWorse   \n                                     14  NumberOfTime30-59DaysPastDueNotWorse   \n                                     7   NumberOfTime30-59DaysPastDueNotWorse   \n                                     8   NumberOfTime30-59DaysPastDueNotWorse   \n                                     9   NumberOfTime30-59DaysPastDueNotWorse   \n                                     10  NumberOfTime30-59DaysPastDueNotWorse   \n                                     12  NumberOfTime30-59DaysPastDueNotWorse   \n                                     11  NumberOfTime30-59DaysPastDueNotWorse   \nNumberOfTime60-89DaysPastDueNotWorse 31  NumberOfTime60-89DaysPastDueNotWorse   \n                                     32  NumberOfTime60-89DaysPastDueNotWorse   \n                                     39  NumberOfTime60-89DaysPastDueNotWorse   \n                                     40  NumberOfTime60-89DaysPastDueNotWorse   \n                                     35  NumberOfTime60-89DaysPastDueNotWorse   \n                                     38  NumberOfTime60-89DaysPastDueNotWorse   \n                                     34  NumberOfTime60-89DaysPastDueNotWorse   \n                                     33  NumberOfTime60-89DaysPastDueNotWorse   \n                                     36  NumberOfTime60-89DaysPastDueNotWorse   \n                                     37  NumberOfTime60-89DaysPastDueNotWorse   \nNumberOfTimes90DaysLate              21               NumberOfTimes90DaysLate   \n                                     23               NumberOfTimes90DaysLate   \n                                     26               NumberOfTimes90DaysLate   \n                                     22               NumberOfTimes90DaysLate   \n                                     28               NumberOfTimes90DaysLate   \n                                     24               NumberOfTimes90DaysLate   \n                                     25               NumberOfTimes90DaysLate   \n                                     30               NumberOfTimes90DaysLate   \n                                     27               NumberOfTimes90DaysLate   \n                                     29               NumberOfTimes90DaysLate   \nRevolvingUtilizationOfUnsecuredLines 4   RevolvingUtilizationOfUnsecuredLines   \n                                     3   RevolvingUtilizationOfUnsecuredLines   \n                                     2   RevolvingUtilizationOfUnsecuredLines   \n                                     1   RevolvingUtilizationOfUnsecuredLines   \n                                     0   RevolvingUtilizationOfUnsecuredLines   \nage                                  17                                   age   \n                                     19                                   age   \n                                     18                                   age   \n                                     15                                   age   \n                                     16                                   age   \n                                     20                                   age   \n\n                                                  Binning  Score  \nVariable                                                          \nNumberOfTime30-59DaysPastDueNotWorse 6        (-inf, 1.0]     11  \n                                     5         (1.0, 2.0]    -70  \n                                     13        (7.0, 8.0]    -81  \n                                     14        (8.0, 9.0]    -84  \n                                     7         (2.0, 3.0]    -88  \n                                     8         (3.0, 4.0]   -101  \n                                     9         (4.0, 5.0]   -105  \n                                     10        (6.0, 7.0]   -117  \n                                     12        (5.0, 6.0]   -119  \n                                     11        (9.0, inf]   -123  \nNumberOfTime60-89DaysPastDueNotWorse 31       (-inf, 1.0]      2  \n                                     32        (1.0, 2.0]    -61  \n                                     39        (7.0, 8.0]    -61  \n                                     40        (8.0, 9.0]    -61  \n                                     35        (9.0, inf]    -65  \n                                     38        (6.0, 7.0]    -66  \n                                     34        (2.0, 3.0]    -67  \n                                     33        (4.0, 5.0]    -72  \n                                     36        (3.0, 4.0]    -72  \n                                     37        (5.0, 6.0]    -86  \nNumberOfTimes90DaysLate              21       (-inf, 1.0]      7  \n                                     23        (1.0, 2.0]   -109  \n                                     26        (9.0, inf]   -117  \n                                     22        (2.0, 3.0]   -122  \n                                     28        (5.0, 6.0]   -126  \n                                     24        (4.0, 5.0]   -132  \n                                     25        (3.0, 4.0]   -139  \n                                     30        (7.0, 8.0]   -147  \n                                     27        (8.0, 9.0]   -152  \n                                     29        (6.0, 7.0]   -171  \nRevolvingUtilizationOfUnsecuredLines 4   (0.0192, 0.0832]     80  \n                                     3   (-0.001, 0.0192]     71  \n                                     2    (0.0832, 0.271]     48  \n                                     1     (0.271, 0.699]     -3  \n                                     0   (0.699, 50708.0]    -68  \nage                                  17       (70.0, inf]     40  \n                                     19      (60.0, 70.0]     24  \n                                     18      (50.0, 60.0]      3  \n                                     15      (40.0, 50.0]     -8  \n                                     16      (25.0, 40.0]    -16  \n                                     20      (-inf, 25.0]    -20  ",
      "text/html": "<div>\n<style scoped>\n    .dataframe tbody tr th:only-of-type {\n        vertical-align: middle;\n    }\n\n    .dataframe tbody tr th {\n        vertical-align: top;\n    }\n\n    .dataframe thead th {\n        text-align: right;\n    }\n</style>\n<table border=\"1\" class=\"dataframe\">\n  <thead>\n    <tr style=\"text-align: right;\">\n      <th></th>\n      <th></th>\n      <th>Variable</th>\n      <th>Binning</th>\n      <th>Score</th>\n    </tr>\n    <tr>\n      <th>Variable</th>\n      <th></th>\n      <th></th>\n      <th></th>\n      <th></th>\n    </tr>\n  </thead>\n  <tbody>\n    <tr>\n      <th rowspan=\"10\" valign=\"top\">NumberOfTime30-59DaysPastDueNotWorse</th>\n      <th>6</th>\n      <td>NumberOfTime30-59DaysPastDueNotWorse</td>\n      <td>(-inf, 1.0]</td>\n      <td>11</td>\n    </tr>\n    <tr>\n      <th>5</th>\n      <td>NumberOfTime30-59DaysPastDueNotWorse</td>\n      <td>(1.0, 2.0]</td>\n      <td>-70</td>\n    </tr>\n    <tr>\n      <th>13</th>\n      <td>NumberOfTime30-59DaysPastDueNotWorse</td>\n      <td>(7.0, 8.0]</td>\n      <td>-81</td>\n    </tr>\n    <tr>\n      <th>14</th>\n      <td>NumberOfTime30-59DaysPastDueNotWorse</td>\n      <td>(8.0, 9.0]</td>\n      <td>-84</td>\n    </tr>\n    <tr>\n      <th>7</th>\n      <td>NumberOfTime30-59DaysPastDueNotWorse</td>\n      <td>(2.0, 3.0]</td>\n      <td>-88</td>\n    </tr>\n    <tr>\n      <th>8</th>\n      <td>NumberOfTime30-59DaysPastDueNotWorse</td>\n      <td>(3.0, 4.0]</td>\n      <td>-101</td>\n    </tr>\n    <tr>\n      <th>9</th>\n      <td>NumberOfTime30-59DaysPastDueNotWorse</td>\n      <td>(4.0, 5.0]</td>\n      <td>-105</td>\n    </tr>\n    <tr>\n      <th>10</th>\n      <td>NumberOfTime30-59DaysPastDueNotWorse</td>\n      <td>(6.0, 7.0]</td>\n      <td>-117</td>\n    </tr>\n    <tr>\n      <th>12</th>\n      <td>NumberOfTime30-59DaysPastDueNotWorse</td>\n      <td>(5.0, 6.0]</td>\n      <td>-119</td>\n    </tr>\n    <tr>\n      <th>11</th>\n      <td>NumberOfTime30-59DaysPastDueNotWorse</td>\n      <td>(9.0, inf]</td>\n      <td>-123</td>\n    </tr>\n    <tr>\n      <th rowspan=\"10\" valign=\"top\">NumberOfTime60-89DaysPastDueNotWorse</th>\n      <th>31</th>\n      <td>NumberOfTime60-89DaysPastDueNotWorse</td>\n      <td>(-inf, 1.0]</td>\n      <td>2</td>\n    </tr>\n    <tr>\n      <th>32</th>\n      <td>NumberOfTime60-89DaysPastDueNotWorse</td>\n      <td>(1.0, 2.0]</td>\n      <td>-61</td>\n    </tr>\n    <tr>\n      <th>39</th>\n      <td>NumberOfTime60-89DaysPastDueNotWorse</td>\n      <td>(7.0, 8.0]</td>\n      <td>-61</td>\n    </tr>\n    <tr>\n      <th>40</th>\n      <td>NumberOfTime60-89DaysPastDueNotWorse</td>\n      <td>(8.0, 9.0]</td>\n      <td>-61</td>\n    </tr>\n    <tr>\n      <th>35</th>\n      <td>NumberOfTime60-89DaysPastDueNotWorse</td>\n      <td>(9.0, inf]</td>\n      <td>-65</td>\n    </tr>\n    <tr>\n      <th>38</th>\n      <td>NumberOfTime60-89DaysPastDueNotWorse</td>\n      <td>(6.0, 7.0]</td>\n      <td>-66</td>\n    </tr>\n    <tr>\n      <th>34</th>\n      <td>NumberOfTime60-89DaysPastDueNotWorse</td>\n      <td>(2.0, 3.0]</td>\n      <td>-67</td>\n    </tr>\n    <tr>\n      <th>33</th>\n      <td>NumberOfTime60-89DaysPastDueNotWorse</td>\n      <td>(4.0, 5.0]</td>\n      <td>-72</td>\n    </tr>\n    <tr>\n      <th>36</th>\n      <td>NumberOfTime60-89DaysPastDueNotWorse</td>\n      <td>(3.0, 4.0]</td>\n      <td>-72</td>\n    </tr>\n    <tr>\n      <th>37</th>\n      <td>NumberOfTime60-89DaysPastDueNotWorse</td>\n      <td>(5.0, 6.0]</td>\n      <td>-86</td>\n    </tr>\n    <tr>\n      <th rowspan=\"10\" valign=\"top\">NumberOfTimes90DaysLate</th>\n      <th>21</th>\n      <td>NumberOfTimes90DaysLate</td>\n      <td>(-inf, 1.0]</td>\n      <td>7</td>\n    </tr>\n    <tr>\n      <th>23</th>\n      <td>NumberOfTimes90DaysLate</td>\n      <td>(1.0, 2.0]</td>\n      <td>-109</td>\n    </tr>\n    <tr>\n      <th>26</th>\n      <td>NumberOfTimes90DaysLate</td>\n      <td>(9.0, inf]</td>\n      <td>-117</td>\n    </tr>\n    <tr>\n      <th>22</th>\n      <td>NumberOfTimes90DaysLate</td>\n      <td>(2.0, 3.0]</td>\n      <td>-122</td>\n    </tr>\n    <tr>\n      <th>28</th>\n      <td>NumberOfTimes90DaysLate</td>\n      <td>(5.0, 6.0]</td>\n      <td>-126</td>\n    </tr>\n    <tr>\n      <th>24</th>\n      <td>NumberOfTimes90DaysLate</td>\n      <td>(4.0, 5.0]</td>\n      <td>-132</td>\n    </tr>\n    <tr>\n      <th>25</th>\n      <td>NumberOfTimes90DaysLate</td>\n      <td>(3.0, 4.0]</td>\n      <td>-139</td>\n    </tr>\n    <tr>\n      <th>30</th>\n      <td>NumberOfTimes90DaysLate</td>\n      <td>(7.0, 8.0]</td>\n      <td>-147</td>\n    </tr>\n    <tr>\n      <th>27</th>\n      <td>NumberOfTimes90DaysLate</td>\n      <td>(8.0, 9.0]</td>\n      <td>-152</td>\n    </tr>\n    <tr>\n      <th>29</th>\n      <td>NumberOfTimes90DaysLate</td>\n      <td>(6.0, 7.0]</td>\n      <td>-171</td>\n    </tr>\n    <tr>\n      <th rowspan=\"5\" valign=\"top\">RevolvingUtilizationOfUnsecuredLines</th>\n      <th>4</th>\n      <td>RevolvingUtilizationOfUnsecuredLines</td>\n      <td>(0.0192, 0.0832]</td>\n      <td>80</td>\n    </tr>\n    <tr>\n      <th>3</th>\n      <td>RevolvingUtilizationOfUnsecuredLines</td>\n      <td>(-0.001, 0.0192]</td>\n      <td>71</td>\n    </tr>\n    <tr>\n      <th>2</th>\n      <td>RevolvingUtilizationOfUnsecuredLines</td>\n      <td>(0.0832, 0.271]</td>\n      <td>48</td>\n    </tr>\n    <tr>\n      <th>1</th>\n      <td>RevolvingUtilizationOfUnsecuredLines</td>\n      <td>(0.271, 0.699]</td>\n      <td>-3</td>\n    </tr>\n    <tr>\n      <th>0</th>\n      <td>RevolvingUtilizationOfUnsecuredLines</td>\n      <td>(0.699, 50708.0]</td>\n      <td>-68</td>\n    </tr>\n    <tr>\n      <th rowspan=\"6\" valign=\"top\">age</th>\n      <th>17</th>\n      <td>age</td>\n      <td>(70.0, inf]</td>\n      <td>40</td>\n    </tr>\n    <tr>\n      <th>19</th>\n      <td>age</td>\n      <td>(60.0, 70.0]</td>\n      <td>24</td>\n    </tr>\n    <tr>\n      <th>18</th>\n      <td>age</td>\n      <td>(50.0, 60.0]</td>\n      <td>3</td>\n    </tr>\n    <tr>\n      <th>15</th>\n      <td>age</td>\n      <td>(40.0, 50.0]</td>\n      <td>-8</td>\n    </tr>\n    <tr>\n      <th>16</th>\n      <td>age</td>\n      <td>(25.0, 40.0]</td>\n      <td>-16</td>\n    </tr>\n    <tr>\n      <th>20</th>\n      <td>age</td>\n      <td>(-inf, 25.0]</td>\n      <td>-20</td>\n    </tr>\n  </tbody>\n</table>\n</div>"
     },
     "execution_count": 27,
     "metadata": {},
     "output_type": "execute_result"
    }
   ],
   "source": [
    "sort_scorecard = score_card.groupby('Variable').apply(lambda x: x.sort_values('Score', ascending=False))\n",
    "sort_scorecard"
   ],
   "metadata": {
    "collapsed": false,
    "pycharm": {
     "name": "#%%\n"
    },
    "ExecuteTime": {
     "end_time": "2024-03-22T03:14:22.404850Z",
     "start_time": "2024-03-22T03:14:22.395846Z"
    }
   }
  },
  {
   "cell_type": "code",
   "execution_count": 22,
   "outputs": [],
   "source": [],
   "metadata": {
    "collapsed": false,
    "pycharm": {
     "name": "#%%\n"
    },
    "ExecuteTime": {
     "end_time": "2024-03-22T03:04:11.114101Z",
     "start_time": "2024-03-22T03:04:11.091662Z"
    }
   }
  }
 ],
 "metadata": {
  "kernelspec": {
   "display_name": "Python 3",
   "language": "python",
   "name": "python3"
  },
  "language_info": {
   "codemirror_mode": {
    "name": "ipython",
    "version": 2
   },
   "file_extension": ".py",
   "mimetype": "text/x-python",
   "name": "python",
   "nbconvert_exporter": "python",
   "pygments_lexer": "ipython2",
   "version": "2.7.6"
  }
 },
 "nbformat": 4,
 "nbformat_minor": 0
}
