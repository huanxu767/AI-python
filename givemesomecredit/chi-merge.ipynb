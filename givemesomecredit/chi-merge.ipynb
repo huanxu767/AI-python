{
 "cells": [
  {
   "cell_type": "code",
   "execution_count": 1,
   "id": "initial_id",
   "metadata": {
    "collapsed": true,
    "ExecuteTime": {
     "end_time": "2024-03-22T05:55:39.185863Z",
     "start_time": "2024-03-22T05:55:38.916402Z"
    }
   },
   "outputs": [
    {
     "data": {
      "text/plain": "   Unnamed: 0  SeriousDlqin2yrs  RevolvingUtilizationOfUnsecuredLines  age  \\\n0           1                 1                              0.766127   45   \n1           2                 0                              0.957151   40   \n2           3                 0                              0.658180   38   \n3           4                 0                              0.233810   30   \n4           5                 0                              0.907239   49   \n\n   NumberOfTime30-59DaysPastDueNotWorse  DebtRatio  MonthlyIncome  \\\n0                                     2   0.802982         9120.0   \n1                                     0   0.121876         2600.0   \n2                                     1   0.085113         3042.0   \n3                                     0   0.036050         3300.0   \n4                                     1   0.024926        63588.0   \n\n   NumberOfOpenCreditLinesAndLoans  NumberOfTimes90DaysLate  \\\n0                               13                        0   \n1                                4                        0   \n2                                2                        1   \n3                                5                        0   \n4                                7                        0   \n\n   NumberRealEstateLoansOrLines  NumberOfTime60-89DaysPastDueNotWorse  \\\n0                             6                                     0   \n1                             0                                     0   \n2                             0                                     0   \n3                             0                                     0   \n4                             1                                     0   \n\n   NumberOfDependents  \n0                 2.0  \n1                 1.0  \n2                 0.0  \n3                 0.0  \n4                 0.0  ",
      "text/html": "<div>\n<style scoped>\n    .dataframe tbody tr th:only-of-type {\n        vertical-align: middle;\n    }\n\n    .dataframe tbody tr th {\n        vertical-align: top;\n    }\n\n    .dataframe thead th {\n        text-align: right;\n    }\n</style>\n<table border=\"1\" class=\"dataframe\">\n  <thead>\n    <tr style=\"text-align: right;\">\n      <th></th>\n      <th>Unnamed: 0</th>\n      <th>SeriousDlqin2yrs</th>\n      <th>RevolvingUtilizationOfUnsecuredLines</th>\n      <th>age</th>\n      <th>NumberOfTime30-59DaysPastDueNotWorse</th>\n      <th>DebtRatio</th>\n      <th>MonthlyIncome</th>\n      <th>NumberOfOpenCreditLinesAndLoans</th>\n      <th>NumberOfTimes90DaysLate</th>\n      <th>NumberRealEstateLoansOrLines</th>\n      <th>NumberOfTime60-89DaysPastDueNotWorse</th>\n      <th>NumberOfDependents</th>\n    </tr>\n  </thead>\n  <tbody>\n    <tr>\n      <th>0</th>\n      <td>1</td>\n      <td>1</td>\n      <td>0.766127</td>\n      <td>45</td>\n      <td>2</td>\n      <td>0.802982</td>\n      <td>9120.0</td>\n      <td>13</td>\n      <td>0</td>\n      <td>6</td>\n      <td>0</td>\n      <td>2.0</td>\n    </tr>\n    <tr>\n      <th>1</th>\n      <td>2</td>\n      <td>0</td>\n      <td>0.957151</td>\n      <td>40</td>\n      <td>0</td>\n      <td>0.121876</td>\n      <td>2600.0</td>\n      <td>4</td>\n      <td>0</td>\n      <td>0</td>\n      <td>0</td>\n      <td>1.0</td>\n    </tr>\n    <tr>\n      <th>2</th>\n      <td>3</td>\n      <td>0</td>\n      <td>0.658180</td>\n      <td>38</td>\n      <td>1</td>\n      <td>0.085113</td>\n      <td>3042.0</td>\n      <td>2</td>\n      <td>1</td>\n      <td>0</td>\n      <td>0</td>\n      <td>0.0</td>\n    </tr>\n    <tr>\n      <th>3</th>\n      <td>4</td>\n      <td>0</td>\n      <td>0.233810</td>\n      <td>30</td>\n      <td>0</td>\n      <td>0.036050</td>\n      <td>3300.0</td>\n      <td>5</td>\n      <td>0</td>\n      <td>0</td>\n      <td>0</td>\n      <td>0.0</td>\n    </tr>\n    <tr>\n      <th>4</th>\n      <td>5</td>\n      <td>0</td>\n      <td>0.907239</td>\n      <td>49</td>\n      <td>1</td>\n      <td>0.024926</td>\n      <td>63588.0</td>\n      <td>7</td>\n      <td>0</td>\n      <td>1</td>\n      <td>0</td>\n      <td>0.0</td>\n    </tr>\n  </tbody>\n</table>\n</div>"
     },
     "execution_count": 1,
     "metadata": {},
     "output_type": "execute_result"
    }
   ],
   "source": [
    "import pandas as pd\n",
    "df_train = pd.read_csv(\"../data/givemesomecredit/cs-training.csv\")\n",
    "df_test = pd.read_csv(\"../data/givemesomecredit/cs-test.csv\")\n",
    "df_train.head()"
   ]
  },
  {
   "metadata": {},
   "cell_type": "code",
   "outputs": [],
   "execution_count": null,
   "source": "",
   "id": "2f28150823bcdb11"
  },
  {
   "cell_type": "code",
   "source": "",
   "metadata": {
    "collapsed": false,
    "ExecuteTime": {
     "end_time": "2024-04-11T07:26:06.749197Z",
     "start_time": "2024-04-11T07:26:06.734325Z"
    }
   },
   "id": "8acf98cfa65bb1a6",
   "outputs": [
    {
     "data": {
      "text/plain": [
       "mob1          NaN\n",
       "mob2          NaN\n",
       "mob3          NaN\n",
       "mob4     0.458328\n",
       "mob5     0.253561\n",
       "mob6     0.141042\n",
       "mob7     0.116745\n",
       "mob8     0.089663\n",
       "mob9      0.06786\n",
       "mob10    0.067128\n",
       "mob11    0.044332\n",
       "mob12    0.041339\n",
       "mob13    0.032912\n",
       "mob14    0.030464\n",
       "mob15    0.024581\n",
       "mob16    0.020185\n",
       "mob17    0.014545\n",
       "mob18    0.009056\n",
       "mob19    0.010039\n",
       "mob20    0.007884\n",
       "mob21    0.003849\n",
       "mob22   -0.001174\n",
       "mob23   -0.000662\n",
       "mob24    0.002049\n",
       "dtype: object"
      ]
     },
     "execution_count": 4,
     "metadata": {},
     "output_type": "execute_result"
    }
   ],
   "execution_count": 4
  },
  {
   "metadata": {
    "ExecuteTime": {
     "end_time": "2024-05-01T01:51:29.528298Z",
     "start_time": "2024-05-01T01:51:29.514326Z"
    }
   },
   "cell_type": "code",
   "source": [
    "import pandas as pd\n",
    "from sklearn.preprocessing import OneHotEncoder\n",
    "# 数据\n",
    "data_train = pd.DataFrame({\n",
    "    'color': ['red', 'green', 'blue'],\n",
    "    'shape': ['circle', 'square', 'triangle'],\n",
    "    'age': [1,2,3]\n",
    "})\n",
    "data_test = pd.DataFrame({\n",
    "    'color': ['green', 'red', 'purple'],\n",
    "    'shape': ['triangle', 'circle', 'hexagon'],\n",
    "    'age': [4,5,6]\n",
    "}\n",
    ")\n",
    "\n",
    "# 初始化并拟合编码器\n",
    "encoder = OneHotEncoder(sparse=False, handle_unknown='ignore')\n",
    "encoder.fit(data_train)\n",
    "\n",
    "# 应用编码器到数据\n",
    "onehot_encoded_train = encoder.transform(data_train)\n",
    "onehot_encoded_test = encoder.transform(data_test)\n",
    "\n",
    "\n",
    "# 获取列名\n",
    "columns = encoder.get_feature_names_out(input_features=data_train.columns)\n",
    "\n",
    "# 转换为DataFrame并设置列名\n",
    "onehot_train_X_df = pd.DataFrame(onehot_encoded_train, columns=columns)\n",
    "\n",
    "# 打印结果\n",
    "print(onehot_train_X_df)\n",
    "\n",
    "# 输出结果\n",
    "# print(\"One-hot encoded training data:\")\n",
    "# print(onehot_encoded_train)\n",
    "# print(\"\\nOne-hot encoded test data:\")\n",
    "# print(onehot_encoded_test)"
   ],
   "id": "56cb70d12aee4bcf",
   "outputs": [
    {
     "name": "stdout",
     "output_type": "stream",
     "text": [
      "   color_blue  color_green  color_red  shape_circle  shape_square  \\\n",
      "0         0.0          0.0        1.0           1.0           0.0   \n",
      "1         0.0          1.0        0.0           0.0           1.0   \n",
      "2         1.0          0.0        0.0           0.0           0.0   \n",
      "\n",
      "   shape_triangle  age_1  age_2  age_3  \n",
      "0             0.0    1.0    0.0    0.0  \n",
      "1             0.0    0.0    1.0    0.0  \n",
      "2             1.0    0.0    0.0    1.0  \n"
     ]
    },
    {
     "name": "stderr",
     "output_type": "stream",
     "text": [
      "/Users/apple/anaconda3/lib/python3.11/site-packages/sklearn/preprocessing/_encoders.py:868: FutureWarning: `sparse` was renamed to `sparse_output` in version 1.2 and will be removed in 1.4. `sparse_output` is ignored unless you leave `sparse` to its default value.\n",
      "  warnings.warn(\n"
     ]
    }
   ],
   "execution_count": 2
  },
  {
   "metadata": {},
   "cell_type": "code",
   "outputs": [],
   "execution_count": null,
   "source": "",
   "id": "4fc5c254aaf251d4"
  }
 ],
 "metadata": {
  "kernelspec": {
   "display_name": "Python 3",
   "language": "python",
   "name": "python3"
  },
  "language_info": {
   "codemirror_mode": {
    "name": "ipython",
    "version": 2
   },
   "file_extension": ".py",
   "mimetype": "text/x-python",
   "name": "python",
   "nbconvert_exporter": "python",
   "pygments_lexer": "ipython2",
   "version": "2.7.6"
  }
 },
 "nbformat": 4,
 "nbformat_minor": 5
}
