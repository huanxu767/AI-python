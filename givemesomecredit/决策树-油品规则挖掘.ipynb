{
 "cells": [
  {
   "cell_type": "code",
   "execution_count": null,
   "metadata": {
    "pycharm": {
     "name": "#%%\n"
    }
   },
   "outputs": [],
   "source": [
    "import pandas as pd\n",
    "import numpy as np\n",
    "import os"
   ]
  },
  {
   "cell_type": "markdown",
   "source": [
    "变量类型\t最终基础变量名（还需要做上述变换）\t释义\n",
    "数值统计型\n",
    "\toil_amount\t加油升数\n",
    "\tdiscount_amount\t折扣金额\n",
    "\tsale_amount\t促销金额\n",
    "\tamount\t总金额\n",
    "\tpay_amount\t实际支付金额\n",
    "\tcoupon_amount\t优惠券金额\n",
    "\tpayment_coupon_amount\t支付优惠券金额\n",
    "\n",
    "\n",
    "分类型\n",
    "\tchannel_code\t渠道\n",
    "\toil_code\t油品品类（规格）\n",
    "\tscene\t场景\n",
    "\tsource_app\t来源端口（1货车帮、2微信）\n",
    "\tcall_source\t订单来源(1:中化扫描枪 2:pos 3:找油网 4:油掌柜5：司机自助加油 6 油站线)\n"
   ],
   "metadata": {
    "collapsed": false,
    "pycharm": {
     "name": "#%% md\n"
    }
   }
  },
  {
   "cell_type": "code",
   "execution_count": 6,
   "outputs": [
    {
     "data": {
      "text/plain": "        uid          oil_actv_dt            create_dt  total_oil_cnt  \\\n0  A8217710  2018-08-19 00:00:00  2018-08-17 00:00:00          275.0   \n1  A8217710  2018-08-19 00:00:00  2018-08-16 00:00:00          275.0   \n2  A8217710  2018-08-19 00:00:00  2018-08-15 00:00:00          275.0   \n3  A8217710  2018-08-19 00:00:00  2018-08-14 00:00:00          275.0   \n4  A8217710  2018-08-19 00:00:00  2018-08-13 00:00:00          275.0   \n\n   pay_amount_total class_new  bad_ind  oil_amount  discount_amount  \\\n0        48295495.4         B        0     3308.56        1760081.0   \n1        48295495.4         B        0     4674.68        2487045.0   \n2        48295495.4         B        0     1873.06         977845.0   \n3        48295495.4         B        0     4837.78        2526441.0   \n4        48295495.4         B        0     2586.38        1350441.0   \n\n   sale_amount     amount  pay_amount  coupon_amount  payment_coupon_amount  \\\n0    1796001.0  1731081.0   8655401.0            1.0                    1.0   \n1    2537801.0  2437845.0  12189221.0            1.0                    1.0   \n2     997801.0   961845.0   4809221.0            1.0                    1.0   \n3    2578001.0  2484441.0  12422201.0            1.0                    1.0   \n4    1378001.0  1328441.0   6642201.0            1.0                    1.0   \n\n   channel_code  oil_code  scene  source_app  call_source  \n0             1         3      2           0            3  \n1             1         3      2           0            3  \n2             1         2      2           0            3  \n3             1         2      2           0            3  \n4             1         2      2           0            3  ",
      "text/html": "<div>\n<style scoped>\n    .dataframe tbody tr th:only-of-type {\n        vertical-align: middle;\n    }\n\n    .dataframe tbody tr th {\n        vertical-align: top;\n    }\n\n    .dataframe thead th {\n        text-align: right;\n    }\n</style>\n<table border=\"1\" class=\"dataframe\">\n  <thead>\n    <tr style=\"text-align: right;\">\n      <th></th>\n      <th>uid</th>\n      <th>oil_actv_dt</th>\n      <th>create_dt</th>\n      <th>total_oil_cnt</th>\n      <th>pay_amount_total</th>\n      <th>class_new</th>\n      <th>bad_ind</th>\n      <th>oil_amount</th>\n      <th>discount_amount</th>\n      <th>sale_amount</th>\n      <th>amount</th>\n      <th>pay_amount</th>\n      <th>coupon_amount</th>\n      <th>payment_coupon_amount</th>\n      <th>channel_code</th>\n      <th>oil_code</th>\n      <th>scene</th>\n      <th>source_app</th>\n      <th>call_source</th>\n    </tr>\n  </thead>\n  <tbody>\n    <tr>\n      <th>0</th>\n      <td>A8217710</td>\n      <td>2018-08-19 00:00:00</td>\n      <td>2018-08-17 00:00:00</td>\n      <td>275.0</td>\n      <td>48295495.4</td>\n      <td>B</td>\n      <td>0</td>\n      <td>3308.56</td>\n      <td>1760081.0</td>\n      <td>1796001.0</td>\n      <td>1731081.0</td>\n      <td>8655401.0</td>\n      <td>1.0</td>\n      <td>1.0</td>\n      <td>1</td>\n      <td>3</td>\n      <td>2</td>\n      <td>0</td>\n      <td>3</td>\n    </tr>\n    <tr>\n      <th>1</th>\n      <td>A8217710</td>\n      <td>2018-08-19 00:00:00</td>\n      <td>2018-08-16 00:00:00</td>\n      <td>275.0</td>\n      <td>48295495.4</td>\n      <td>B</td>\n      <td>0</td>\n      <td>4674.68</td>\n      <td>2487045.0</td>\n      <td>2537801.0</td>\n      <td>2437845.0</td>\n      <td>12189221.0</td>\n      <td>1.0</td>\n      <td>1.0</td>\n      <td>1</td>\n      <td>3</td>\n      <td>2</td>\n      <td>0</td>\n      <td>3</td>\n    </tr>\n    <tr>\n      <th>2</th>\n      <td>A8217710</td>\n      <td>2018-08-19 00:00:00</td>\n      <td>2018-08-15 00:00:00</td>\n      <td>275.0</td>\n      <td>48295495.4</td>\n      <td>B</td>\n      <td>0</td>\n      <td>1873.06</td>\n      <td>977845.0</td>\n      <td>997801.0</td>\n      <td>961845.0</td>\n      <td>4809221.0</td>\n      <td>1.0</td>\n      <td>1.0</td>\n      <td>1</td>\n      <td>2</td>\n      <td>2</td>\n      <td>0</td>\n      <td>3</td>\n    </tr>\n    <tr>\n      <th>3</th>\n      <td>A8217710</td>\n      <td>2018-08-19 00:00:00</td>\n      <td>2018-08-14 00:00:00</td>\n      <td>275.0</td>\n      <td>48295495.4</td>\n      <td>B</td>\n      <td>0</td>\n      <td>4837.78</td>\n      <td>2526441.0</td>\n      <td>2578001.0</td>\n      <td>2484441.0</td>\n      <td>12422201.0</td>\n      <td>1.0</td>\n      <td>1.0</td>\n      <td>1</td>\n      <td>2</td>\n      <td>2</td>\n      <td>0</td>\n      <td>3</td>\n    </tr>\n    <tr>\n      <th>4</th>\n      <td>A8217710</td>\n      <td>2018-08-19 00:00:00</td>\n      <td>2018-08-13 00:00:00</td>\n      <td>275.0</td>\n      <td>48295495.4</td>\n      <td>B</td>\n      <td>0</td>\n      <td>2586.38</td>\n      <td>1350441.0</td>\n      <td>1378001.0</td>\n      <td>1328441.0</td>\n      <td>6642201.0</td>\n      <td>1.0</td>\n      <td>1.0</td>\n      <td>1</td>\n      <td>2</td>\n      <td>2</td>\n      <td>0</td>\n      <td>3</td>\n    </tr>\n  </tbody>\n</table>\n</div>"
     },
     "execution_count": 6,
     "metadata": {},
     "output_type": "execute_result"
    }
   ],
   "source": [
    "data = pd.read_csv('../data/7月第二课/oil_data_for_tree.csv')\n",
    "data.head()"
   ],
   "metadata": {
    "collapsed": false,
    "pycharm": {
     "name": "#%%\n"
    }
   }
  },
  {
   "cell_type": "code",
   "execution_count": 7,
   "outputs": [
    {
     "data": {
      "text/plain": "       total_oil_cnt  pay_amount_total       bad_ind    oil_amount  \\\ncount   46426.000000      4.642600e+04  50609.000000  45665.000000   \nmean       47.010899      1.060658e+06      0.017764    425.376107   \nstd        54.441589      2.942513e+06      0.132093    400.596244   \nmin         1.000000      1.000000e+00      0.000000      1.000000   \n25%        15.000000      2.093987e+05      0.000000    175.440000   \n50%        31.000000      5.136578e+05      0.000000    336.160000   \n75%        59.000000      1.110628e+06      0.000000    557.600000   \nmax       487.000000      4.829550e+07      1.000000   7952.820000   \n\n       discount_amount   sale_amount        amount    pay_amount  \\\ncount     4.566500e+04  4.566500e+04  4.566500e+04  4.566500e+04   \nmean      1.832017e+05  1.881283e+05  1.808673e+05  9.043344e+05   \nstd       2.007574e+05  2.048742e+05  1.977035e+05  9.885168e+05   \nmin       0.000000e+00  0.000000e+00  1.000000e+00  5.000000e+00   \n25%       6.039100e+04  6.200100e+04  5.976100e+04  2.988010e+05   \n50%       1.229310e+05  1.279240e+05  1.209610e+05  6.048010e+05   \n75%       2.399050e+05  2.454010e+05  2.360790e+05  1.180391e+06   \nmax       3.916081e+06  3.996001e+06  3.851081e+06  1.925540e+07   \n\n       coupon_amount  payment_coupon_amount  channel_code      oil_code  \\\ncount   45665.000000           45663.000000  50609.000000  50609.000000   \nmean        0.576853             149.395397      1.476378      1.617894   \nstd         0.494064             605.138823      1.511470      3.074166   \nmin         0.000000               0.000000      0.000000      0.000000   \n25%         0.000000               1.000000      1.000000      0.000000   \n50%         1.000000               1.000000      1.000000      0.000000   \n75%         1.000000             100.000000      1.000000      0.000000   \nmax         1.000000           50000.000000      6.000000      9.000000   \n\n              scene    source_app   call_source  \ncount  50609.000000  50609.000000  50609.000000  \nmean       1.906519      0.306072      2.900729  \nstd        0.367280      0.893682      0.726231  \nmin        0.000000      0.000000      0.000000  \n25%        2.000000      0.000000      3.000000  \n50%        2.000000      0.000000      3.000000  \n75%        2.000000      0.000000      3.000000  \nmax        2.000000      3.000000      4.000000  ",
      "text/html": "<div>\n<style scoped>\n    .dataframe tbody tr th:only-of-type {\n        vertical-align: middle;\n    }\n\n    .dataframe tbody tr th {\n        vertical-align: top;\n    }\n\n    .dataframe thead th {\n        text-align: right;\n    }\n</style>\n<table border=\"1\" class=\"dataframe\">\n  <thead>\n    <tr style=\"text-align: right;\">\n      <th></th>\n      <th>total_oil_cnt</th>\n      <th>pay_amount_total</th>\n      <th>bad_ind</th>\n      <th>oil_amount</th>\n      <th>discount_amount</th>\n      <th>sale_amount</th>\n      <th>amount</th>\n      <th>pay_amount</th>\n      <th>coupon_amount</th>\n      <th>payment_coupon_amount</th>\n      <th>channel_code</th>\n      <th>oil_code</th>\n      <th>scene</th>\n      <th>source_app</th>\n      <th>call_source</th>\n    </tr>\n  </thead>\n  <tbody>\n    <tr>\n      <th>count</th>\n      <td>46426.000000</td>\n      <td>4.642600e+04</td>\n      <td>50609.000000</td>\n      <td>45665.000000</td>\n      <td>4.566500e+04</td>\n      <td>4.566500e+04</td>\n      <td>4.566500e+04</td>\n      <td>4.566500e+04</td>\n      <td>45665.000000</td>\n      <td>45663.000000</td>\n      <td>50609.000000</td>\n      <td>50609.000000</td>\n      <td>50609.000000</td>\n      <td>50609.000000</td>\n      <td>50609.000000</td>\n    </tr>\n    <tr>\n      <th>mean</th>\n      <td>47.010899</td>\n      <td>1.060658e+06</td>\n      <td>0.017764</td>\n      <td>425.376107</td>\n      <td>1.832017e+05</td>\n      <td>1.881283e+05</td>\n      <td>1.808673e+05</td>\n      <td>9.043344e+05</td>\n      <td>0.576853</td>\n      <td>149.395397</td>\n      <td>1.476378</td>\n      <td>1.617894</td>\n      <td>1.906519</td>\n      <td>0.306072</td>\n      <td>2.900729</td>\n    </tr>\n    <tr>\n      <th>std</th>\n      <td>54.441589</td>\n      <td>2.942513e+06</td>\n      <td>0.132093</td>\n      <td>400.596244</td>\n      <td>2.007574e+05</td>\n      <td>2.048742e+05</td>\n      <td>1.977035e+05</td>\n      <td>9.885168e+05</td>\n      <td>0.494064</td>\n      <td>605.138823</td>\n      <td>1.511470</td>\n      <td>3.074166</td>\n      <td>0.367280</td>\n      <td>0.893682</td>\n      <td>0.726231</td>\n    </tr>\n    <tr>\n      <th>min</th>\n      <td>1.000000</td>\n      <td>1.000000e+00</td>\n      <td>0.000000</td>\n      <td>1.000000</td>\n      <td>0.000000e+00</td>\n      <td>0.000000e+00</td>\n      <td>1.000000e+00</td>\n      <td>5.000000e+00</td>\n      <td>0.000000</td>\n      <td>0.000000</td>\n      <td>0.000000</td>\n      <td>0.000000</td>\n      <td>0.000000</td>\n      <td>0.000000</td>\n      <td>0.000000</td>\n    </tr>\n    <tr>\n      <th>25%</th>\n      <td>15.000000</td>\n      <td>2.093987e+05</td>\n      <td>0.000000</td>\n      <td>175.440000</td>\n      <td>6.039100e+04</td>\n      <td>6.200100e+04</td>\n      <td>5.976100e+04</td>\n      <td>2.988010e+05</td>\n      <td>0.000000</td>\n      <td>1.000000</td>\n      <td>1.000000</td>\n      <td>0.000000</td>\n      <td>2.000000</td>\n      <td>0.000000</td>\n      <td>3.000000</td>\n    </tr>\n    <tr>\n      <th>50%</th>\n      <td>31.000000</td>\n      <td>5.136578e+05</td>\n      <td>0.000000</td>\n      <td>336.160000</td>\n      <td>1.229310e+05</td>\n      <td>1.279240e+05</td>\n      <td>1.209610e+05</td>\n      <td>6.048010e+05</td>\n      <td>1.000000</td>\n      <td>1.000000</td>\n      <td>1.000000</td>\n      <td>0.000000</td>\n      <td>2.000000</td>\n      <td>0.000000</td>\n      <td>3.000000</td>\n    </tr>\n    <tr>\n      <th>75%</th>\n      <td>59.000000</td>\n      <td>1.110628e+06</td>\n      <td>0.000000</td>\n      <td>557.600000</td>\n      <td>2.399050e+05</td>\n      <td>2.454010e+05</td>\n      <td>2.360790e+05</td>\n      <td>1.180391e+06</td>\n      <td>1.000000</td>\n      <td>100.000000</td>\n      <td>1.000000</td>\n      <td>0.000000</td>\n      <td>2.000000</td>\n      <td>0.000000</td>\n      <td>3.000000</td>\n    </tr>\n    <tr>\n      <th>max</th>\n      <td>487.000000</td>\n      <td>4.829550e+07</td>\n      <td>1.000000</td>\n      <td>7952.820000</td>\n      <td>3.916081e+06</td>\n      <td>3.996001e+06</td>\n      <td>3.851081e+06</td>\n      <td>1.925540e+07</td>\n      <td>1.000000</td>\n      <td>50000.000000</td>\n      <td>6.000000</td>\n      <td>9.000000</td>\n      <td>2.000000</td>\n      <td>3.000000</td>\n      <td>4.000000</td>\n    </tr>\n  </tbody>\n</table>\n</div>"
     },
     "execution_count": 7,
     "metadata": {},
     "output_type": "execute_result"
    }
   ],
   "source": [
    "data.describe()"
   ],
   "metadata": {
    "collapsed": false,
    "pycharm": {
     "name": "#%%\n"
    }
   }
  },
  {
   "cell_type": "code",
   "execution_count": 9,
   "outputs": [
    {
     "data": {
      "text/plain": "A     9767\nB    24765\nC     7679\nD     5288\nE     1944\nF     1166\nName: class_new, dtype: int64"
     },
     "execution_count": 9,
     "metadata": {},
     "output_type": "execute_result"
    }
   ],
   "source": [
    "data['class_new'].value_counts().sort_index()"
   ],
   "metadata": {
    "collapsed": false,
    "pycharm": {
     "name": "#%%\n"
    }
   }
  },
  {
   "cell_type": "code",
   "execution_count": 11,
   "outputs": [
    {
     "data": {
      "text/plain": "uid                         0\noil_actv_dt                 0\ncreate_dt                4944\ntotal_oil_cnt            4183\npay_amount_total         4183\nclass_new                   0\nbad_ind                     0\noil_amount               4944\ndiscount_amount          4944\nsale_amount              4944\namount                   4944\npay_amount               4944\ncoupon_amount            4944\npayment_coupon_amount    4946\nchannel_code                0\noil_code                    0\nscene                       0\nsource_app                  0\ncall_source                 0\ndtype: int64"
     },
     "execution_count": 11,
     "metadata": {},
     "output_type": "execute_result"
    }
   ],
   "source": [
    "data.isna().sum()"
   ],
   "metadata": {
    "collapsed": false,
    "pycharm": {
     "name": "#%%\n"
    }
   }
  },
  {
   "cell_type": "markdown",
   "source": [
    "对creat_dt做补全，用oil_actv_dt来填补，并且截取6个月的数据。\n",
    "构造变量的时候不能直接对历史所有数据做累加。\n",
    "否则随着时间推移，变量分布会有很大的变化。"
   ],
   "metadata": {
    "collapsed": false,
    "pycharm": {
     "name": "#%% md\n"
    }
   }
  },
  {
   "cell_type": "code",
   "execution_count": 23,
   "outputs": [
    {
     "ename": "TypeError",
     "evalue": "unsupported operand type(s) for -: 'str' and 'str'",
     "output_type": "error",
     "traceback": [
      "\u001B[0;31m---------------------------------------------------------------------------\u001B[0m",
      "\u001B[0;31mTypeError\u001B[0m                                 Traceback (most recent call last)",
      "\u001B[0;32m~/opt/anaconda3/envs/Ai-python/lib/python3.6/site-packages/pandas/core/ops/array_ops.py\u001B[0m in \u001B[0;36mna_arithmetic_op\u001B[0;34m(left, right, op, is_cmp)\u001B[0m\n\u001B[1;32m    142\u001B[0m     \u001B[0;32mtry\u001B[0m\u001B[0;34m:\u001B[0m\u001B[0;34m\u001B[0m\u001B[0;34m\u001B[0m\u001B[0m\n\u001B[0;32m--> 143\u001B[0;31m         \u001B[0mresult\u001B[0m \u001B[0;34m=\u001B[0m \u001B[0mexpressions\u001B[0m\u001B[0;34m.\u001B[0m\u001B[0mevaluate\u001B[0m\u001B[0;34m(\u001B[0m\u001B[0mop\u001B[0m\u001B[0;34m,\u001B[0m \u001B[0mleft\u001B[0m\u001B[0;34m,\u001B[0m \u001B[0mright\u001B[0m\u001B[0;34m)\u001B[0m\u001B[0;34m\u001B[0m\u001B[0;34m\u001B[0m\u001B[0m\n\u001B[0m\u001B[1;32m    144\u001B[0m     \u001B[0;32mexcept\u001B[0m \u001B[0mTypeError\u001B[0m\u001B[0;34m:\u001B[0m\u001B[0;34m\u001B[0m\u001B[0;34m\u001B[0m\u001B[0m\n",
      "\u001B[0;32m~/opt/anaconda3/envs/Ai-python/lib/python3.6/site-packages/pandas/core/computation/expressions.py\u001B[0m in \u001B[0;36mevaluate\u001B[0;34m(op, a, b, use_numexpr)\u001B[0m\n\u001B[1;32m    232\u001B[0m         \u001B[0;32mif\u001B[0m \u001B[0muse_numexpr\u001B[0m\u001B[0;34m:\u001B[0m\u001B[0;34m\u001B[0m\u001B[0;34m\u001B[0m\u001B[0m\n\u001B[0;32m--> 233\u001B[0;31m             \u001B[0;32mreturn\u001B[0m \u001B[0m_evaluate\u001B[0m\u001B[0;34m(\u001B[0m\u001B[0mop\u001B[0m\u001B[0;34m,\u001B[0m \u001B[0mop_str\u001B[0m\u001B[0;34m,\u001B[0m \u001B[0ma\u001B[0m\u001B[0;34m,\u001B[0m \u001B[0mb\u001B[0m\u001B[0;34m)\u001B[0m  \u001B[0;31m# type: ignore\u001B[0m\u001B[0;34m\u001B[0m\u001B[0;34m\u001B[0m\u001B[0m\n\u001B[0m\u001B[1;32m    234\u001B[0m     \u001B[0;32mreturn\u001B[0m \u001B[0m_evaluate_standard\u001B[0m\u001B[0;34m(\u001B[0m\u001B[0mop\u001B[0m\u001B[0;34m,\u001B[0m \u001B[0mop_str\u001B[0m\u001B[0;34m,\u001B[0m \u001B[0ma\u001B[0m\u001B[0;34m,\u001B[0m \u001B[0mb\u001B[0m\u001B[0;34m)\u001B[0m\u001B[0;34m\u001B[0m\u001B[0;34m\u001B[0m\u001B[0m\n",
      "\u001B[0;32m~/opt/anaconda3/envs/Ai-python/lib/python3.6/site-packages/pandas/core/computation/expressions.py\u001B[0m in \u001B[0;36m_evaluate_standard\u001B[0;34m(op, op_str, a, b)\u001B[0m\n\u001B[1;32m     67\u001B[0m     \u001B[0;32mwith\u001B[0m \u001B[0mnp\u001B[0m\u001B[0;34m.\u001B[0m\u001B[0merrstate\u001B[0m\u001B[0;34m(\u001B[0m\u001B[0mall\u001B[0m\u001B[0;34m=\u001B[0m\u001B[0;34m\"ignore\"\u001B[0m\u001B[0;34m)\u001B[0m\u001B[0;34m:\u001B[0m\u001B[0;34m\u001B[0m\u001B[0;34m\u001B[0m\u001B[0m\n\u001B[0;32m---> 68\u001B[0;31m         \u001B[0;32mreturn\u001B[0m \u001B[0mop\u001B[0m\u001B[0;34m(\u001B[0m\u001B[0ma\u001B[0m\u001B[0;34m,\u001B[0m \u001B[0mb\u001B[0m\u001B[0;34m)\u001B[0m\u001B[0;34m\u001B[0m\u001B[0;34m\u001B[0m\u001B[0m\n\u001B[0m\u001B[1;32m     69\u001B[0m \u001B[0;34m\u001B[0m\u001B[0m\n",
      "\u001B[0;31mTypeError\u001B[0m: unsupported operand type(s) for -: 'str' and 'float'",
      "\nDuring handling of the above exception, another exception occurred:\n",
      "\u001B[0;31mTypeError\u001B[0m                                 Traceback (most recent call last)",
      "\u001B[0;32m<ipython-input-23-2a39f9bf18ce>\u001B[0m in \u001B[0;36m<module>\u001B[0;34m\u001B[0m\n\u001B[1;32m     15\u001B[0m \u001B[0mdf2\u001B[0m \u001B[0;34m=\u001B[0m \u001B[0mdf\u001B[0m\u001B[0;34m.\u001B[0m\u001B[0msort_values\u001B[0m\u001B[0;34m(\u001B[0m\u001B[0;34m[\u001B[0m\u001B[0;34m'uid'\u001B[0m\u001B[0;34m,\u001B[0m\u001B[0;34m'create_dt'\u001B[0m\u001B[0;34m]\u001B[0m\u001B[0;34m,\u001B[0m\u001B[0mascending\u001B[0m \u001B[0;34m=\u001B[0m \u001B[0;32mFalse\u001B[0m\u001B[0;34m)\u001B[0m\u001B[0;34m\u001B[0m\u001B[0;34m\u001B[0m\u001B[0m\n\u001B[1;32m     16\u001B[0m \u001B[0mdf2\u001B[0m\u001B[0;34m[\u001B[0m\u001B[0;34m'create_dt'\u001B[0m\u001B[0;34m]\u001B[0m \u001B[0;34m=\u001B[0m \u001B[0mdf2\u001B[0m\u001B[0;34m.\u001B[0m\u001B[0mapply\u001B[0m\u001B[0;34m(\u001B[0m\u001B[0;32mlambda\u001B[0m \u001B[0mx\u001B[0m\u001B[0;34m:\u001B[0m \u001B[0mtime_isna\u001B[0m\u001B[0;34m(\u001B[0m\u001B[0mx\u001B[0m\u001B[0;34m.\u001B[0m\u001B[0mcreate_dt\u001B[0m\u001B[0;34m,\u001B[0m\u001B[0mx\u001B[0m\u001B[0;34m.\u001B[0m\u001B[0moil_actv_dt\u001B[0m\u001B[0;34m)\u001B[0m\u001B[0;34m,\u001B[0m\u001B[0maxis\u001B[0m \u001B[0;34m=\u001B[0m \u001B[0;36m1\u001B[0m\u001B[0;34m)\u001B[0m\u001B[0;34m\u001B[0m\u001B[0;34m\u001B[0m\u001B[0m\n\u001B[0;32m---> 17\u001B[0;31m \u001B[0mdf2\u001B[0m\u001B[0;34m[\u001B[0m\u001B[0;34m'dtn'\u001B[0m\u001B[0;34m]\u001B[0m \u001B[0;34m=\u001B[0m \u001B[0;34m(\u001B[0m\u001B[0mdf2\u001B[0m\u001B[0;34m.\u001B[0m\u001B[0moil_actv_dt\u001B[0m \u001B[0;34m-\u001B[0m \u001B[0mdf2\u001B[0m\u001B[0;34m.\u001B[0m\u001B[0mcreate_dt\u001B[0m\u001B[0;34m)\u001B[0m\u001B[0;34m.\u001B[0m\u001B[0mapply\u001B[0m\u001B[0;34m(\u001B[0m\u001B[0;32mlambda\u001B[0m \u001B[0mx\u001B[0m \u001B[0;34m:\u001B[0m\u001B[0mx\u001B[0m\u001B[0;34m.\u001B[0m\u001B[0mdays\u001B[0m\u001B[0;34m)\u001B[0m\u001B[0;34m\u001B[0m\u001B[0;34m\u001B[0m\u001B[0m\n\u001B[0m\u001B[1;32m     18\u001B[0m \u001B[0;31m# df = df2[df2['dtn']<180]\u001B[0m\u001B[0;34m\u001B[0m\u001B[0;34m\u001B[0m\u001B[0;34m\u001B[0m\u001B[0m\n\u001B[1;32m     19\u001B[0m \u001B[0;31m# df.head()\u001B[0m\u001B[0;34m\u001B[0m\u001B[0;34m\u001B[0m\u001B[0;34m\u001B[0m\u001B[0m\n",
      "\u001B[0;32m~/opt/anaconda3/envs/Ai-python/lib/python3.6/site-packages/pandas/core/ops/common.py\u001B[0m in \u001B[0;36mnew_method\u001B[0;34m(self, other)\u001B[0m\n\u001B[1;32m     63\u001B[0m         \u001B[0mother\u001B[0m \u001B[0;34m=\u001B[0m \u001B[0mitem_from_zerodim\u001B[0m\u001B[0;34m(\u001B[0m\u001B[0mother\u001B[0m\u001B[0;34m)\u001B[0m\u001B[0;34m\u001B[0m\u001B[0;34m\u001B[0m\u001B[0m\n\u001B[1;32m     64\u001B[0m \u001B[0;34m\u001B[0m\u001B[0m\n\u001B[0;32m---> 65\u001B[0;31m         \u001B[0;32mreturn\u001B[0m \u001B[0mmethod\u001B[0m\u001B[0;34m(\u001B[0m\u001B[0mself\u001B[0m\u001B[0;34m,\u001B[0m \u001B[0mother\u001B[0m\u001B[0;34m)\u001B[0m\u001B[0;34m\u001B[0m\u001B[0;34m\u001B[0m\u001B[0m\n\u001B[0m\u001B[1;32m     66\u001B[0m \u001B[0;34m\u001B[0m\u001B[0m\n\u001B[1;32m     67\u001B[0m     \u001B[0;32mreturn\u001B[0m \u001B[0mnew_method\u001B[0m\u001B[0;34m\u001B[0m\u001B[0;34m\u001B[0m\u001B[0m\n",
      "\u001B[0;32m~/opt/anaconda3/envs/Ai-python/lib/python3.6/site-packages/pandas/core/ops/__init__.py\u001B[0m in \u001B[0;36mwrapper\u001B[0;34m(left, right)\u001B[0m\n\u001B[1;32m    341\u001B[0m         \u001B[0mlvalues\u001B[0m \u001B[0;34m=\u001B[0m \u001B[0mextract_array\u001B[0m\u001B[0;34m(\u001B[0m\u001B[0mleft\u001B[0m\u001B[0;34m,\u001B[0m \u001B[0mextract_numpy\u001B[0m\u001B[0;34m=\u001B[0m\u001B[0;32mTrue\u001B[0m\u001B[0;34m)\u001B[0m\u001B[0;34m\u001B[0m\u001B[0;34m\u001B[0m\u001B[0m\n\u001B[1;32m    342\u001B[0m         \u001B[0mrvalues\u001B[0m \u001B[0;34m=\u001B[0m \u001B[0mextract_array\u001B[0m\u001B[0;34m(\u001B[0m\u001B[0mright\u001B[0m\u001B[0;34m,\u001B[0m \u001B[0mextract_numpy\u001B[0m\u001B[0;34m=\u001B[0m\u001B[0;32mTrue\u001B[0m\u001B[0;34m)\u001B[0m\u001B[0;34m\u001B[0m\u001B[0;34m\u001B[0m\u001B[0m\n\u001B[0;32m--> 343\u001B[0;31m         \u001B[0mresult\u001B[0m \u001B[0;34m=\u001B[0m \u001B[0marithmetic_op\u001B[0m\u001B[0;34m(\u001B[0m\u001B[0mlvalues\u001B[0m\u001B[0;34m,\u001B[0m \u001B[0mrvalues\u001B[0m\u001B[0;34m,\u001B[0m \u001B[0mop\u001B[0m\u001B[0;34m)\u001B[0m\u001B[0;34m\u001B[0m\u001B[0;34m\u001B[0m\u001B[0m\n\u001B[0m\u001B[1;32m    344\u001B[0m \u001B[0;34m\u001B[0m\u001B[0m\n\u001B[1;32m    345\u001B[0m         \u001B[0;32mreturn\u001B[0m \u001B[0mleft\u001B[0m\u001B[0;34m.\u001B[0m\u001B[0m_construct_result\u001B[0m\u001B[0;34m(\u001B[0m\u001B[0mresult\u001B[0m\u001B[0;34m,\u001B[0m \u001B[0mname\u001B[0m\u001B[0;34m=\u001B[0m\u001B[0mres_name\u001B[0m\u001B[0;34m)\u001B[0m\u001B[0;34m\u001B[0m\u001B[0;34m\u001B[0m\u001B[0m\n",
      "\u001B[0;32m~/opt/anaconda3/envs/Ai-python/lib/python3.6/site-packages/pandas/core/ops/array_ops.py\u001B[0m in \u001B[0;36marithmetic_op\u001B[0;34m(left, right, op)\u001B[0m\n\u001B[1;32m    188\u001B[0m     \u001B[0;32melse\u001B[0m\u001B[0;34m:\u001B[0m\u001B[0;34m\u001B[0m\u001B[0;34m\u001B[0m\u001B[0m\n\u001B[1;32m    189\u001B[0m         \u001B[0;32mwith\u001B[0m \u001B[0mnp\u001B[0m\u001B[0;34m.\u001B[0m\u001B[0merrstate\u001B[0m\u001B[0;34m(\u001B[0m\u001B[0mall\u001B[0m\u001B[0;34m=\u001B[0m\u001B[0;34m\"ignore\"\u001B[0m\u001B[0;34m)\u001B[0m\u001B[0;34m:\u001B[0m\u001B[0;34m\u001B[0m\u001B[0;34m\u001B[0m\u001B[0m\n\u001B[0;32m--> 190\u001B[0;31m             \u001B[0mres_values\u001B[0m \u001B[0;34m=\u001B[0m \u001B[0mna_arithmetic_op\u001B[0m\u001B[0;34m(\u001B[0m\u001B[0mlvalues\u001B[0m\u001B[0;34m,\u001B[0m \u001B[0mrvalues\u001B[0m\u001B[0;34m,\u001B[0m \u001B[0mop\u001B[0m\u001B[0;34m)\u001B[0m\u001B[0;34m\u001B[0m\u001B[0;34m\u001B[0m\u001B[0m\n\u001B[0m\u001B[1;32m    191\u001B[0m \u001B[0;34m\u001B[0m\u001B[0m\n\u001B[1;32m    192\u001B[0m     \u001B[0;32mreturn\u001B[0m \u001B[0mres_values\u001B[0m\u001B[0;34m\u001B[0m\u001B[0;34m\u001B[0m\u001B[0m\n",
      "\u001B[0;32m~/opt/anaconda3/envs/Ai-python/lib/python3.6/site-packages/pandas/core/ops/array_ops.py\u001B[0m in \u001B[0;36mna_arithmetic_op\u001B[0;34m(left, right, op, is_cmp)\u001B[0m\n\u001B[1;32m    148\u001B[0m             \u001B[0;31m#  will handle complex numbers incorrectly, see GH#32047\u001B[0m\u001B[0;34m\u001B[0m\u001B[0;34m\u001B[0m\u001B[0;34m\u001B[0m\u001B[0m\n\u001B[1;32m    149\u001B[0m             \u001B[0;32mraise\u001B[0m\u001B[0;34m\u001B[0m\u001B[0;34m\u001B[0m\u001B[0m\n\u001B[0;32m--> 150\u001B[0;31m         \u001B[0mresult\u001B[0m \u001B[0;34m=\u001B[0m \u001B[0mmasked_arith_op\u001B[0m\u001B[0;34m(\u001B[0m\u001B[0mleft\u001B[0m\u001B[0;34m,\u001B[0m \u001B[0mright\u001B[0m\u001B[0;34m,\u001B[0m \u001B[0mop\u001B[0m\u001B[0;34m)\u001B[0m\u001B[0;34m\u001B[0m\u001B[0;34m\u001B[0m\u001B[0m\n\u001B[0m\u001B[1;32m    151\u001B[0m \u001B[0;34m\u001B[0m\u001B[0m\n\u001B[1;32m    152\u001B[0m     \u001B[0;32mif\u001B[0m \u001B[0mis_cmp\u001B[0m \u001B[0;32mand\u001B[0m \u001B[0;34m(\u001B[0m\u001B[0mis_scalar\u001B[0m\u001B[0;34m(\u001B[0m\u001B[0mresult\u001B[0m\u001B[0;34m)\u001B[0m \u001B[0;32mor\u001B[0m \u001B[0mresult\u001B[0m \u001B[0;32mis\u001B[0m \u001B[0mNotImplemented\u001B[0m\u001B[0;34m)\u001B[0m\u001B[0;34m:\u001B[0m\u001B[0;34m\u001B[0m\u001B[0;34m\u001B[0m\u001B[0m\n",
      "\u001B[0;32m~/opt/anaconda3/envs/Ai-python/lib/python3.6/site-packages/pandas/core/ops/array_ops.py\u001B[0m in \u001B[0;36mmasked_arith_op\u001B[0;34m(x, y, op)\u001B[0m\n\u001B[1;32m     90\u001B[0m         \u001B[0;32mif\u001B[0m \u001B[0mmask\u001B[0m\u001B[0;34m.\u001B[0m\u001B[0many\u001B[0m\u001B[0;34m(\u001B[0m\u001B[0;34m)\u001B[0m\u001B[0;34m:\u001B[0m\u001B[0;34m\u001B[0m\u001B[0;34m\u001B[0m\u001B[0m\n\u001B[1;32m     91\u001B[0m             \u001B[0;32mwith\u001B[0m \u001B[0mnp\u001B[0m\u001B[0;34m.\u001B[0m\u001B[0merrstate\u001B[0m\u001B[0;34m(\u001B[0m\u001B[0mall\u001B[0m\u001B[0;34m=\u001B[0m\u001B[0;34m\"ignore\"\u001B[0m\u001B[0;34m)\u001B[0m\u001B[0;34m:\u001B[0m\u001B[0;34m\u001B[0m\u001B[0;34m\u001B[0m\u001B[0m\n\u001B[0;32m---> 92\u001B[0;31m                 \u001B[0mresult\u001B[0m\u001B[0;34m[\u001B[0m\u001B[0mmask\u001B[0m\u001B[0;34m]\u001B[0m \u001B[0;34m=\u001B[0m \u001B[0mop\u001B[0m\u001B[0;34m(\u001B[0m\u001B[0mxrav\u001B[0m\u001B[0;34m[\u001B[0m\u001B[0mmask\u001B[0m\u001B[0;34m]\u001B[0m\u001B[0;34m,\u001B[0m \u001B[0myrav\u001B[0m\u001B[0;34m[\u001B[0m\u001B[0mmask\u001B[0m\u001B[0;34m]\u001B[0m\u001B[0;34m)\u001B[0m\u001B[0;34m\u001B[0m\u001B[0;34m\u001B[0m\u001B[0m\n\u001B[0m\u001B[1;32m     93\u001B[0m \u001B[0;34m\u001B[0m\u001B[0m\n\u001B[1;32m     94\u001B[0m     \u001B[0;32melse\u001B[0m\u001B[0;34m:\u001B[0m\u001B[0;34m\u001B[0m\u001B[0;34m\u001B[0m\u001B[0m\n",
      "\u001B[0;31mTypeError\u001B[0m: unsupported operand type(s) for -: 'str' and 'str'"
     ]
    }
   ],
   "source": [
    "org_lst = ['uid','create_dt','oil_actv_dt','class_new','bad_ind']\n",
    "agg_lst = ['oil_amount','discount_amount','sale_amount','amount','pay_amount','coupon_amount','payment_coupon_amount']\n",
    "dstc_lst = ['channel_code','oil_code','scene','source_app','call_source']\n",
    "\n",
    "df = data[org_lst].copy()\n",
    "df[agg_lst] = data[agg_lst].copy()\n",
    "df[dstc_lst] = data[dstc_lst].copy()\n",
    "\n",
    "def time_isna(x,y):\n",
    "    if str(x) == 'NaT':\n",
    "        x = y\n",
    "    else:\n",
    "        x = x\n",
    "    return x\n",
    "df2 = df.sort_values(['uid','create_dt'],ascending = False)\n",
    "df2['create_dt'] = df2.apply(lambda x: time_isna(x.create_dt,x.oil_actv_dt),axis = 1)\n",
    "df2['dtn'] = (df2.oil_actv_dt - df2.create_dt).apply(lambda x :x.days)\n",
    "# df = df2[df2['dtn']<180]\n",
    "# df.head()"
   ],
   "metadata": {
    "collapsed": false,
    "pycharm": {
     "name": "#%%\n"
    }
   }
  },
  {
   "cell_type": "code",
   "execution_count": null,
   "outputs": [],
   "source": [],
   "metadata": {
    "collapsed": false,
    "pycharm": {
     "name": "#%%\n"
    }
   }
  }
 ],
 "metadata": {
  "kernelspec": {
   "display_name": "Python 3 (ipykernel)",
   "language": "python",
   "name": "python3"
  },
  "language_info": {
   "codemirror_mode": {
    "name": "ipython",
    "version": 3
   },
   "file_extension": ".py",
   "mimetype": "text/x-python",
   "name": "python",
   "nbconvert_exporter": "python",
   "pygments_lexer": "ipython3",
   "version": "3.7.11"
  }
 },
 "nbformat": 4,
 "nbformat_minor": 4
}