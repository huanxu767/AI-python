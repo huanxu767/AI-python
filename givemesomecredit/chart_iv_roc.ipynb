{
 "cells": [
  {
   "metadata": {
    "ExecuteTime": {
     "end_time": "2024-04-28T05:48:43.636220Z",
     "start_time": "2024-04-28T05:48:41.364243Z"
    }
   },
   "cell_type": "code",
   "source": [
    "import pandas as pd\n",
    "import numpy as np\n",
    "import toad\n"
   ],
   "id": "dbef2822f43216c9",
   "outputs": [],
   "execution_count": 1
  },
  {
   "metadata": {
    "ExecuteTime": {
     "end_time": "2024-04-26T09:38:56.859201Z",
     "start_time": "2024-04-26T09:38:56.848756Z"
    }
   },
   "cell_type": "code",
   "source": [
    "\n",
    "def split_target(frame, target):\n",
    "    \"\"\"\n",
    "    \"\"\"\n",
    "    if isinstance(target, str):\n",
    "        cols = frame.columns.copy().drop(target)\n",
    "        f = frame[cols]\n",
    "        t = frame[target]\n",
    "    else:\n",
    "        f = frame.copy(deep = False)\n",
    "        t = target\n",
    "\n",
    "    return f, t\n",
    "# 示例 DataFrame\n",
    "data = pd.DataFrame({\n",
    "    'feature1': [1, 2, 3],\n",
    "    'feature2': [4, 5, 6],\n",
    "    'target': [0, 1, 0]\n",
    "})\n",
    "\n",
    "# 使用函数分离特征和目标\n",
    "features, target = split_target(data, 'target')\n",
    "l = len(features.columns)\n",
    "iv = np.zeros(l)\n",
    "toad.IV(features[features.columns[0]], target = target)"
   ],
   "id": "4daa5e83c1ec76e5",
   "outputs": [
    {
     "data": {
      "text/plain": [
       "1.0397207708399179"
      ]
     },
     "execution_count": 16,
     "metadata": {},
     "output_type": "execute_result"
    }
   ],
   "execution_count": 16
  },
  {
   "metadata": {
    "ExecuteTime": {
     "end_time": "2024-04-26T09:35:15.901021Z",
     "start_time": "2024-04-26T09:35:15.893026Z"
    }
   },
   "cell_type": "code",
   "source": "features",
   "id": "initial_id",
   "outputs": [
    {
     "data": {
      "text/plain": [
       "   feature1  feature2\n",
       "0         1         4\n",
       "1         2         5\n",
       "2         3         6"
      ],
      "text/html": [
       "<div>\n",
       "<style scoped>\n",
       "    .dataframe tbody tr th:only-of-type {\n",
       "        vertical-align: middle;\n",
       "    }\n",
       "\n",
       "    .dataframe tbody tr th {\n",
       "        vertical-align: top;\n",
       "    }\n",
       "\n",
       "    .dataframe thead th {\n",
       "        text-align: right;\n",
       "    }\n",
       "</style>\n",
       "<table border=\"1\" class=\"dataframe\">\n",
       "  <thead>\n",
       "    <tr style=\"text-align: right;\">\n",
       "      <th></th>\n",
       "      <th>feature1</th>\n",
       "      <th>feature2</th>\n",
       "    </tr>\n",
       "  </thead>\n",
       "  <tbody>\n",
       "    <tr>\n",
       "      <th>0</th>\n",
       "      <td>1</td>\n",
       "      <td>4</td>\n",
       "    </tr>\n",
       "    <tr>\n",
       "      <th>1</th>\n",
       "      <td>2</td>\n",
       "      <td>5</td>\n",
       "    </tr>\n",
       "    <tr>\n",
       "      <th>2</th>\n",
       "      <td>3</td>\n",
       "      <td>6</td>\n",
       "    </tr>\n",
       "  </tbody>\n",
       "</table>\n",
       "</div>"
      ]
     },
     "execution_count": 10,
     "metadata": {},
     "output_type": "execute_result"
    }
   ],
   "execution_count": 10
  },
  {
   "metadata": {
    "ExecuteTime": {
     "end_time": "2024-04-26T09:35:19.604312Z",
     "start_time": "2024-04-26T09:35:19.599768Z"
    }
   },
   "cell_type": "code",
   "source": "target",
   "id": "81e6850eb98d2f",
   "outputs": [
    {
     "data": {
      "text/plain": [
       "0    0\n",
       "1    1\n",
       "2    0\n",
       "Name: target, dtype: int64"
      ]
     },
     "execution_count": 11,
     "metadata": {},
     "output_type": "execute_result"
    }
   ],
   "execution_count": 11
  },
  {
   "metadata": {
    "ExecuteTime": {
     "end_time": "2024-04-28T05:52:10.682854Z",
     "start_time": "2024-04-28T05:51:43.977374Z"
    }
   },
   "cell_type": "code",
   "source": [
    "test = [0.006269,\n",
    "        0.014850,\n",
    "        0.008696,\n",
    "        0.040207,\n",
    "        0.014850,\n",
    "        0.027609,\n",
    "        0.018358,\n",
    "        0.009661,\n",
    "        0.007415,\n",
    "        0.037911,\n",
    "        0.022179\n",
    "        ]\n",
    "base = [0.009254,\n",
    "        0.031424,\n",
    "        0.009661,\n",
    "        0.011507,\n",
    "        0.024254,\n",
    "        0.014850,\n",
    "        0.005598,\n",
    "        0.008325\n",
    "        ]\n",
    "\n",
    "\n",
    "def _PSI(test, base):\n",
    "    test_prop = pd.Series(test).value_counts(normalize = True, dropna = False)\n",
    "    base_prop = pd.Series(base).value_counts(normalize = True, dropna = False)\n",
    "\n",
    "    psi = np.sum((test_prop - base_prop) * np.log(test_prop / base_prop))\n",
    "\n",
    "    frame = pd.DataFrame({\n",
    "        'test': test_prop,\n",
    "        'base': base_prop,\n",
    "    })\n",
    "    frame.index.name = 'value'\n",
    "\n",
    "    return psi, frame.reset_index()\n",
    "_PSI(test,base)\n",
    "# iv = np.zeros(l)"
   ],
   "id": "e95ca2b0fa4c93e4",
   "outputs": [
    {
     "data": {
      "text/plain": [
       "(0.03214577773366656,\n",
       "        value      test   base\n",
       " 0   0.005598       NaN  0.125\n",
       " 1   0.006269  0.090909    NaN\n",
       " 2   0.007415  0.090909    NaN\n",
       " 3   0.008325       NaN  0.125\n",
       " 4   0.008696  0.090909    NaN\n",
       " 5   0.009254       NaN  0.125\n",
       " 6   0.009661  0.090909  0.125\n",
       " 7   0.011507       NaN  0.125\n",
       " 8   0.014850  0.181818  0.125\n",
       " 9   0.018358  0.090909    NaN\n",
       " 10  0.022179  0.090909    NaN\n",
       " 11  0.024254       NaN  0.125\n",
       " 12  0.027609  0.090909    NaN\n",
       " 13  0.031424       NaN  0.125\n",
       " 14  0.037911  0.090909    NaN\n",
       " 15  0.040207  0.090909    NaN)"
      ]
     },
     "execution_count": 5,
     "metadata": {},
     "output_type": "execute_result"
    }
   ],
   "execution_count": 5
  },
  {
   "metadata": {},
   "cell_type": "code",
   "outputs": [],
   "execution_count": null,
   "source": "\n",
   "id": "1f8d4e14af9af4f3"
  }
 ],
 "metadata": {
  "kernelspec": {
   "display_name": "Python 3",
   "language": "python",
   "name": "python3"
  },
  "language_info": {
   "codemirror_mode": {
    "name": "ipython",
    "version": 2
   },
   "file_extension": ".py",
   "mimetype": "text/x-python",
   "name": "python",
   "nbconvert_exporter": "python",
   "pygments_lexer": "ipython2",
   "version": "2.7.6"
  }
 },
 "nbformat": 4,
 "nbformat_minor": 5
}
