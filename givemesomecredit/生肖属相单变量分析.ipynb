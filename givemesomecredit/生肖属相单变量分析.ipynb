{
 "cells": [
  {
   "cell_type": "code",
   "execution_count": 30,
   "metadata": {
    "pycharm": {
     "name": "#%%\n"
    }
   },
   "outputs": [],
   "source": [
    "import pandas as pd\n",
    "import numpy as np\n",
    "import seaborn as sns\n"
   ]
  },
  {
   "cell_type": "code",
   "execution_count": 16,
   "outputs": [
    {
     "data": {
      "text/plain": "   order_id  overdue_days  label chinese_zodiac zodiac\n0         1             0      0              狗    巨蟹座\n1         2             1      0              蛇    摩羯座\n2         3             0      0              马    处女座\n3         4             0      0              猴    狮子座\n4         5             0      0              兔    处女座",
      "text/html": "<div>\n<style scoped>\n    .dataframe tbody tr th:only-of-type {\n        vertical-align: middle;\n    }\n\n    .dataframe tbody tr th {\n        vertical-align: top;\n    }\n\n    .dataframe thead th {\n        text-align: right;\n    }\n</style>\n<table border=\"1\" class=\"dataframe\">\n  <thead>\n    <tr style=\"text-align: right;\">\n      <th></th>\n      <th>order_id</th>\n      <th>overdue_days</th>\n      <th>label</th>\n      <th>chinese_zodiac</th>\n      <th>zodiac</th>\n    </tr>\n  </thead>\n  <tbody>\n    <tr>\n      <th>0</th>\n      <td>1</td>\n      <td>0</td>\n      <td>0</td>\n      <td>狗</td>\n      <td>巨蟹座</td>\n    </tr>\n    <tr>\n      <th>1</th>\n      <td>2</td>\n      <td>1</td>\n      <td>0</td>\n      <td>蛇</td>\n      <td>摩羯座</td>\n    </tr>\n    <tr>\n      <th>2</th>\n      <td>3</td>\n      <td>0</td>\n      <td>0</td>\n      <td>马</td>\n      <td>处女座</td>\n    </tr>\n    <tr>\n      <th>3</th>\n      <td>4</td>\n      <td>0</td>\n      <td>0</td>\n      <td>猴</td>\n      <td>狮子座</td>\n    </tr>\n    <tr>\n      <th>4</th>\n      <td>5</td>\n      <td>0</td>\n      <td>0</td>\n      <td>兔</td>\n      <td>处女座</td>\n    </tr>\n  </tbody>\n</table>\n</div>"
     },
     "execution_count": 16,
     "metadata": {},
     "output_type": "execute_result"
    }
   ],
   "source": [
    "# 文件修改了 把两个文件合并成一个，由于只有label文件，所以随机生产了 2列 （生肖，星座）\n",
    "zodiac_label = pd.read_csv(\"../data/7月第二课/zodiac_label_modify.csv\",encoding=\"gbk\")\n",
    "zodiac_label.head()"
   ],
   "metadata": {
    "collapsed": false,
    "pycharm": {
     "name": "#%%\n"
    }
   }
  },
  {
   "cell_type": "code",
   "execution_count": 17,
   "outputs": [
    {
     "data": {
      "text/plain": "           order_id  overdue_days         label\ncount  43432.000000  43432.000000  43432.000000\nmean   21716.500000      3.650350      0.145952\nstd    12537.882782      9.698836      0.386678\nmin        1.000000      0.000000      0.000000\n25%    10858.750000      0.000000      0.000000\n50%    21716.500000      0.000000      0.000000\n75%    32574.250000      1.000000      0.000000\nmax    43432.000000     44.000000      2.000000",
      "text/html": "<div>\n<style scoped>\n    .dataframe tbody tr th:only-of-type {\n        vertical-align: middle;\n    }\n\n    .dataframe tbody tr th {\n        vertical-align: top;\n    }\n\n    .dataframe thead th {\n        text-align: right;\n    }\n</style>\n<table border=\"1\" class=\"dataframe\">\n  <thead>\n    <tr style=\"text-align: right;\">\n      <th></th>\n      <th>order_id</th>\n      <th>overdue_days</th>\n      <th>label</th>\n    </tr>\n  </thead>\n  <tbody>\n    <tr>\n      <th>count</th>\n      <td>43432.000000</td>\n      <td>43432.000000</td>\n      <td>43432.000000</td>\n    </tr>\n    <tr>\n      <th>mean</th>\n      <td>21716.500000</td>\n      <td>3.650350</td>\n      <td>0.145952</td>\n    </tr>\n    <tr>\n      <th>std</th>\n      <td>12537.882782</td>\n      <td>9.698836</td>\n      <td>0.386678</td>\n    </tr>\n    <tr>\n      <th>min</th>\n      <td>1.000000</td>\n      <td>0.000000</td>\n      <td>0.000000</td>\n    </tr>\n    <tr>\n      <th>25%</th>\n      <td>10858.750000</td>\n      <td>0.000000</td>\n      <td>0.000000</td>\n    </tr>\n    <tr>\n      <th>50%</th>\n      <td>21716.500000</td>\n      <td>0.000000</td>\n      <td>0.000000</td>\n    </tr>\n    <tr>\n      <th>75%</th>\n      <td>32574.250000</td>\n      <td>1.000000</td>\n      <td>0.000000</td>\n    </tr>\n    <tr>\n      <th>max</th>\n      <td>43432.000000</td>\n      <td>44.000000</td>\n      <td>2.000000</td>\n    </tr>\n  </tbody>\n</table>\n</div>"
     },
     "execution_count": 17,
     "metadata": {},
     "output_type": "execute_result"
    }
   ],
   "source": [
    "zodiac_label.describe()"
   ],
   "metadata": {
    "collapsed": false,
    "pycharm": {
     "name": "#%%\n"
    }
   }
  },
  {
   "cell_type": "code",
   "execution_count": 22,
   "outputs": [
    {
     "data": {
      "text/plain": "0    37633\n1     5259\n2      540\nName: label, dtype: int64"
     },
     "execution_count": 22,
     "metadata": {},
     "output_type": "execute_result"
    }
   ],
   "source": [
    "# 发现label有2的数据，不合理,剔除label=2的数据\n",
    "zodiac_label['label'].value_counts().sort_index()"
   ],
   "metadata": {
    "collapsed": false,
    "pycharm": {
     "name": "#%%\n"
    }
   }
  },
  {
   "cell_type": "code",
   "execution_count": 24,
   "outputs": [
    {
     "data": {
      "text/plain": "0    37633\n1     5259\nName: label, dtype: int64"
     },
     "execution_count": 24,
     "metadata": {},
     "output_type": "execute_result"
    }
   ],
   "source": [
    "ft_label = zodiac_label[zodiac_label['label'] != 2]\n",
    "ft_label['label'].value_counts().sort_index()"
   ],
   "metadata": {
    "collapsed": false,
    "pycharm": {
     "name": "#%%\n"
    }
   }
  },
  {
   "cell_type": "markdown",
   "source": [
    "badrate = bad/toal"
   ],
   "metadata": {
    "collapsed": false,
    "pycharm": {
     "name": "#%% md\n"
    }
   }
  },
  {
   "cell_type": "code",
   "execution_count": 25,
   "outputs": [
    {
     "data": {
      "text/plain": "兔    3596\n牛    3513\n狗    3537\n猪    3544\n猴    3605\n羊    3591\n虎    3573\n蛇    3546\n马    3575\n鸡    3526\n鼠    3674\n龙    3612\nName: chinese_zodiac, dtype: int64"
     },
     "execution_count": 25,
     "metadata": {},
     "output_type": "execute_result"
    }
   ],
   "source": [
    "ft_label['chinese_zodiac'].value_counts().sort_index()"
   ],
   "metadata": {
    "collapsed": false,
    "pycharm": {
     "name": "#%%\n"
    }
   }
  },
  {
   "cell_type": "code",
   "execution_count": 26,
   "outputs": [
    {
     "data": {
      "text/plain": "双子座    3563\n双鱼座    3624\n处女座    3456\n天秤座    3612\n天蝎座    3558\n射手座    3583\n巨蟹座    3592\n摩羯座    3539\n水瓶座    3621\n狮子座    3651\n白羊座    3611\n金牛座    3482\nName: zodiac, dtype: int64"
     },
     "execution_count": 26,
     "metadata": {},
     "output_type": "execute_result"
    }
   ],
   "source": [
    "ft_label['zodiac'].value_counts().sort_index()"
   ],
   "metadata": {
    "collapsed": false,
    "pycharm": {
     "name": "#%%\n"
    }
   }
  },
  {
   "cell_type": "code",
   "execution_count": 31,
   "outputs": [
    {
     "name": "stdout",
     "output_type": "stream",
     "text": [
      "Default Rate: 0.12261027697472722\n"
     ]
    },
    {
     "data": {
      "text/plain": "<Figure size 432x288 with 1 Axes>",
      "image/png": "[encoded data removed]"
     },
     "metadata": {},
     "output_type": "display_data"
    }
   ],
   "source": [
    "# 总体逾期率\n",
    "sns.countplot(x=\"label\", data=ft_label)\n",
    "print(\"Default Rate: {}\".format(ft_label[\"label\"].sum() / len(ft_label)))"
   ],
   "metadata": {
    "collapsed": false,
    "pycharm": {
     "name": "#%%\n"
    }
   }
  },
  {
   "cell_type": "code",
   "execution_count": 70,
   "outputs": [],
   "source": [
    "\n",
    "#星座 计算每个星座的逾期率\n",
    "zodiac_list = set(ft_label.zodiac)\n",
    "zodiac_badrate = {}\n",
    "for x in zodiac_list:\n",
    "    a = ft_label[ft_label.zodiac == x]\n",
    "    bad = a[a.label == 1]['label'].count()\n",
    "    good = a[a.label == 0]['label'].count()\n",
    "    zodiac_badrate[x] = bad/(bad+good)"
   ],
   "metadata": {
    "collapsed": false,
    "pycharm": {
     "name": "#%%\n"
    }
   }
  },
  {
   "cell_type": "code",
   "execution_count": 71,
   "outputs": [
    {
     "data": {
      "text/plain": "{'射手座': 0.12112754674853475,\n '狮子座': 0.12188441522870447,\n '处女座': 0.12268518518518519,\n '巨蟹座': 0.11497772828507795,\n '双鱼座': 0.11892935982339956,\n '水瓶座': 0.1231703949185308,\n '白羊座': 0.1254500138465799,\n '双子座': 0.123210777434746,\n '摩羯座': 0.1299802204012433,\n '金牛座': 0.1234922458357266,\n '天蝎座': 0.12703766160764474,\n '天秤座': 0.11960132890365449}"
     },
     "execution_count": 71,
     "metadata": {},
     "output_type": "execute_result"
    }
   ],
   "source": [
    "zodiac_badrate"
   ],
   "metadata": {
    "collapsed": false,
    "pycharm": {
     "name": "#%%\n"
    }
   }
  },
  {
   "cell_type": "code",
   "execution_count": 72,
   "outputs": [
    {
     "data": {
      "text/plain": "     星座   badrate\n0   摩羯座  0.129980\n1   天蝎座  0.127038\n2   白羊座  0.125450\n3   金牛座  0.123492\n4   双子座  0.123211\n5   水瓶座  0.123170\n6   处女座  0.122685\n7   狮子座  0.121884\n8   射手座  0.121128\n9   天秤座  0.119601\n10  双鱼座  0.118929\n11  巨蟹座  0.114978",
      "text/html": "<div>\n<style scoped>\n    .dataframe tbody tr th:only-of-type {\n        vertical-align: middle;\n    }\n\n    .dataframe tbody tr th {\n        vertical-align: top;\n    }\n\n    .dataframe thead th {\n        text-align: right;\n    }\n</style>\n<table border=\"1\" class=\"dataframe\">\n  <thead>\n    <tr style=\"text-align: right;\">\n      <th></th>\n      <th>星座</th>\n      <th>badrate</th>\n    </tr>\n  </thead>\n  <tbody>\n    <tr>\n      <th>0</th>\n      <td>摩羯座</td>\n      <td>0.129980</td>\n    </tr>\n    <tr>\n      <th>1</th>\n      <td>天蝎座</td>\n      <td>0.127038</td>\n    </tr>\n    <tr>\n      <th>2</th>\n      <td>白羊座</td>\n      <td>0.125450</td>\n    </tr>\n    <tr>\n      <th>3</th>\n      <td>金牛座</td>\n      <td>0.123492</td>\n    </tr>\n    <tr>\n      <th>4</th>\n      <td>双子座</td>\n      <td>0.123211</td>\n    </tr>\n    <tr>\n      <th>5</th>\n      <td>水瓶座</td>\n      <td>0.123170</td>\n    </tr>\n    <tr>\n      <th>6</th>\n      <td>处女座</td>\n      <td>0.122685</td>\n    </tr>\n    <tr>\n      <th>7</th>\n      <td>狮子座</td>\n      <td>0.121884</td>\n    </tr>\n    <tr>\n      <th>8</th>\n      <td>射手座</td>\n      <td>0.121128</td>\n    </tr>\n    <tr>\n      <th>9</th>\n      <td>天秤座</td>\n      <td>0.119601</td>\n    </tr>\n    <tr>\n      <th>10</th>\n      <td>双鱼座</td>\n      <td>0.118929</td>\n    </tr>\n    <tr>\n      <th>11</th>\n      <td>巨蟹座</td>\n      <td>0.114978</td>\n    </tr>\n  </tbody>\n</table>\n</div>"
     },
     "execution_count": 72,
     "metadata": {},
     "output_type": "execute_result"
    }
   ],
   "source": [
    "f = zip(zodiac_badrate.keys(),zodiac_badrate.values())\n",
    "f = sorted(f,key = lambda x : x[1],reverse = True )\n",
    "zodiac_badrate = pd.DataFrame(f)\n",
    "zodiac_badrate.columns = pd.Series(['星座','badrate'])\n",
    "zodiac_badrate"
   ],
   "metadata": {
    "collapsed": false,
    "pycharm": {
     "name": "#%%\n"
    }
   }
  },
  {
   "cell_type": "code",
   "execution_count": 73,
   "outputs": [
    {
     "data": {
      "text/plain": "<AxesSubplot:xlabel='星座', ylabel='badrate'>"
     },
     "execution_count": 73,
     "metadata": {},
     "output_type": "execute_result"
    },
    {
     "name": "stderr",
     "output_type": "stream",
     "text": [
      "/Users/xuhuan/opt/anaconda3/envs/Ai-python/lib/python3.6/site-packages/matplotlib/backends/backend_agg.py:238: RuntimeWarning: Glyph 25705 missing from current font.\n",
      "  font.set_text(s, 0.0, flags=flags)\n",
      "/Users/xuhuan/opt/anaconda3/envs/Ai-python/lib/python3.6/site-packages/matplotlib/backends/backend_agg.py:238: RuntimeWarning: Glyph 32687 missing from current font.\n",
      "  font.set_text(s, 0.0, flags=flags)\n",
      "/Users/xuhuan/opt/anaconda3/envs/Ai-python/lib/python3.6/site-packages/matplotlib/backends/backend_agg.py:238: RuntimeWarning: Glyph 24231 missing from current font.\n",
      "  font.set_text(s, 0.0, flags=flags)\n",
      "/Users/xuhuan/opt/anaconda3/envs/Ai-python/lib/python3.6/site-packages/matplotlib/backends/backend_agg.py:238: RuntimeWarning: Glyph 22825 missing from current font.\n",
      "  font.set_text(s, 0.0, flags=flags)\n",
      "/Users/xuhuan/opt/anaconda3/envs/Ai-python/lib/python3.6/site-packages/matplotlib/backends/backend_agg.py:238: RuntimeWarning: Glyph 34638 missing from current font.\n",
      "  font.set_text(s, 0.0, flags=flags)\n",
      "/Users/xuhuan/opt/anaconda3/envs/Ai-python/lib/python3.6/site-packages/matplotlib/backends/backend_agg.py:238: RuntimeWarning: Glyph 30333 missing from current font.\n",
      "  font.set_text(s, 0.0, flags=flags)\n",
      "/Users/xuhuan/opt/anaconda3/envs/Ai-python/lib/python3.6/site-packages/matplotlib/backends/backend_agg.py:238: RuntimeWarning: Glyph 32650 missing from current font.\n",
      "  font.set_text(s, 0.0, flags=flags)\n",
      "/Users/xuhuan/opt/anaconda3/envs/Ai-python/lib/python3.6/site-packages/matplotlib/backends/backend_agg.py:238: RuntimeWarning: Glyph 37329 missing from current font.\n",
      "  font.set_text(s, 0.0, flags=flags)\n",
      "/Users/xuhuan/opt/anaconda3/envs/Ai-python/lib/python3.6/site-packages/matplotlib/backends/backend_agg.py:238: RuntimeWarning: Glyph 29275 missing from current font.\n",
      "  font.set_text(s, 0.0, flags=flags)\n",
      "/Users/xuhuan/opt/anaconda3/envs/Ai-python/lib/python3.6/site-packages/matplotlib/backends/backend_agg.py:238: RuntimeWarning: Glyph 21452 missing from current font.\n",
      "  font.set_text(s, 0.0, flags=flags)\n",
      "/Users/xuhuan/opt/anaconda3/envs/Ai-python/lib/python3.6/site-packages/matplotlib/backends/backend_agg.py:238: RuntimeWarning: Glyph 23376 missing from current font.\n",
      "  font.set_text(s, 0.0, flags=flags)\n",
      "/Users/xuhuan/opt/anaconda3/envs/Ai-python/lib/python3.6/site-packages/matplotlib/backends/backend_agg.py:238: RuntimeWarning: Glyph 27700 missing from current font.\n",
      "  font.set_text(s, 0.0, flags=flags)\n",
      "/Users/xuhuan/opt/anaconda3/envs/Ai-python/lib/python3.6/site-packages/matplotlib/backends/backend_agg.py:238: RuntimeWarning: Glyph 29942 missing from current font.\n",
      "  font.set_text(s, 0.0, flags=flags)\n",
      "/Users/xuhuan/opt/anaconda3/envs/Ai-python/lib/python3.6/site-packages/matplotlib/backends/backend_agg.py:238: RuntimeWarning: Glyph 22788 missing from current font.\n",
      "  font.set_text(s, 0.0, flags=flags)\n",
      "/Users/xuhuan/opt/anaconda3/envs/Ai-python/lib/python3.6/site-packages/matplotlib/backends/backend_agg.py:238: RuntimeWarning: Glyph 22899 missing from current font.\n",
      "  font.set_text(s, 0.0, flags=flags)\n",
      "/Users/xuhuan/opt/anaconda3/envs/Ai-python/lib/python3.6/site-packages/matplotlib/backends/backend_agg.py:238: RuntimeWarning: Glyph 29422 missing from current font.\n",
      "  font.set_text(s, 0.0, flags=flags)\n",
      "/Users/xuhuan/opt/anaconda3/envs/Ai-python/lib/python3.6/site-packages/matplotlib/backends/backend_agg.py:238: RuntimeWarning: Glyph 23556 missing from current font.\n",
      "  font.set_text(s, 0.0, flags=flags)\n",
      "/Users/xuhuan/opt/anaconda3/envs/Ai-python/lib/python3.6/site-packages/matplotlib/backends/backend_agg.py:238: RuntimeWarning: Glyph 25163 missing from current font.\n",
      "  font.set_text(s, 0.0, flags=flags)\n",
      "/Users/xuhuan/opt/anaconda3/envs/Ai-python/lib/python3.6/site-packages/matplotlib/backends/backend_agg.py:238: RuntimeWarning: Glyph 31204 missing from current font.\n",
      "  font.set_text(s, 0.0, flags=flags)\n",
      "/Users/xuhuan/opt/anaconda3/envs/Ai-python/lib/python3.6/site-packages/matplotlib/backends/backend_agg.py:238: RuntimeWarning: Glyph 40060 missing from current font.\n",
      "  font.set_text(s, 0.0, flags=flags)\n",
      "/Users/xuhuan/opt/anaconda3/envs/Ai-python/lib/python3.6/site-packages/matplotlib/backends/backend_agg.py:238: RuntimeWarning: Glyph 24040 missing from current font.\n",
      "  font.set_text(s, 0.0, flags=flags)\n",
      "/Users/xuhuan/opt/anaconda3/envs/Ai-python/lib/python3.6/site-packages/matplotlib/backends/backend_agg.py:238: RuntimeWarning: Glyph 34809 missing from current font.\n",
      "  font.set_text(s, 0.0, flags=flags)\n",
      "/Users/xuhuan/opt/anaconda3/envs/Ai-python/lib/python3.6/site-packages/matplotlib/backends/backend_agg.py:238: RuntimeWarning: Glyph 26143 missing from current font.\n",
      "  font.set_text(s, 0.0, flags=flags)\n",
      "/Users/xuhuan/opt/anaconda3/envs/Ai-python/lib/python3.6/site-packages/matplotlib/backends/backend_agg.py:201: RuntimeWarning: Glyph 25705 missing from current font.\n",
      "  font.set_text(s, 0, flags=flags)\n",
      "/Users/xuhuan/opt/anaconda3/envs/Ai-python/lib/python3.6/site-packages/matplotlib/backends/backend_agg.py:201: RuntimeWarning: Glyph 32687 missing from current font.\n",
      "  font.set_text(s, 0, flags=flags)\n",
      "/Users/xuhuan/opt/anaconda3/envs/Ai-python/lib/python3.6/site-packages/matplotlib/backends/backend_agg.py:201: RuntimeWarning: Glyph 24231 missing from current font.\n",
      "  font.set_text(s, 0, flags=flags)\n",
      "/Users/xuhuan/opt/anaconda3/envs/Ai-python/lib/python3.6/site-packages/matplotlib/backends/backend_agg.py:201: RuntimeWarning: Glyph 22825 missing from current font.\n",
      "  font.set_text(s, 0, flags=flags)\n",
      "/Users/xuhuan/opt/anaconda3/envs/Ai-python/lib/python3.6/site-packages/matplotlib/backends/backend_agg.py:201: RuntimeWarning: Glyph 34638 missing from current font.\n",
      "  font.set_text(s, 0, flags=flags)\n",
      "/Users/xuhuan/opt/anaconda3/envs/Ai-python/lib/python3.6/site-packages/matplotlib/backends/backend_agg.py:201: RuntimeWarning: Glyph 30333 missing from current font.\n",
      "  font.set_text(s, 0, flags=flags)\n",
      "/Users/xuhuan/opt/anaconda3/envs/Ai-python/lib/python3.6/site-packages/matplotlib/backends/backend_agg.py:201: RuntimeWarning: Glyph 32650 missing from current font.\n",
      "  font.set_text(s, 0, flags=flags)\n",
      "/Users/xuhuan/opt/anaconda3/envs/Ai-python/lib/python3.6/site-packages/matplotlib/backends/backend_agg.py:201: RuntimeWarning: Glyph 37329 missing from current font.\n",
      "  font.set_text(s, 0, flags=flags)\n",
      "/Users/xuhuan/opt/anaconda3/envs/Ai-python/lib/python3.6/site-packages/matplotlib/backends/backend_agg.py:201: RuntimeWarning: Glyph 29275 missing from current font.\n",
      "  font.set_text(s, 0, flags=flags)\n",
      "/Users/xuhuan/opt/anaconda3/envs/Ai-python/lib/python3.6/site-packages/matplotlib/backends/backend_agg.py:201: RuntimeWarning: Glyph 21452 missing from current font.\n",
      "  font.set_text(s, 0, flags=flags)\n",
      "/Users/xuhuan/opt/anaconda3/envs/Ai-python/lib/python3.6/site-packages/matplotlib/backends/backend_agg.py:201: RuntimeWarning: Glyph 23376 missing from current font.\n",
      "  font.set_text(s, 0, flags=flags)\n",
      "/Users/xuhuan/opt/anaconda3/envs/Ai-python/lib/python3.6/site-packages/matplotlib/backends/backend_agg.py:201: RuntimeWarning: Glyph 27700 missing from current font.\n",
      "  font.set_text(s, 0, flags=flags)\n",
      "/Users/xuhuan/opt/anaconda3/envs/Ai-python/lib/python3.6/site-packages/matplotlib/backends/backend_agg.py:201: RuntimeWarning: Glyph 29942 missing from current font.\n",
      "  font.set_text(s, 0, flags=flags)\n",
      "/Users/xuhuan/opt/anaconda3/envs/Ai-python/lib/python3.6/site-packages/matplotlib/backends/backend_agg.py:201: RuntimeWarning: Glyph 22788 missing from current font.\n",
      "  font.set_text(s, 0, flags=flags)\n",
      "/Users/xuhuan/opt/anaconda3/envs/Ai-python/lib/python3.6/site-packages/matplotlib/backends/backend_agg.py:201: RuntimeWarning: Glyph 22899 missing from current font.\n",
      "  font.set_text(s, 0, flags=flags)\n",
      "/Users/xuhuan/opt/anaconda3/envs/Ai-python/lib/python3.6/site-packages/matplotlib/backends/backend_agg.py:201: RuntimeWarning: Glyph 29422 missing from current font.\n",
      "  font.set_text(s, 0, flags=flags)\n",
      "/Users/xuhuan/opt/anaconda3/envs/Ai-python/lib/python3.6/site-packages/matplotlib/backends/backend_agg.py:201: RuntimeWarning: Glyph 23556 missing from current font.\n",
      "  font.set_text(s, 0, flags=flags)\n",
      "/Users/xuhuan/opt/anaconda3/envs/Ai-python/lib/python3.6/site-packages/matplotlib/backends/backend_agg.py:201: RuntimeWarning: Glyph 25163 missing from current font.\n",
      "  font.set_text(s, 0, flags=flags)\n",
      "/Users/xuhuan/opt/anaconda3/envs/Ai-python/lib/python3.6/site-packages/matplotlib/backends/backend_agg.py:201: RuntimeWarning: Glyph 31204 missing from current font.\n",
      "  font.set_text(s, 0, flags=flags)\n",
      "/Users/xuhuan/opt/anaconda3/envs/Ai-python/lib/python3.6/site-packages/matplotlib/backends/backend_agg.py:201: RuntimeWarning: Glyph 40060 missing from current font.\n",
      "  font.set_text(s, 0, flags=flags)\n",
      "/Users/xuhuan/opt/anaconda3/envs/Ai-python/lib/python3.6/site-packages/matplotlib/backends/backend_agg.py:201: RuntimeWarning: Glyph 24040 missing from current font.\n",
      "  font.set_text(s, 0, flags=flags)\n",
      "/Users/xuhuan/opt/anaconda3/envs/Ai-python/lib/python3.6/site-packages/matplotlib/backends/backend_agg.py:201: RuntimeWarning: Glyph 34809 missing from current font.\n",
      "  font.set_text(s, 0, flags=flags)\n",
      "/Users/xuhuan/opt/anaconda3/envs/Ai-python/lib/python3.6/site-packages/matplotlib/backends/backend_agg.py:201: RuntimeWarning: Glyph 26143 missing from current font.\n",
      "  font.set_text(s, 0, flags=flags)\n"
     ]
    },
    {
     "data": {
      "text/plain": "<Figure size 432x288 with 1 Axes>",
      "image/png": "[encoded data removed]"
     },
     "metadata": {},
     "output_type": "display_data"
    }
   ],
   "source": [
    "\n",
    "sns.set(font='SimHei',font_scale=1.5)  # 解决Seaborn中文显示问题并调整字体大小\n",
    "sns.lineplot(x=\"星座\", y=\"badrate\", data=zodiac_badrate)\n"
   ],
   "metadata": {
    "collapsed": false,
    "pycharm": {
     "name": "#%%\n"
    }
   }
  },
  {
   "cell_type": "code",
   "execution_count": 75,
   "outputs": [],
   "source": [
    "from pyecharts.charts import Line\n",
    "\n",
    "x = zodiac_badrate['星座']\n",
    "y = zodiac_badrate['badrate']\n",
    "# line = Line(\"折线图\",\"一年的降水量与蒸发量\")\n",
    "# line.add(\"降水量\", x, y, is_label_show=True)\n",
    "# line.render('pyecharts-line.html') # 生成一个名为pyecharts-line.html的网页文件，打开网页就是下图\n",
    "\n",
    "line2=(\n",
    "    Line()\n",
    "    .add_xaxis(x)\n",
    "    .add_yaxis('badrate',y)\n",
    ")\n",
    "# line2.render('pyecharts-line.html')\n",
    "# line2.load_javascript()\n",
    "# line2.render_notebook()"
   ],
   "metadata": {
    "collapsed": false,
    "pycharm": {
     "name": "#%%\n"
    }
   }
  },
  {
   "cell_type": "code",
   "execution_count": null,
   "outputs": [],
   "source": [],
   "metadata": {
    "collapsed": false,
    "pycharm": {
     "name": "#%%\n"
    }
   }
  }
 ],
 "metadata": {
  "kernelspec": {
   "display_name": "Python 3",
   "language": "python",
   "name": "python3"
  },
  "language_info": {
   "codemirror_mode": {
    "name": "ipython",
    "version": 3
   },
   "file_extension": ".py",
   "mimetype": "text/x-python",
   "name": "python",
   "nbconvert_exporter": "python",
   "pygments_lexer": "ipython3",
   "version": "3.6.13"
  }
 },
 "nbformat": 4,
 "nbformat_minor": 2
}