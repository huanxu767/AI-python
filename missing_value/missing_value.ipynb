{
 "cells": [
  {
   "cell_type": "code",
   "execution_count": 16,
   "outputs": [],
   "source": [
    "import pandas as pd\n",
    "from sklearn.impute import SimpleImputer"
   ],
   "metadata": {
    "collapsed": false,
    "pycharm": {
     "name": "#%%\n"
    }
   }
  },
  {
   "cell_type": "code",
   "execution_count": 3,
   "outputs": [
    {
     "data": {
      "text/plain": "   PassengerId  Survived  Pclass  \\\n0            1         0       3   \n1            2         1       1   \n2            3         1       3   \n3            4         1       1   \n4            5         0       3   \n\n                                                Name     Sex   Age  SibSp  \\\n0                            Braund, Mr. Owen Harris    male  22.0      1   \n1  Cumings, Mrs. John Bradley (Florence Briggs Th...  female  38.0      1   \n2                             Heikkinen, Miss. Laina  female  26.0      0   \n3       Futrelle, Mrs. Jacques Heath (Lily May Peel)  female  35.0      1   \n4                           Allen, Mr. William Henry    male  35.0      0   \n\n   Parch            Ticket     Fare Cabin Embarked  \n0      0         A/5 21171   7.2500   NaN        S  \n1      0          PC 17599  71.2833   C85        C  \n2      0  STON/O2. 3101282   7.9250   NaN        S  \n3      0            113803  53.1000  C123        S  \n4      0            373450   8.0500   NaN        S  ",
      "text/html": "<div>\n<style scoped>\n    .dataframe tbody tr th:only-of-type {\n        vertical-align: middle;\n    }\n\n    .dataframe tbody tr th {\n        vertical-align: top;\n    }\n\n    .dataframe thead th {\n        text-align: right;\n    }\n</style>\n<table border=\"1\" class=\"dataframe\">\n  <thead>\n    <tr style=\"text-align: right;\">\n      <th></th>\n      <th>PassengerId</th>\n      <th>Survived</th>\n      <th>Pclass</th>\n      <th>Name</th>\n      <th>Sex</th>\n      <th>Age</th>\n      <th>SibSp</th>\n      <th>Parch</th>\n      <th>Ticket</th>\n      <th>Fare</th>\n      <th>Cabin</th>\n      <th>Embarked</th>\n    </tr>\n  </thead>\n  <tbody>\n    <tr>\n      <th>0</th>\n      <td>1</td>\n      <td>0</td>\n      <td>3</td>\n      <td>Braund, Mr. Owen Harris</td>\n      <td>male</td>\n      <td>22.0</td>\n      <td>1</td>\n      <td>0</td>\n      <td>A/5 21171</td>\n      <td>7.2500</td>\n      <td>NaN</td>\n      <td>S</td>\n    </tr>\n    <tr>\n      <th>1</th>\n      <td>2</td>\n      <td>1</td>\n      <td>1</td>\n      <td>Cumings, Mrs. John Bradley (Florence Briggs Th...</td>\n      <td>female</td>\n      <td>38.0</td>\n      <td>1</td>\n      <td>0</td>\n      <td>PC 17599</td>\n      <td>71.2833</td>\n      <td>C85</td>\n      <td>C</td>\n    </tr>\n    <tr>\n      <th>2</th>\n      <td>3</td>\n      <td>1</td>\n      <td>3</td>\n      <td>Heikkinen, Miss. Laina</td>\n      <td>female</td>\n      <td>26.0</td>\n      <td>0</td>\n      <td>0</td>\n      <td>STON/O2. 3101282</td>\n      <td>7.9250</td>\n      <td>NaN</td>\n      <td>S</td>\n    </tr>\n    <tr>\n      <th>3</th>\n      <td>4</td>\n      <td>1</td>\n      <td>1</td>\n      <td>Futrelle, Mrs. Jacques Heath (Lily May Peel)</td>\n      <td>female</td>\n      <td>35.0</td>\n      <td>1</td>\n      <td>0</td>\n      <td>113803</td>\n      <td>53.1000</td>\n      <td>C123</td>\n      <td>S</td>\n    </tr>\n    <tr>\n      <th>4</th>\n      <td>5</td>\n      <td>0</td>\n      <td>3</td>\n      <td>Allen, Mr. William Henry</td>\n      <td>male</td>\n      <td>35.0</td>\n      <td>0</td>\n      <td>0</td>\n      <td>373450</td>\n      <td>8.0500</td>\n      <td>NaN</td>\n      <td>S</td>\n    </tr>\n  </tbody>\n</table>\n</div>"
     },
     "execution_count": 3,
     "metadata": {},
     "output_type": "execute_result"
    }
   ],
   "source": [
    "data = pd.read_csv(\"../data/titanic/train.csv\")\n",
    "data.head()"
   ],
   "metadata": {
    "collapsed": false,
    "pycharm": {
     "name": "#%%\n"
    }
   }
  },
  {
   "cell_type": "code",
   "execution_count": 7,
   "outputs": [],
   "source": [
    "# 只保留 Age,sex,Embarked 3列\n",
    "# Age 数值型\n",
    "# Sex 字符型\n",
    "# Embarked 字符型\n",
    "short_data = data[['Age','Sex','Embarked']]"
   ],
   "metadata": {
    "collapsed": false,
    "pycharm": {
     "name": "#%%\n"
    }
   }
  },
  {
   "cell_type": "code",
   "execution_count": 13,
   "outputs": [
    {
     "name": "stdout",
     "output_type": "stream",
     "text": [
      "<class 'pandas.core.frame.DataFrame'>\n",
      "RangeIndex: 891 entries, 0 to 890\n",
      "Data columns (total 3 columns):\n",
      " #   Column    Non-Null Count  Dtype  \n",
      "---  ------    --------------  -----  \n",
      " 0   Age       714 non-null    float64\n",
      " 1   Sex       891 non-null    object \n",
      " 2   Embarked  889 non-null    object \n",
      "dtypes: float64(1), object(2)\n",
      "memory usage: 21.0+ KB\n"
     ]
    }
   ],
   "source": [
    "short_data.info()"
   ],
   "metadata": {
    "collapsed": false,
    "pycharm": {
     "name": "#%%\n"
    }
   }
  },
  {
   "cell_type": "code",
   "execution_count": 33,
   "outputs": [
    {
     "data": {
      "text/plain": "array([[22.  ],\n       [38.  ],\n       [26.  ],\n       [35.  ],\n       [35.  ],\n       [  nan],\n       [54.  ],\n       [ 2.  ],\n       [27.  ],\n       [14.  ],\n       [ 4.  ],\n       [58.  ],\n       [20.  ],\n       [39.  ],\n       [14.  ],\n       [55.  ],\n       [ 2.  ],\n       [  nan],\n       [31.  ],\n       [  nan],\n       [35.  ],\n       [34.  ],\n       [15.  ],\n       [28.  ],\n       [ 8.  ],\n       [38.  ],\n       [  nan],\n       [19.  ],\n       [  nan],\n       [  nan],\n       [40.  ],\n       [  nan],\n       [  nan],\n       [66.  ],\n       [28.  ],\n       [42.  ],\n       [  nan],\n       [21.  ],\n       [18.  ],\n       [14.  ],\n       [40.  ],\n       [27.  ],\n       [  nan],\n       [ 3.  ],\n       [19.  ],\n       [  nan],\n       [  nan],\n       [  nan],\n       [  nan],\n       [18.  ],\n       [ 7.  ],\n       [21.  ],\n       [49.  ],\n       [29.  ],\n       [65.  ],\n       [  nan],\n       [21.  ],\n       [28.5 ],\n       [ 5.  ],\n       [11.  ],\n       [22.  ],\n       [38.  ],\n       [45.  ],\n       [ 4.  ],\n       [  nan],\n       [  nan],\n       [29.  ],\n       [19.  ],\n       [17.  ],\n       [26.  ],\n       [32.  ],\n       [16.  ],\n       [21.  ],\n       [26.  ],\n       [32.  ],\n       [25.  ],\n       [  nan],\n       [  nan],\n       [ 0.83],\n       [30.  ],\n       [22.  ],\n       [29.  ],\n       [  nan],\n       [28.  ],\n       [17.  ],\n       [33.  ],\n       [16.  ],\n       [  nan],\n       [23.  ],\n       [24.  ],\n       [29.  ],\n       [20.  ],\n       [46.  ],\n       [26.  ],\n       [59.  ],\n       [  nan],\n       [71.  ],\n       [23.  ],\n       [34.  ],\n       [34.  ],\n       [28.  ],\n       [  nan],\n       [21.  ],\n       [33.  ],\n       [37.  ],\n       [28.  ],\n       [21.  ],\n       [  nan],\n       [38.  ],\n       [  nan],\n       [47.  ],\n       [14.5 ],\n       [22.  ],\n       [20.  ],\n       [17.  ],\n       [21.  ],\n       [70.5 ],\n       [29.  ],\n       [24.  ],\n       [ 2.  ],\n       [21.  ],\n       [  nan],\n       [32.5 ],\n       [32.5 ],\n       [54.  ],\n       [12.  ],\n       [  nan],\n       [24.  ],\n       [  nan],\n       [45.  ],\n       [33.  ],\n       [20.  ],\n       [47.  ],\n       [29.  ],\n       [25.  ],\n       [23.  ],\n       [19.  ],\n       [37.  ],\n       [16.  ],\n       [24.  ],\n       [  nan],\n       [22.  ],\n       [24.  ],\n       [19.  ],\n       [18.  ],\n       [19.  ],\n       [27.  ],\n       [ 9.  ],\n       [36.5 ],\n       [42.  ],\n       [51.  ],\n       [22.  ],\n       [55.5 ],\n       [40.5 ],\n       [  nan],\n       [51.  ],\n       [16.  ],\n       [30.  ],\n       [  nan],\n       [  nan],\n       [44.  ],\n       [40.  ],\n       [26.  ],\n       [17.  ],\n       [ 1.  ],\n       [ 9.  ],\n       [  nan],\n       [45.  ],\n       [  nan],\n       [28.  ],\n       [61.  ],\n       [ 4.  ],\n       [ 1.  ],\n       [21.  ],\n       [56.  ],\n       [18.  ],\n       [  nan],\n       [50.  ],\n       [30.  ],\n       [36.  ],\n       [  nan],\n       [  nan],\n       [ 9.  ],\n       [ 1.  ],\n       [ 4.  ],\n       [  nan],\n       [  nan],\n       [45.  ],\n       [40.  ],\n       [36.  ],\n       [32.  ],\n       [19.  ],\n       [19.  ],\n       [ 3.  ],\n       [44.  ],\n       [58.  ],\n       [  nan],\n       [42.  ],\n       [  nan],\n       [24.  ],\n       [28.  ],\n       [  nan],\n       [34.  ],\n       [45.5 ],\n       [18.  ],\n       [ 2.  ],\n       [32.  ],\n       [26.  ],\n       [16.  ],\n       [40.  ],\n       [24.  ],\n       [35.  ],\n       [22.  ],\n       [30.  ],\n       [  nan],\n       [31.  ],\n       [27.  ],\n       [42.  ],\n       [32.  ],\n       [30.  ],\n       [16.  ],\n       [27.  ],\n       [51.  ],\n       [  nan],\n       [38.  ],\n       [22.  ],\n       [19.  ],\n       [20.5 ],\n       [18.  ],\n       [  nan],\n       [35.  ],\n       [29.  ],\n       [59.  ],\n       [ 5.  ],\n       [24.  ],\n       [  nan],\n       [44.  ],\n       [ 8.  ],\n       [19.  ],\n       [33.  ],\n       [  nan],\n       [  nan],\n       [29.  ],\n       [22.  ],\n       [30.  ],\n       [44.  ],\n       [25.  ],\n       [24.  ],\n       [37.  ],\n       [54.  ],\n       [  nan],\n       [29.  ],\n       [62.  ],\n       [30.  ],\n       [41.  ],\n       [29.  ],\n       [  nan],\n       [30.  ],\n       [35.  ],\n       [50.  ],\n       [  nan],\n       [ 3.  ],\n       [52.  ],\n       [40.  ],\n       [  nan],\n       [36.  ],\n       [16.  ],\n       [25.  ],\n       [58.  ],\n       [35.  ],\n       [  nan],\n       [25.  ],\n       [41.  ],\n       [37.  ],\n       [  nan],\n       [63.  ],\n       [45.  ],\n       [  nan],\n       [ 7.  ],\n       [35.  ],\n       [65.  ],\n       [28.  ],\n       [16.  ],\n       [19.  ],\n       [  nan],\n       [33.  ],\n       [30.  ],\n       [22.  ],\n       [42.  ],\n       [22.  ],\n       [26.  ],\n       [19.  ],\n       [36.  ],\n       [24.  ],\n       [24.  ],\n       [  nan],\n       [23.5 ],\n       [ 2.  ],\n       [  nan],\n       [50.  ],\n       [  nan],\n       [  nan],\n       [19.  ],\n       [  nan],\n       [  nan],\n       [ 0.92],\n       [  nan],\n       [17.  ],\n       [30.  ],\n       [30.  ],\n       [24.  ],\n       [18.  ],\n       [26.  ],\n       [28.  ],\n       [43.  ],\n       [26.  ],\n       [24.  ],\n       [54.  ],\n       [31.  ],\n       [40.  ],\n       [22.  ],\n       [27.  ],\n       [30.  ],\n       [22.  ],\n       [  nan],\n       [36.  ],\n       [61.  ],\n       [36.  ],\n       [31.  ],\n       [16.  ],\n       [  nan],\n       [45.5 ],\n       [38.  ],\n       [16.  ],\n       [  nan],\n       [  nan],\n       [29.  ],\n       [41.  ],\n       [45.  ],\n       [45.  ],\n       [ 2.  ],\n       [24.  ],\n       [28.  ],\n       [25.  ],\n       [36.  ],\n       [24.  ],\n       [40.  ],\n       [  nan],\n       [ 3.  ],\n       [42.  ],\n       [23.  ],\n       [  nan],\n       [15.  ],\n       [25.  ],\n       [  nan],\n       [28.  ],\n       [22.  ],\n       [38.  ],\n       [  nan],\n       [  nan],\n       [40.  ],\n       [29.  ],\n       [45.  ],\n       [35.  ],\n       [  nan],\n       [30.  ],\n       [60.  ],\n       [  nan],\n       [  nan],\n       [24.  ],\n       [25.  ],\n       [18.  ],\n       [19.  ],\n       [22.  ],\n       [ 3.  ],\n       [  nan],\n       [22.  ],\n       [27.  ],\n       [20.  ],\n       [19.  ],\n       [42.  ],\n       [ 1.  ],\n       [32.  ],\n       [35.  ],\n       [  nan],\n       [18.  ],\n       [ 1.  ],\n       [36.  ],\n       [  nan],\n       [17.  ],\n       [36.  ],\n       [21.  ],\n       [28.  ],\n       [23.  ],\n       [24.  ],\n       [22.  ],\n       [31.  ],\n       [46.  ],\n       [23.  ],\n       [28.  ],\n       [39.  ],\n       [26.  ],\n       [21.  ],\n       [28.  ],\n       [20.  ],\n       [34.  ],\n       [51.  ],\n       [ 3.  ],\n       [21.  ],\n       [  nan],\n       [  nan],\n       [  nan],\n       [33.  ],\n       [  nan],\n       [44.  ],\n       [  nan],\n       [34.  ],\n       [18.  ],\n       [30.  ],\n       [10.  ],\n       [  nan],\n       [21.  ],\n       [29.  ],\n       [28.  ],\n       [18.  ],\n       [  nan],\n       [28.  ],\n       [19.  ],\n       [  nan],\n       [32.  ],\n       [28.  ],\n       [  nan],\n       [42.  ],\n       [17.  ],\n       [50.  ],\n       [14.  ],\n       [21.  ],\n       [24.  ],\n       [64.  ],\n       [31.  ],\n       [45.  ],\n       [20.  ],\n       [25.  ],\n       [28.  ],\n       [  nan],\n       [ 4.  ],\n       [13.  ],\n       [34.  ],\n       [ 5.  ],\n       [52.  ],\n       [36.  ],\n       [  nan],\n       [30.  ],\n       [49.  ],\n       [  nan],\n       [29.  ],\n       [65.  ],\n       [  nan],\n       [50.  ],\n       [  nan],\n       [48.  ],\n       [34.  ],\n       [47.  ],\n       [48.  ],\n       [  nan],\n       [38.  ],\n       [  nan],\n       [56.  ],\n       [  nan],\n       [ 0.75],\n       [  nan],\n       [38.  ],\n       [33.  ],\n       [23.  ],\n       [22.  ],\n       [  nan],\n       [34.  ],\n       [29.  ],\n       [22.  ],\n       [ 2.  ],\n       [ 9.  ],\n       [  nan],\n       [50.  ],\n       [63.  ],\n       [25.  ],\n       [  nan],\n       [35.  ],\n       [58.  ],\n       [30.  ],\n       [ 9.  ],\n       [  nan],\n       [21.  ],\n       [55.  ],\n       [71.  ],\n       [21.  ],\n       [  nan],\n       [54.  ],\n       [  nan],\n       [25.  ],\n       [24.  ],\n       [17.  ],\n       [21.  ],\n       [  nan],\n       [37.  ],\n       [16.  ],\n       [18.  ],\n       [33.  ],\n       [  nan],\n       [28.  ],\n       [26.  ],\n       [29.  ],\n       [  nan],\n       [36.  ],\n       [54.  ],\n       [24.  ],\n       [47.  ],\n       [34.  ],\n       [  nan],\n       [36.  ],\n       [32.  ],\n       [30.  ],\n       [22.  ],\n       [  nan],\n       [44.  ],\n       [  nan],\n       [40.5 ],\n       [50.  ],\n       [  nan],\n       [39.  ],\n       [23.  ],\n       [ 2.  ],\n       [  nan],\n       [17.  ],\n       [  nan],\n       [30.  ],\n       [ 7.  ],\n       [45.  ],\n       [30.  ],\n       [  nan],\n       [22.  ],\n       [36.  ],\n       [ 9.  ],\n       [11.  ],\n       [32.  ],\n       [50.  ],\n       [64.  ],\n       [19.  ],\n       [  nan],\n       [33.  ],\n       [ 8.  ],\n       [17.  ],\n       [27.  ],\n       [  nan],\n       [22.  ],\n       [22.  ],\n       [62.  ],\n       [48.  ],\n       [  nan],\n       [39.  ],\n       [36.  ],\n       [  nan],\n       [40.  ],\n       [28.  ],\n       [  nan],\n       [  nan],\n       [24.  ],\n       [19.  ],\n       [29.  ],\n       [  nan],\n       [32.  ],\n       [62.  ],\n       [53.  ],\n       [36.  ],\n       [  nan],\n       [16.  ],\n       [19.  ],\n       [34.  ],\n       [39.  ],\n       [  nan],\n       [32.  ],\n       [25.  ],\n       [39.  ],\n       [54.  ],\n       [36.  ],\n       [  nan],\n       [18.  ],\n       [47.  ],\n       [60.  ],\n       [22.  ],\n       [  nan],\n       [35.  ],\n       [52.  ],\n       [47.  ],\n       [  nan],\n       [37.  ],\n       [36.  ],\n       [  nan],\n       [49.  ],\n       [  nan],\n       [49.  ],\n       [24.  ],\n       [  nan],\n       [  nan],\n       [44.  ],\n       [35.  ],\n       [36.  ],\n       [30.  ],\n       [27.  ],\n       [22.  ],\n       [40.  ],\n       [39.  ],\n       [  nan],\n       [  nan],\n       [  nan],\n       [35.  ],\n       [24.  ],\n       [34.  ],\n       [26.  ],\n       [ 4.  ],\n       [26.  ],\n       [27.  ],\n       [42.  ],\n       [20.  ],\n       [21.  ],\n       [21.  ],\n       [61.  ],\n       [57.  ],\n       [21.  ],\n       [26.  ],\n       [  nan],\n       [80.  ],\n       [51.  ],\n       [32.  ],\n       [  nan],\n       [ 9.  ],\n       [28.  ],\n       [32.  ],\n       [31.  ],\n       [41.  ],\n       [  nan],\n       [20.  ],\n       [24.  ],\n       [ 2.  ],\n       [  nan],\n       [ 0.75],\n       [48.  ],\n       [19.  ],\n       [56.  ],\n       [  nan],\n       [23.  ],\n       [  nan],\n       [18.  ],\n       [21.  ],\n       [  nan],\n       [18.  ],\n       [24.  ],\n       [  nan],\n       [32.  ],\n       [23.  ],\n       [58.  ],\n       [50.  ],\n       [40.  ],\n       [47.  ],\n       [36.  ],\n       [20.  ],\n       [32.  ],\n       [25.  ],\n       [  nan],\n       [43.  ],\n       [  nan],\n       [40.  ],\n       [31.  ],\n       [70.  ],\n       [31.  ],\n       [  nan],\n       [18.  ],\n       [24.5 ],\n       [18.  ],\n       [43.  ],\n       [36.  ],\n       [  nan],\n       [27.  ],\n       [20.  ],\n       [14.  ],\n       [60.  ],\n       [25.  ],\n       [14.  ],\n       [19.  ],\n       [18.  ],\n       [15.  ],\n       [31.  ],\n       [ 4.  ],\n       [  nan],\n       [25.  ],\n       [60.  ],\n       [52.  ],\n       [44.  ],\n       [  nan],\n       [49.  ],\n       [42.  ],\n       [18.  ],\n       [35.  ],\n       [18.  ],\n       [25.  ],\n       [26.  ],\n       [39.  ],\n       [45.  ],\n       [42.  ],\n       [22.  ],\n       [  nan],\n       [24.  ],\n       [  nan],\n       [48.  ],\n       [29.  ],\n       [52.  ],\n       [19.  ],\n       [38.  ],\n       [27.  ],\n       [  nan],\n       [33.  ],\n       [ 6.  ],\n       [17.  ],\n       [34.  ],\n       [50.  ],\n       [27.  ],\n       [20.  ],\n       [30.  ],\n       [  nan],\n       [25.  ],\n       [25.  ],\n       [29.  ],\n       [11.  ],\n       [  nan],\n       [23.  ],\n       [23.  ],\n       [28.5 ],\n       [48.  ],\n       [35.  ],\n       [  nan],\n       [  nan],\n       [  nan],\n       [36.  ],\n       [21.  ],\n       [24.  ],\n       [31.  ],\n       [70.  ],\n       [16.  ],\n       [30.  ],\n       [19.  ],\n       [31.  ],\n       [ 4.  ],\n       [ 6.  ],\n       [33.  ],\n       [23.  ],\n       [48.  ],\n       [ 0.67],\n       [28.  ],\n       [18.  ],\n       [34.  ],\n       [33.  ],\n       [  nan],\n       [41.  ],\n       [20.  ],\n       [36.  ],\n       [16.  ],\n       [51.  ],\n       [  nan],\n       [30.5 ],\n       [  nan],\n       [32.  ],\n       [24.  ],\n       [48.  ],\n       [57.  ],\n       [  nan],\n       [54.  ],\n       [18.  ],\n       [  nan],\n       [ 5.  ],\n       [  nan],\n       [43.  ],\n       [13.  ],\n       [17.  ],\n       [29.  ],\n       [  nan],\n       [25.  ],\n       [25.  ],\n       [18.  ],\n       [ 8.  ],\n       [ 1.  ],\n       [46.  ],\n       [  nan],\n       [16.  ],\n       [  nan],\n       [  nan],\n       [25.  ],\n       [39.  ],\n       [49.  ],\n       [31.  ],\n       [30.  ],\n       [30.  ],\n       [34.  ],\n       [31.  ],\n       [11.  ],\n       [ 0.42],\n       [27.  ],\n       [31.  ],\n       [39.  ],\n       [18.  ],\n       [39.  ],\n       [33.  ],\n       [26.  ],\n       [39.  ],\n       [35.  ],\n       [ 6.  ],\n       [30.5 ],\n       [  nan],\n       [23.  ],\n       [31.  ],\n       [43.  ],\n       [10.  ],\n       [52.  ],\n       [27.  ],\n       [38.  ],\n       [27.  ],\n       [ 2.  ],\n       [  nan],\n       [  nan],\n       [ 1.  ],\n       [  nan],\n       [62.  ],\n       [15.  ],\n       [ 0.83],\n       [  nan],\n       [23.  ],\n       [18.  ],\n       [39.  ],\n       [21.  ],\n       [  nan],\n       [32.  ],\n       [  nan],\n       [20.  ],\n       [16.  ],\n       [30.  ],\n       [34.5 ],\n       [17.  ],\n       [42.  ],\n       [  nan],\n       [35.  ],\n       [28.  ],\n       [  nan],\n       [ 4.  ],\n       [74.  ],\n       [ 9.  ],\n       [16.  ],\n       [44.  ],\n       [18.  ],\n       [45.  ],\n       [51.  ],\n       [24.  ],\n       [  nan],\n       [41.  ],\n       [21.  ],\n       [48.  ],\n       [  nan],\n       [24.  ],\n       [42.  ],\n       [27.  ],\n       [31.  ],\n       [  nan],\n       [ 4.  ],\n       [26.  ],\n       [47.  ],\n       [33.  ],\n       [47.  ],\n       [28.  ],\n       [15.  ],\n       [20.  ],\n       [19.  ],\n       [  nan],\n       [56.  ],\n       [25.  ],\n       [33.  ],\n       [22.  ],\n       [28.  ],\n       [25.  ],\n       [39.  ],\n       [27.  ],\n       [19.  ],\n       [  nan],\n       [26.  ],\n       [32.  ]])"
     },
     "execution_count": 33,
     "metadata": {},
     "output_type": "execute_result"
    }
   ],
   "source": [
    "Age = data.loc[:,\"Age\"].values.reshape(-1,1) #sklearn当中特征矩阵必须是二维\n",
    "Age"
   ],
   "metadata": {
    "collapsed": false,
    "pycharm": {
     "name": "#%%\n"
    }
   }
  },
  {
   "cell_type": "code",
   "execution_count": 41,
   "outputs": [
    {
     "name": "stderr",
     "output_type": "stream",
     "text": [
      "/Users/xuhuan/opt/anaconda3/envs/Ai-python/lib/python3.6/site-packages/pandas/core/generic.py:5170: SettingWithCopyWarning: \n",
      "A value is trying to be set on a copy of a slice from a DataFrame.\n",
      "Try using .loc[row_indexer,col_indexer] = value instead\n",
      "\n",
      "See the caveats in the documentation: https://pandas.pydata.org/pandas-docs/stable/user_guide/indexing.html#returning-a-view-versus-a-copy\n",
      "  self[name] = value\n"
     ]
    }
   ],
   "source": [
    "# 使用 平均数 或者中位数 填充Age\n",
    "simple_inputer = SimpleImputer();#默认均值\n",
    "median_inputer = SimpleImputer(strategy=\"median\");#中位数\n",
    "SimpleImputer(strategy=\"constant\",fill_value=0);#用0填补\n",
    "\n",
    "\n",
    "simple_inputer.fit_transform(Age)\n",
    "\n"
   ],
   "metadata": {
    "collapsed": false,
    "pycharm": {
     "name": "#%%\n"
    }
   }
  },
  {
   "cell_type": "code",
   "execution_count": 15,
   "outputs": [],
   "source": [
    "# 使用 众数 填充Embarked"
   ],
   "metadata": {
    "collapsed": false,
    "pycharm": {
     "name": "#%%\n"
    }
   }
  },
  {
   "cell_type": "code",
   "execution_count": 35,
   "outputs": [],
   "source": [
    "#data.loc[:,\"Age\"] = data.loc[:,\"Age\"].fillna(data.loc[:,\"Age\"].median())"
   ],
   "metadata": {
    "collapsed": false,
    "pycharm": {
     "name": "#%%\n"
    }
   }
  },
  {
   "cell_type": "code",
   "execution_count": 39,
   "outputs": [],
   "source": [
    "#data.Age"
   ],
   "metadata": {
    "collapsed": false,
    "pycharm": {
     "name": "#%%\n"
    }
   }
  },
  {
   "cell_type": "code",
   "execution_count": 40,
   "outputs": [
    {
     "data": {
      "text/plain": "      Age     Sex Embarked\n0    22.0    male        S\n1    38.0  female        C\n2    26.0  female        S\n3    35.0  female        S\n4    35.0    male        S\n..    ...     ...      ...\n886  27.0    male        S\n887  19.0  female        S\n888   NaN  female        S\n889  26.0    male        C\n890  32.0    male        Q\n\n[891 rows x 3 columns]",
      "text/html": "<div>\n<style scoped>\n    .dataframe tbody tr th:only-of-type {\n        vertical-align: middle;\n    }\n\n    .dataframe tbody tr th {\n        vertical-align: top;\n    }\n\n    .dataframe thead th {\n        text-align: right;\n    }\n</style>\n<table border=\"1\" class=\"dataframe\">\n  <thead>\n    <tr style=\"text-align: right;\">\n      <th></th>\n      <th>Age</th>\n      <th>Sex</th>\n      <th>Embarked</th>\n    </tr>\n  </thead>\n  <tbody>\n    <tr>\n      <th>0</th>\n      <td>22.0</td>\n      <td>male</td>\n      <td>S</td>\n    </tr>\n    <tr>\n      <th>1</th>\n      <td>38.0</td>\n      <td>female</td>\n      <td>C</td>\n    </tr>\n    <tr>\n      <th>2</th>\n      <td>26.0</td>\n      <td>female</td>\n      <td>S</td>\n    </tr>\n    <tr>\n      <th>3</th>\n      <td>35.0</td>\n      <td>female</td>\n      <td>S</td>\n    </tr>\n    <tr>\n      <th>4</th>\n      <td>35.0</td>\n      <td>male</td>\n      <td>S</td>\n    </tr>\n    <tr>\n      <th>...</th>\n      <td>...</td>\n      <td>...</td>\n      <td>...</td>\n    </tr>\n    <tr>\n      <th>886</th>\n      <td>27.0</td>\n      <td>male</td>\n      <td>S</td>\n    </tr>\n    <tr>\n      <th>887</th>\n      <td>19.0</td>\n      <td>female</td>\n      <td>S</td>\n    </tr>\n    <tr>\n      <th>888</th>\n      <td>NaN</td>\n      <td>female</td>\n      <td>S</td>\n    </tr>\n    <tr>\n      <th>889</th>\n      <td>26.0</td>\n      <td>male</td>\n      <td>C</td>\n    </tr>\n    <tr>\n      <th>890</th>\n      <td>32.0</td>\n      <td>male</td>\n      <td>Q</td>\n    </tr>\n  </tbody>\n</table>\n<p>891 rows × 3 columns</p>\n</div>"
     },
     "execution_count": 40,
     "metadata": {},
     "output_type": "execute_result"
    }
   ],
   "source": [
    "short_data"
   ],
   "metadata": {
    "collapsed": false,
    "pycharm": {
     "name": "#%%\n"
    }
   }
  },
  {
   "cell_type": "code",
   "execution_count": null,
   "outputs": [],
   "source": [],
   "metadata": {
    "collapsed": false,
    "pycharm": {
     "name": "#%%\n"
    }
   }
  }
 ],
 "metadata": {
  "kernelspec": {
   "display_name": "Python 3",
   "language": "python",
   "name": "python3"
  },
  "language_info": {
   "codemirror_mode": {
    "name": "ipython",
    "version": 2
   },
   "file_extension": ".py",
   "mimetype": "text/x-python",
   "name": "python",
   "nbconvert_exporter": "python",
   "pygments_lexer": "ipython2",
   "version": "2.7.6"
  }
 },
 "nbformat": 4,
 "nbformat_minor": 0
}